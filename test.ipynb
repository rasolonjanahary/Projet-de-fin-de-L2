{
 "cells": [
  {
   "cell_type": "code",
   "execution_count": 1,
   "id": "80ad083e",
   "metadata": {},
   "outputs": [],
   "source": [
    "import pandas as pd\n",
    "import matplotlib.pyplot as plt"
   ]
  },
  {
   "cell_type": "code",
   "execution_count": 2,
   "id": "c3932be4",
   "metadata": {},
   "outputs": [
    {
     "data": {
      "text/html": [
       "<div>\n",
       "<style scoped>\n",
       "    .dataframe tbody tr th:only-of-type {\n",
       "        vertical-align: middle;\n",
       "    }\n",
       "\n",
       "    .dataframe tbody tr th {\n",
       "        vertical-align: top;\n",
       "    }\n",
       "\n",
       "    .dataframe thead th {\n",
       "        text-align: right;\n",
       "    }\n",
       "</style>\n",
       "<table border=\"1\" class=\"dataframe\">\n",
       "  <thead>\n",
       "    <tr style=\"text-align: right;\">\n",
       "      <th></th>\n",
       "      <th>Student ID</th>\n",
       "      <th>University ID</th>\n",
       "      <th>University Name</th>\n",
       "      <th>Age</th>\n",
       "      <th>Gender</th>\n",
       "      <th>Major</th>\n",
       "      <th>Year of Study</th>\n",
       "      <th>GPA</th>\n",
       "      <th>High School GPA</th>\n",
       "      <th>Entrance Exam Score</th>\n",
       "      <th>...</th>\n",
       "      <th>Research Involvement</th>\n",
       "      <th>Internship Experience</th>\n",
       "      <th>Peer Reviews</th>\n",
       "      <th>Academic Advising</th>\n",
       "      <th>Learning Style</th>\n",
       "      <th>Study Environment</th>\n",
       "      <th>Core Course Average</th>\n",
       "      <th>Extracurricular Participation</th>\n",
       "      <th>Peer Evaluations</th>\n",
       "      <th>Performance</th>\n",
       "    </tr>\n",
       "  </thead>\n",
       "  <tbody>\n",
       "    <tr>\n",
       "      <th>0</th>\n",
       "      <td>1</td>\n",
       "      <td>86</td>\n",
       "      <td>University C</td>\n",
       "      <td>25</td>\n",
       "      <td>F</td>\n",
       "      <td>EE</td>\n",
       "      <td>1</td>\n",
       "      <td>2.06</td>\n",
       "      <td>3.50</td>\n",
       "      <td>60</td>\n",
       "      <td>...</td>\n",
       "      <td>0</td>\n",
       "      <td>0</td>\n",
       "      <td>61</td>\n",
       "      <td>5</td>\n",
       "      <td>Visual</td>\n",
       "      <td>Good</td>\n",
       "      <td>51</td>\n",
       "      <td>0</td>\n",
       "      <td>83</td>\n",
       "      <td>Satisfactory</td>\n",
       "    </tr>\n",
       "    <tr>\n",
       "      <th>1</th>\n",
       "      <td>2</td>\n",
       "      <td>17</td>\n",
       "      <td>University A</td>\n",
       "      <td>26</td>\n",
       "      <td>F</td>\n",
       "      <td>ME</td>\n",
       "      <td>4</td>\n",
       "      <td>2.12</td>\n",
       "      <td>3.46</td>\n",
       "      <td>52</td>\n",
       "      <td>...</td>\n",
       "      <td>0</td>\n",
       "      <td>1</td>\n",
       "      <td>72</td>\n",
       "      <td>7</td>\n",
       "      <td>Reading/Writing</td>\n",
       "      <td>Excellent</td>\n",
       "      <td>60</td>\n",
       "      <td>0</td>\n",
       "      <td>56</td>\n",
       "      <td>Poor</td>\n",
       "    </tr>\n",
       "    <tr>\n",
       "      <th>2</th>\n",
       "      <td>3</td>\n",
       "      <td>52</td>\n",
       "      <td>University C</td>\n",
       "      <td>20</td>\n",
       "      <td>M</td>\n",
       "      <td>CS</td>\n",
       "      <td>4</td>\n",
       "      <td>2.72</td>\n",
       "      <td>3.33</td>\n",
       "      <td>94</td>\n",
       "      <td>...</td>\n",
       "      <td>0</td>\n",
       "      <td>0</td>\n",
       "      <td>79</td>\n",
       "      <td>2</td>\n",
       "      <td>Auditory</td>\n",
       "      <td>Excellent</td>\n",
       "      <td>65</td>\n",
       "      <td>0</td>\n",
       "      <td>52</td>\n",
       "      <td>Satisfactory</td>\n",
       "    </tr>\n",
       "    <tr>\n",
       "      <th>3</th>\n",
       "      <td>4</td>\n",
       "      <td>91</td>\n",
       "      <td>University A</td>\n",
       "      <td>25</td>\n",
       "      <td>M</td>\n",
       "      <td>ME</td>\n",
       "      <td>1</td>\n",
       "      <td>3.05</td>\n",
       "      <td>3.54</td>\n",
       "      <td>65</td>\n",
       "      <td>...</td>\n",
       "      <td>1</td>\n",
       "      <td>0</td>\n",
       "      <td>50</td>\n",
       "      <td>7</td>\n",
       "      <td>Kinesthetic</td>\n",
       "      <td>Excellent</td>\n",
       "      <td>58</td>\n",
       "      <td>1</td>\n",
       "      <td>65</td>\n",
       "      <td>Needs Improvement</td>\n",
       "    </tr>\n",
       "    <tr>\n",
       "      <th>4</th>\n",
       "      <td>5</td>\n",
       "      <td>33</td>\n",
       "      <td>University C</td>\n",
       "      <td>22</td>\n",
       "      <td>F</td>\n",
       "      <td>CE</td>\n",
       "      <td>3</td>\n",
       "      <td>1.86</td>\n",
       "      <td>3.35</td>\n",
       "      <td>51</td>\n",
       "      <td>...</td>\n",
       "      <td>1</td>\n",
       "      <td>1</td>\n",
       "      <td>68</td>\n",
       "      <td>4</td>\n",
       "      <td>Visual</td>\n",
       "      <td>Poor</td>\n",
       "      <td>62</td>\n",
       "      <td>0</td>\n",
       "      <td>71</td>\n",
       "      <td>Good</td>\n",
       "    </tr>\n",
       "  </tbody>\n",
       "</table>\n",
       "<p>5 rows × 51 columns</p>\n",
       "</div>"
      ],
      "text/plain": [
       "   Student ID  University ID University Name  Age Gender Major  Year of Study  \\\n",
       "0           1             86    University C   25      F    EE              1   \n",
       "1           2             17    University A   26      F    ME              4   \n",
       "2           3             52    University C   20      M    CS              4   \n",
       "3           4             91    University A   25      M    ME              1   \n",
       "4           5             33    University C   22      F    CE              3   \n",
       "\n",
       "    GPA  High School GPA  Entrance Exam Score  ...  Research Involvement  \\\n",
       "0  2.06             3.50                   60  ...                     0   \n",
       "1  2.12             3.46                   52  ...                     0   \n",
       "2  2.72             3.33                   94  ...                     0   \n",
       "3  3.05             3.54                   65  ...                     1   \n",
       "4  1.86             3.35                   51  ...                     1   \n",
       "\n",
       "   Internship Experience  Peer Reviews  Academic Advising   Learning Style  \\\n",
       "0                      0            61                  5           Visual   \n",
       "1                      1            72                  7  Reading/Writing   \n",
       "2                      0            79                  2         Auditory   \n",
       "3                      0            50                  7      Kinesthetic   \n",
       "4                      1            68                  4           Visual   \n",
       "\n",
       "  Study Environment Core Course Average  Extracurricular Participation  \\\n",
       "0              Good                  51                              0   \n",
       "1         Excellent                  60                              0   \n",
       "2         Excellent                  65                              0   \n",
       "3         Excellent                  58                              1   \n",
       "4              Poor                  62                              0   \n",
       "\n",
       "   Peer Evaluations        Performance  \n",
       "0                83       Satisfactory  \n",
       "1                56               Poor  \n",
       "2                52       Satisfactory  \n",
       "3                65  Needs Improvement  \n",
       "4                71               Good  \n",
       "\n",
       "[5 rows x 51 columns]"
      ]
     },
     "execution_count": 2,
     "metadata": {},
     "output_type": "execute_result"
    }
   ],
   "source": [
    "df = pd.read_csv(\"Australian_Student_PerformanceData (ASPD24).csv\")\n",
    "df.head()"
   ]
  },
  {
   "cell_type": "code",
   "execution_count": 3,
   "id": "c859f6b7",
   "metadata": {},
   "outputs": [
    {
     "data": {
      "text/plain": [
       "([<matplotlib.patches.Wedge at 0x215d9c75250>,\n",
       "  <matplotlib.patches.Wedge at 0x215d9c77310>,\n",
       "  <matplotlib.patches.Wedge at 0x215d9c81290>,\n",
       "  <matplotlib.patches.Wedge at 0x215d9c83150>,\n",
       "  <matplotlib.patches.Wedge at 0x215d9c90f50>],\n",
       " [Text(-1.0682263536290522, -0.2624737270897401, 'Satisfactory'),\n",
       "  Text(0.427944236658435, -1.0133428493411445, 'Poor'),\n",
       "  Text(1.0661289105380285, 0.27086739581388636, 'Needs Improvement'),\n",
       "  Text(0.24564556590904701, 1.0722211786516924, 'Good'),\n",
       "  Text(-0.5817883146764261, 0.933553617584959, 'Excellent')],\n",
       " [Text(-0.5826689201613011, -0.14316748750349456, '29.9%'),\n",
       "  Text(0.23342412908641907, -0.5527324632769879, '25.2%'),\n",
       "  Text(0.5815248602934701, 0.1477458522621198, '20.0%'),\n",
       "  Text(0.1339884904958438, 0.5848479156281957, '14.9%'),\n",
       "  Text(-0.31733908073259603, 0.5092110641372503, '10.0%')])"
      ]
     },
     "execution_count": 3,
     "metadata": {},
     "output_type": "execute_result"
    },
    {
     "data": {
      "image/png": "[encoded data removed]",
      "text/plain": [
       "<Figure size 1000x600 with 1 Axes>"
      ]
     },
     "metadata": {},
     "output_type": "display_data"
    }
   ],
   "source": [
    "df[\"Performance\"].value_counts()\n",
    "plt.figure(figsize=(10, 6))\n",
    "plt.pie(df[\"Performance\"].value_counts(), labels=df[\"Performance\"].unique(), autopct='%1.1f%%', startangle=140)"
   ]
  },
  {
   "cell_type": "code",
   "execution_count": 4,
   "id": "7c77672e",
   "metadata": {},
   "outputs": [
    {
     "data": {
      "text/plain": [
       "Index(['Student ID', 'University ID', 'University Name', 'Age', 'Gender',\n",
       "       'Major', 'Year of Study', 'GPA', 'High School GPA',\n",
       "       'Entrance Exam Score', 'Attendance Rate',\n",
       "       'Participation in Extracurricular Activities', 'Part-time Job',\n",
       "       'Hours of Study per Week', 'Family Income', 'Parental Education Level',\n",
       "       'Accommodation Type', 'Distance from Home to University',\n",
       "       'Internet Access at Home', 'Library Usage',\n",
       "       'Access to Academic Resources', 'Health Condition',\n",
       "       'Mental Health Status', 'Scholarship', 'Financial Aid', 'Tutor Support',\n",
       "       'Counseling Services', 'Transportation Mode',\n",
       "       'Hours of Sleep per Night', 'Diet Quality', 'Exercise Frequency',\n",
       "       'Social Integration', 'Peer Support', 'Language Proficiency',\n",
       "       'Use of Online Learning Platforms', 'Class Participation',\n",
       "       'Project/Assignment Scores', 'Midterm Exam Scores', 'Final Exam Scores',\n",
       "       'Attendance at Office Hours', 'Group Work Participation',\n",
       "       'Research Involvement', 'Internship Experience', 'Peer Reviews',\n",
       "       'Academic Advising', 'Learning Style', 'Study Environment',\n",
       "       'Core Course Average', 'Extracurricular Participation',\n",
       "       'Peer Evaluations', 'Performance'],\n",
       "      dtype='object')"
      ]
     },
     "execution_count": 4,
     "metadata": {},
     "output_type": "execute_result"
    }
   ],
   "source": [
    "df.columns"
   ]
  },
  {
   "cell_type": "code",
   "execution_count": 35,
   "id": "a4dcd52e",
   "metadata": {},
   "outputs": [
    {
     "name": "stdout",
     "output_type": "stream",
     "text": [
      "<class 'pandas.core.frame.DataFrame'>\n",
      "RangeIndex: 100256 entries, 0 to 100255\n",
      "Data columns (total 51 columns):\n",
      " #   Column                                       Non-Null Count   Dtype  \n",
      "---  ------                                       --------------   -----  \n",
      " 0   Student ID                                   100256 non-null  int64  \n",
      " 1   University ID                                100256 non-null  int64  \n",
      " 2   University Name                              100256 non-null  object \n",
      " 3   Age                                          100256 non-null  int64  \n",
      " 4   Gender                                       100256 non-null  object \n",
      " 5   Major                                        100256 non-null  object \n",
      " 6   Year of Study                                100256 non-null  int64  \n",
      " 7   GPA                                          100256 non-null  float64\n",
      " 8   High School GPA                              100256 non-null  float64\n",
      " 9   Entrance Exam Score                          100256 non-null  int64  \n",
      " 10  Attendance Rate                              100256 non-null  float64\n",
      " 11  Participation in Extracurricular Activities  100256 non-null  int64  \n",
      " 12  Part-time Job                                100256 non-null  int64  \n",
      " 13  Hours of Study per Week                      100256 non-null  int64  \n",
      " 14  Family Income                                100256 non-null  int64  \n",
      " 15  Parental Education Level                     80290 non-null   object \n",
      " 16  Accommodation Type                           100256 non-null  object \n",
      " 17  Distance from Home to University             100256 non-null  int64  \n",
      " 18  Internet Access at Home                      100256 non-null  int64  \n",
      " 19  Library Usage                                100256 non-null  int64  \n",
      " 20  Access to Academic Resources                 100256 non-null  int64  \n",
      " 21  Health Condition                             100256 non-null  object \n",
      " 22  Mental Health Status                         100256 non-null  object \n",
      " 23  Scholarship                                  100256 non-null  int64  \n",
      " 24  Financial Aid                                100256 non-null  int64  \n",
      " 25  Tutor Support                                100256 non-null  int64  \n",
      " 26  Counseling Services                          100256 non-null  int64  \n",
      " 27  Transportation Mode                          100256 non-null  object \n",
      " 28  Hours of Sleep per Night                     100256 non-null  int64  \n",
      " 29  Diet Quality                                 100256 non-null  object \n",
      " 30  Exercise Frequency                           100256 non-null  int64  \n",
      " 31  Social Integration                           100256 non-null  object \n",
      " 32  Peer Support                                 100256 non-null  int64  \n",
      " 33  Language Proficiency                         100256 non-null  object \n",
      " 34  Use of Online Learning Platforms             100256 non-null  int64  \n",
      " 35  Class Participation                          100256 non-null  object \n",
      " 36  Project/Assignment Scores                    100256 non-null  int64  \n",
      " 37  Midterm Exam Scores                          100256 non-null  int64  \n",
      " 38  Final Exam Scores                            100256 non-null  int64  \n",
      " 39  Attendance at Office Hours                   100256 non-null  int64  \n",
      " 40  Group Work Participation                     100256 non-null  int64  \n",
      " 41  Research Involvement                         100256 non-null  int64  \n",
      " 42  Internship Experience                        100256 non-null  int64  \n",
      " 43  Peer Reviews                                 100256 non-null  int64  \n",
      " 44  Academic Advising                            100256 non-null  int64  \n",
      " 45  Learning Style                               100256 non-null  object \n",
      " 46  Study Environment                            100256 non-null  object \n",
      " 47  Core Course Average                          100256 non-null  int64  \n",
      " 48  Extracurricular Participation                100256 non-null  int64  \n",
      " 49  Peer Evaluations                             100256 non-null  int64  \n",
      " 50  Performance                                  100256 non-null  object \n",
      "dtypes: float64(3), int64(33), object(15)\n",
      "memory usage: 39.0+ MB\n"
     ]
    }
   ],
   "source": [
    "df.info()"
   ]
  },
  {
   "cell_type": "code",
   "execution_count": 34,
   "id": "aa7997f7",
   "metadata": {},
   "outputs": [
    {
     "name": "stdout",
     "output_type": "stream",
     "text": [
      "33\n",
      "3\n",
      "15\n"
     ]
    }
   ],
   "source": [
    "print((df.dtypes == \"int64\").sum())\n",
    "print((df.dtypes == \"float64\").sum())\n",
    "print((df.dtypes == \"object\").sum())"
   ]
  },
  {
   "cell_type": "code",
   "execution_count": 36,
   "id": "b995926c",
   "metadata": {},
   "outputs": [],
   "source": [
    "integer = df.select_dtypes(include=[\"int64\"])\n",
    "float = df.select_dtypes(include=[\"float64\"])\n",
    "object = df.select_dtypes(include=[\"object\"])"
   ]
  },
  {
   "cell_type": "code",
   "execution_count": 38,
   "id": "7d4bccdf",
   "metadata": {},
   "outputs": [
    {
     "name": "stdout",
     "output_type": "stream",
     "text": [
      "<class 'pandas.core.frame.DataFrame'>\n",
      "RangeIndex: 100256 entries, 0 to 100255\n",
      "Data columns (total 33 columns):\n",
      " #   Column                                       Non-Null Count   Dtype\n",
      "---  ------                                       --------------   -----\n",
      " 0   Student ID                                   100256 non-null  int64\n",
      " 1   University ID                                100256 non-null  int64\n",
      " 2   Age                                          100256 non-null  int64\n",
      " 3   Year of Study                                100256 non-null  int64\n",
      " 4   Entrance Exam Score                          100256 non-null  int64\n",
      " 5   Participation in Extracurricular Activities  100256 non-null  int64\n",
      " 6   Part-time Job                                100256 non-null  int64\n",
      " 7   Hours of Study per Week                      100256 non-null  int64\n",
      " 8   Family Income                                100256 non-null  int64\n",
      " 9   Distance from Home to University             100256 non-null  int64\n",
      " 10  Internet Access at Home                      100256 non-null  int64\n",
      " 11  Library Usage                                100256 non-null  int64\n",
      " 12  Access to Academic Resources                 100256 non-null  int64\n",
      " 13  Scholarship                                  100256 non-null  int64\n",
      " 14  Financial Aid                                100256 non-null  int64\n",
      " 15  Tutor Support                                100256 non-null  int64\n",
      " 16  Counseling Services                          100256 non-null  int64\n",
      " 17  Hours of Sleep per Night                     100256 non-null  int64\n",
      " 18  Exercise Frequency                           100256 non-null  int64\n",
      " 19  Peer Support                                 100256 non-null  int64\n",
      " 20  Use of Online Learning Platforms             100256 non-null  int64\n",
      " 21  Project/Assignment Scores                    100256 non-null  int64\n",
      " 22  Midterm Exam Scores                          100256 non-null  int64\n",
      " 23  Final Exam Scores                            100256 non-null  int64\n",
      " 24  Attendance at Office Hours                   100256 non-null  int64\n",
      " 25  Group Work Participation                     100256 non-null  int64\n",
      " 26  Research Involvement                         100256 non-null  int64\n",
      " 27  Internship Experience                        100256 non-null  int64\n",
      " 28  Peer Reviews                                 100256 non-null  int64\n",
      " 29  Academic Advising                            100256 non-null  int64\n",
      " 30  Core Course Average                          100256 non-null  int64\n",
      " 31  Extracurricular Participation                100256 non-null  int64\n",
      " 32  Peer Evaluations                             100256 non-null  int64\n",
      "dtypes: int64(33)\n",
      "memory usage: 25.2 MB\n"
     ]
    }
   ],
   "source": [
    "integer.info()"
   ]
  },
  {
   "cell_type": "code",
   "execution_count": 39,
   "id": "73ba13c3",
   "metadata": {},
   "outputs": [
    {
     "name": "stdout",
     "output_type": "stream",
     "text": [
      "<class 'pandas.core.frame.DataFrame'>\n",
      "RangeIndex: 100256 entries, 0 to 100255\n",
      "Data columns (total 3 columns):\n",
      " #   Column           Non-Null Count   Dtype  \n",
      "---  ------           --------------   -----  \n",
      " 0   GPA              100256 non-null  float64\n",
      " 1   High School GPA  100256 non-null  float64\n",
      " 2   Attendance Rate  100256 non-null  float64\n",
      "dtypes: float64(3)\n",
      "memory usage: 2.3 MB\n"
     ]
    }
   ],
   "source": [
    "float.info()"
   ]
  },
  {
   "cell_type": "code",
   "execution_count": 40,
   "id": "07c8a79b",
   "metadata": {},
   "outputs": [
    {
     "name": "stdout",
     "output_type": "stream",
     "text": [
      "<class 'pandas.core.frame.DataFrame'>\n",
      "RangeIndex: 100256 entries, 0 to 100255\n",
      "Data columns (total 15 columns):\n",
      " #   Column                    Non-Null Count   Dtype \n",
      "---  ------                    --------------   ----- \n",
      " 0   University Name           100256 non-null  object\n",
      " 1   Gender                    100256 non-null  object\n",
      " 2   Major                     100256 non-null  object\n",
      " 3   Parental Education Level  80290 non-null   object\n",
      " 4   Accommodation Type        100256 non-null  object\n",
      " 5   Health Condition          100256 non-null  object\n",
      " 6   Mental Health Status      100256 non-null  object\n",
      " 7   Transportation Mode       100256 non-null  object\n",
      " 8   Diet Quality              100256 non-null  object\n",
      " 9   Social Integration        100256 non-null  object\n",
      " 10  Language Proficiency      100256 non-null  object\n",
      " 11  Class Participation       100256 non-null  object\n",
      " 12  Learning Style            100256 non-null  object\n",
      " 13  Study Environment         100256 non-null  object\n",
      " 14  Performance               100256 non-null  object\n",
      "dtypes: object(15)\n",
      "memory usage: 11.5+ MB\n"
     ]
    }
   ],
   "source": [
    "object.info()"
   ]
  },
  {
   "cell_type": "markdown",
   "id": "f0547828",
   "metadata": {},
   "source": [
    "On peut effacer la colonne Student ID"
   ]
  },
  {
   "cell_type": "code",
   "execution_count": 21,
   "id": "4080cc60",
   "metadata": {},
   "outputs": [
    {
     "data": {
      "text/plain": [
       "<Axes: xlabel='Performance'>"
      ]
     },
     "execution_count": 21,
     "metadata": {},
     "output_type": "execute_result"
    },
    {
     "data": {
      "image/png": "[encoded data removed]",
      "text/plain": [
       "<Figure size 640x480 with 1 Axes>"
      ]
     },
     "metadata": {},
     "output_type": "display_data"
    }
   ],
   "source": [
    "df[\"Performance\"].value_counts().plot(kind='bar', color=['#FF9999', '#66B3FF', '#99FF99'])"
   ]
  },
  {
   "cell_type": "code",
   "execution_count": 42,
   "id": "48e0f94e",
   "metadata": {},
   "outputs": [
    {
     "data": {
      "text/plain": [
       "Performance\n",
       "Satisfactory         29968\n",
       "Needs Improvement    25223\n",
       "Good                 20093\n",
       "Poor                 14908\n",
       "Excellent            10064\n",
       "Name: count, dtype: int64"
      ]
     },
     "execution_count": 42,
     "metadata": {},
     "output_type": "execute_result"
    }
   ],
   "source": [
    "df[\"Performance\"].value_counts()"
   ]
  },
  {
   "cell_type": "code",
   "execution_count": 13,
   "id": "52102577",
   "metadata": {},
   "outputs": [
    {
     "data": {
      "text/plain": [
       "100256"
      ]
     },
     "execution_count": 13,
     "metadata": {},
     "output_type": "execute_result"
    }
   ],
   "source": [
    "df[\"Student ID\"].nunique()"
   ]
  },
  {
   "cell_type": "code",
   "execution_count": 19,
   "id": "9f5cbb7c",
   "metadata": {},
   "outputs": [
    {
     "data": {
      "text/plain": [
       "University Name\n",
       "University B    33516\n",
       "University C    33401\n",
       "University A    33339\n",
       "Name: count, dtype: int64"
      ]
     },
     "execution_count": 19,
     "metadata": {},
     "output_type": "execute_result"
    }
   ],
   "source": [
    "df[\"University Name\"].value_counts()"
   ]
  },
  {
   "cell_type": "code",
   "execution_count": 16,
   "id": "a6a30e3b",
   "metadata": {},
   "outputs": [
    {
     "data": {
      "text/plain": [
       "array([ 86,  17,  52,  91,  33,  10,  41,  45,  88,  15,  43,   4,  26,\n",
       "        50,  20,  23,  93,  92,  35,  49,   7,  51,  79,  72,  82,  70,\n",
       "        62,  36,  78,  37,   9,  30,  71,  99,  84,  94,  18,  47,  61,\n",
       "        38,  46,  66,  11,  65,  96,  80,  69,  32,  22,   3,  74,  39,\n",
       "        64,   1,  19,  89, 100,  77,  56,  81,  40,  59,  57,  24,  34,\n",
       "        73,  29,  21,  53,  16,  58,  31,  28,   5,  97,  76,  48,  75,\n",
       "        12,  90,  54,  13,  68,  60,  95,  67,   8,  14,  55,  98,  42,\n",
       "        63,   2,   6,  83,  27,  25,  85,  44,  87], dtype=int64)"
      ]
     },
     "execution_count": 16,
     "metadata": {},
     "output_type": "execute_result"
    }
   ],
   "source": [
    "df[\"University ID\"].unique()"
   ]
  },
  {
   "cell_type": "code",
   "execution_count": 5,
   "id": "92709cd6",
   "metadata": {},
   "outputs": [
    {
     "data": {
      "text/plain": [
       "(100256, 51)"
      ]
     },
     "execution_count": 5,
     "metadata": {},
     "output_type": "execute_result"
    }
   ],
   "source": [
    "df.shape"
   ]
  },
  {
   "cell_type": "code",
   "execution_count": 6,
   "id": "9f27f586",
   "metadata": {},
   "outputs": [
    {
     "data": {
      "text/plain": [
       "Year of Study                                      0\n",
       "GPA                                                0\n",
       "High School GPA                                    0\n",
       "Entrance Exam Score                                0\n",
       "Attendance Rate                                    0\n",
       "Participation in Extracurricular Activities        0\n",
       "Part-time Job                                      0\n",
       "Hours of Study per Week                            0\n",
       "Family Income                                      0\n",
       "Parental Education Level                       19966\n",
       "Accommodation Type                                 0\n",
       "Distance from Home to University                   0\n",
       "Internet Access at Home                            0\n",
       "Library Usage                                      0\n",
       "Access to Academic Resources                       0\n",
       "Health Condition                                   0\n",
       "Mental Health Status                               0\n",
       "Scholarship                                        0\n",
       "Financial Aid                                      0\n",
       "Tutor Support                                      0\n",
       "Counseling Services                                0\n",
       "Transportation Mode                                0\n",
       "Hours of Sleep per Night                           0\n",
       "Diet Quality                                       0\n",
       "Exercise Frequency                                 0\n",
       "Social Integration                                 0\n",
       "Peer Support                                       0\n",
       "Language Proficiency                               0\n",
       "Use of Online Learning Platforms                   0\n",
       "Class Participation                                0\n",
       "Project/Assignment Scores                          0\n",
       "Midterm Exam Scores                                0\n",
       "Final Exam Scores                                  0\n",
       "Attendance at Office Hours                         0\n",
       "Group Work Participation                           0\n",
       "Research Involvement                               0\n",
       "Internship Experience                              0\n",
       "Peer Reviews                                       0\n",
       "Academic Advising                                  0\n",
       "Learning Style                                     0\n",
       "Study Environment                                  0\n",
       "Core Course Average                                0\n",
       "Extracurricular Participation                      0\n",
       "Peer Evaluations                                   0\n",
       "Performance                                        0\n",
       "dtype: int64"
      ]
     },
     "execution_count": 6,
     "metadata": {},
     "output_type": "execute_result"
    }
   ],
   "source": [
    "df.isna().sum().tail(45)"
   ]
  },
  {
   "cell_type": "code",
   "execution_count": 7,
   "id": "d84aa5dc",
   "metadata": {},
   "outputs": [
    {
     "data": {
      "text/plain": [
       "Parental Education Level\n",
       "Doctorate      20170\n",
       "High School    20084\n",
       "Master         20031\n",
       "Bachelor       20005\n",
       "Name: count, dtype: int64"
      ]
     },
     "execution_count": 7,
     "metadata": {},
     "output_type": "execute_result"
    }
   ],
   "source": [
    "df[\"Parental Education Level\"].value_counts()"
   ]
  },
  {
   "cell_type": "code",
   "execution_count": 8,
   "id": "9e04fb90",
   "metadata": {},
   "outputs": [
    {
     "data": {
      "text/plain": [
       "100246"
      ]
     },
     "execution_count": 8,
     "metadata": {},
     "output_type": "execute_result"
    }
   ],
   "source": [
    "19956 + 20170 + 20084 + 20031 + 20005"
   ]
  },
  {
   "cell_type": "code",
   "execution_count": 9,
   "id": "103c295f",
   "metadata": {},
   "outputs": [
    {
     "data": {
      "text/plain": [
       "5.023351373020645"
      ]
     },
     "execution_count": 9,
     "metadata": {},
     "output_type": "execute_result"
    }
   ],
   "source": [
    "(100246 / 19956)"
   ]
  },
  {
   "cell_type": "markdown",
   "id": "a7a2ae52",
   "metadata": {},
   "source": [
    "Tous les modeles de l'algorithme supervisé"
   ]
  },
  {
   "cell_type": "code",
   "execution_count": 11,
   "id": "8647d131",
   "metadata": {},
   "outputs": [],
   "source": [
    "from sklearn.linear_model import LogisticRegression\n",
    "from sklearn.tree import DecisionTreeRegressor\n",
    "from sklearn.ensemble import RandomForestRegressor\n",
    "from sklearn.svm import SVR"
   ]
  },
  {
   "cell_type": "code",
   "execution_count": 12,
   "id": "400d2cf3",
   "metadata": {},
   "outputs": [
    {
     "data": {
      "text/html": [
       "<div>\n",
       "<style scoped>\n",
       "    .dataframe tbody tr th:only-of-type {\n",
       "        vertical-align: middle;\n",
       "    }\n",
       "\n",
       "    .dataframe tbody tr th {\n",
       "        vertical-align: top;\n",
       "    }\n",
       "\n",
       "    .dataframe thead th {\n",
       "        text-align: right;\n",
       "    }\n",
       "</style>\n",
       "<table border=\"1\" class=\"dataframe\">\n",
       "  <thead>\n",
       "    <tr style=\"text-align: right;\">\n",
       "      <th></th>\n",
       "      <th>ID number</th>\n",
       "      <th>Name</th>\n",
       "      <th>year</th>\n",
       "      <th>ZIP code</th>\n",
       "      <th>Highest degree offered</th>\n",
       "      <th>County name</th>\n",
       "      <th>Longitude location of institution</th>\n",
       "      <th>Latitude location of institution</th>\n",
       "      <th>Religious affiliation</th>\n",
       "      <th>Offers Less than one year certificate</th>\n",
       "      <th>...</th>\n",
       "      <th>Percent of freshmen  receiving federal grant aid</th>\n",
       "      <th>Percent of freshmen receiving Pell grants</th>\n",
       "      <th>Percent of freshmen receiving other federal grant aid</th>\n",
       "      <th>Percent of freshmen receiving state/local grant aid</th>\n",
       "      <th>Percent of freshmen receiving institutional grant aid</th>\n",
       "      <th>Percent of freshmen receiving student loan aid</th>\n",
       "      <th>Percent of freshmen receiving federal student loans</th>\n",
       "      <th>Percent of freshmen receiving other loan aid</th>\n",
       "      <th>Endowment assets (year end) per FTE enrollment (GASB)</th>\n",
       "      <th>Endowment assets (year end) per FTE enrollment (FASB)</th>\n",
       "    </tr>\n",
       "  </thead>\n",
       "  <tbody>\n",
       "    <tr>\n",
       "      <th>0</th>\n",
       "      <td>100654</td>\n",
       "      <td>Alabama A &amp; M University</td>\n",
       "      <td>2013</td>\n",
       "      <td>35762</td>\n",
       "      <td>Doctor's degree - research/scholarship</td>\n",
       "      <td>Madison County</td>\n",
       "      <td>-86.568502</td>\n",
       "      <td>34.783368</td>\n",
       "      <td>Not applicable</td>\n",
       "      <td>Implied no</td>\n",
       "      <td>...</td>\n",
       "      <td>81.0</td>\n",
       "      <td>81.0</td>\n",
       "      <td>7.0</td>\n",
       "      <td>1.0</td>\n",
       "      <td>32.0</td>\n",
       "      <td>89.0</td>\n",
       "      <td>89.0</td>\n",
       "      <td>1.0</td>\n",
       "      <td>NaN</td>\n",
       "      <td>NaN</td>\n",
       "    </tr>\n",
       "    <tr>\n",
       "      <th>1</th>\n",
       "      <td>100663</td>\n",
       "      <td>University of Alabama at Birmingham</td>\n",
       "      <td>2013</td>\n",
       "      <td>35294-0110</td>\n",
       "      <td>Doctor's degree - research/scholarship and pro...</td>\n",
       "      <td>Jefferson County</td>\n",
       "      <td>-86.809170</td>\n",
       "      <td>33.502230</td>\n",
       "      <td>Not applicable</td>\n",
       "      <td>Implied no</td>\n",
       "      <td>...</td>\n",
       "      <td>36.0</td>\n",
       "      <td>36.0</td>\n",
       "      <td>10.0</td>\n",
       "      <td>0.0</td>\n",
       "      <td>60.0</td>\n",
       "      <td>56.0</td>\n",
       "      <td>55.0</td>\n",
       "      <td>5.0</td>\n",
       "      <td>24136.0</td>\n",
       "      <td>NaN</td>\n",
       "    </tr>\n",
       "    <tr>\n",
       "      <th>2</th>\n",
       "      <td>100690</td>\n",
       "      <td>Amridge University</td>\n",
       "      <td>2013</td>\n",
       "      <td>36117-3553</td>\n",
       "      <td>Doctor's degree - research/scholarship and pro...</td>\n",
       "      <td>Montgomery County</td>\n",
       "      <td>-86.174010</td>\n",
       "      <td>32.362609</td>\n",
       "      <td>Churches of Christ</td>\n",
       "      <td>Implied no</td>\n",
       "      <td>...</td>\n",
       "      <td>90.0</td>\n",
       "      <td>90.0</td>\n",
       "      <td>0.0</td>\n",
       "      <td>40.0</td>\n",
       "      <td>90.0</td>\n",
       "      <td>100.0</td>\n",
       "      <td>100.0</td>\n",
       "      <td>0.0</td>\n",
       "      <td>NaN</td>\n",
       "      <td>302.0</td>\n",
       "    </tr>\n",
       "    <tr>\n",
       "      <th>3</th>\n",
       "      <td>100706</td>\n",
       "      <td>University of Alabama in Huntsville</td>\n",
       "      <td>2013</td>\n",
       "      <td>35899</td>\n",
       "      <td>Doctor's degree - research/scholarship and pro...</td>\n",
       "      <td>Madison County</td>\n",
       "      <td>-86.638420</td>\n",
       "      <td>34.722818</td>\n",
       "      <td>Not applicable</td>\n",
       "      <td>Yes</td>\n",
       "      <td>...</td>\n",
       "      <td>31.0</td>\n",
       "      <td>31.0</td>\n",
       "      <td>4.0</td>\n",
       "      <td>1.0</td>\n",
       "      <td>63.0</td>\n",
       "      <td>46.0</td>\n",
       "      <td>46.0</td>\n",
       "      <td>3.0</td>\n",
       "      <td>11502.0</td>\n",
       "      <td>NaN</td>\n",
       "    </tr>\n",
       "    <tr>\n",
       "      <th>4</th>\n",
       "      <td>100724</td>\n",
       "      <td>Alabama State University</td>\n",
       "      <td>2013</td>\n",
       "      <td>36104-0271</td>\n",
       "      <td>Doctor's degree - research/scholarship and pro...</td>\n",
       "      <td>Montgomery County</td>\n",
       "      <td>-86.295677</td>\n",
       "      <td>32.364317</td>\n",
       "      <td>Not applicable</td>\n",
       "      <td>Implied no</td>\n",
       "      <td>...</td>\n",
       "      <td>76.0</td>\n",
       "      <td>76.0</td>\n",
       "      <td>13.0</td>\n",
       "      <td>11.0</td>\n",
       "      <td>34.0</td>\n",
       "      <td>81.0</td>\n",
       "      <td>81.0</td>\n",
       "      <td>0.0</td>\n",
       "      <td>13202.0</td>\n",
       "      <td>NaN</td>\n",
       "    </tr>\n",
       "  </tbody>\n",
       "</table>\n",
       "<p>5 rows × 145 columns</p>\n",
       "</div>"
      ],
      "text/plain": [
       "   ID number                                 Name  year    ZIP code  \\\n",
       "0     100654             Alabama A & M University  2013       35762   \n",
       "1     100663  University of Alabama at Birmingham  2013  35294-0110   \n",
       "2     100690                   Amridge University  2013  36117-3553   \n",
       "3     100706  University of Alabama in Huntsville  2013       35899   \n",
       "4     100724             Alabama State University  2013  36104-0271   \n",
       "\n",
       "                              Highest degree offered        County name  \\\n",
       "0             Doctor's degree - research/scholarship     Madison County   \n",
       "1  Doctor's degree - research/scholarship and pro...   Jefferson County   \n",
       "2  Doctor's degree - research/scholarship and pro...  Montgomery County   \n",
       "3  Doctor's degree - research/scholarship and pro...     Madison County   \n",
       "4  Doctor's degree - research/scholarship and pro...  Montgomery County   \n",
       "\n",
       "   Longitude location of institution  Latitude location of institution  \\\n",
       "0                         -86.568502                         34.783368   \n",
       "1                         -86.809170                         33.502230   \n",
       "2                         -86.174010                         32.362609   \n",
       "3                         -86.638420                         34.722818   \n",
       "4                         -86.295677                         32.364317   \n",
       "\n",
       "  Religious affiliation Offers Less than one year certificate  ...  \\\n",
       "0        Not applicable                            Implied no  ...   \n",
       "1        Not applicable                            Implied no  ...   \n",
       "2    Churches of Christ                            Implied no  ...   \n",
       "3        Not applicable                                   Yes  ...   \n",
       "4        Not applicable                            Implied no  ...   \n",
       "\n",
       "  Percent of freshmen  receiving federal grant aid  \\\n",
       "0                                             81.0   \n",
       "1                                             36.0   \n",
       "2                                             90.0   \n",
       "3                                             31.0   \n",
       "4                                             76.0   \n",
       "\n",
       "  Percent of freshmen receiving Pell grants  \\\n",
       "0                                      81.0   \n",
       "1                                      36.0   \n",
       "2                                      90.0   \n",
       "3                                      31.0   \n",
       "4                                      76.0   \n",
       "\n",
       "  Percent of freshmen receiving other federal grant aid  \\\n",
       "0                                                7.0      \n",
       "1                                               10.0      \n",
       "2                                                0.0      \n",
       "3                                                4.0      \n",
       "4                                               13.0      \n",
       "\n",
       "  Percent of freshmen receiving state/local grant aid  \\\n",
       "0                                                1.0    \n",
       "1                                                0.0    \n",
       "2                                               40.0    \n",
       "3                                                1.0    \n",
       "4                                               11.0    \n",
       "\n",
       "  Percent of freshmen receiving institutional grant aid  \\\n",
       "0                                               32.0      \n",
       "1                                               60.0      \n",
       "2                                               90.0      \n",
       "3                                               63.0      \n",
       "4                                               34.0      \n",
       "\n",
       "  Percent of freshmen receiving student loan aid  \\\n",
       "0                                           89.0   \n",
       "1                                           56.0   \n",
       "2                                          100.0   \n",
       "3                                           46.0   \n",
       "4                                           81.0   \n",
       "\n",
       "  Percent of freshmen receiving federal student loans  \\\n",
       "0                                               89.0    \n",
       "1                                               55.0    \n",
       "2                                              100.0    \n",
       "3                                               46.0    \n",
       "4                                               81.0    \n",
       "\n",
       "  Percent of freshmen receiving other loan aid  \\\n",
       "0                                          1.0   \n",
       "1                                          5.0   \n",
       "2                                          0.0   \n",
       "3                                          3.0   \n",
       "4                                          0.0   \n",
       "\n",
       "  Endowment assets (year end) per FTE enrollment (GASB)  \\\n",
       "0                                                NaN      \n",
       "1                                            24136.0      \n",
       "2                                                NaN      \n",
       "3                                            11502.0      \n",
       "4                                            13202.0      \n",
       "\n",
       "  Endowment assets (year end) per FTE enrollment (FASB)  \n",
       "0                                                NaN     \n",
       "1                                                NaN     \n",
       "2                                              302.0     \n",
       "3                                                NaN     \n",
       "4                                                NaN     \n",
       "\n",
       "[5 rows x 145 columns]"
      ]
     },
     "execution_count": 12,
     "metadata": {},
     "output_type": "execute_result"
    }
   ],
   "source": [
    "data = pd.read_csv(\"IPEDS_data.csv\")\n",
    "data.head()"
   ]
  },
  {
   "cell_type": "code",
   "execution_count": null,
   "id": "1b454f74",
   "metadata": {},
   "outputs": [],
   "source": [
    "data.columns"
   ]
  },
  {
   "cell_type": "code",
   "execution_count": null,
   "id": "8b81b2b4",
   "metadata": {},
   "outputs": [],
   "source": [
    "data.shape"
   ]
  },
  {
   "cell_type": "code",
   "execution_count": null,
   "id": "98ff9455",
   "metadata": {},
   "outputs": [],
   "source": []
  }
 ],
 "metadata": {
  "kernelspec": {
   "display_name": "base",
   "language": "python",
   "name": "python3"
  },
  "language_info": {
   "codemirror_mode": {
    "name": "ipython",
    "version": 3
   },
   "file_extension": ".py",
   "mimetype": "text/x-python",
   "name": "python",
   "nbconvert_exporter": "python",
   "pygments_lexer": "ipython3",
   "version": "3.11.5"
  }
 },
 "nbformat": 4,
 "nbformat_minor": 5
}
