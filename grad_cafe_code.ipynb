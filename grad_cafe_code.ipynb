{
 "cells": [
  {
   "cell_type": "code",
   "execution_count": 1,
   "id": "6a0b9531",
   "metadata": {},
   "outputs": [],
   "source": [
    "import pandas as pd\n",
    "import matplotlib.pyplot as plt\n",
    "import seaborn as sns\n",
    "import numpy as np"
   ]
  },
  {
   "cell_type": "code",
   "execution_count": 2,
   "id": "7dd85819",
   "metadata": {},
   "outputs": [],
   "source": [
    "df = pd.read_csv(\"data/grad_cafe_data.csv\")"
   ]
  },
  {
   "cell_type": "code",
   "execution_count": 86,
   "id": "063cad45",
   "metadata": {},
   "outputs": [
    {
     "data": {
      "text/html": [
       "<div>\n",
       "<style scoped>\n",
       "    .dataframe tbody tr th:only-of-type {\n",
       "        vertical-align: middle;\n",
       "    }\n",
       "\n",
       "    .dataframe tbody tr th {\n",
       "        vertical-align: top;\n",
       "    }\n",
       "\n",
       "    .dataframe thead th {\n",
       "        text-align: right;\n",
       "    }\n",
       "</style>\n",
       "<table border=\"1\" class=\"dataframe\">\n",
       "  <thead>\n",
       "    <tr style=\"text-align: right;\">\n",
       "      <th></th>\n",
       "      <th>school</th>\n",
       "      <th>program</th>\n",
       "      <th>added_on</th>\n",
       "      <th>decision</th>\n",
       "      <th>GPA</th>\n",
       "      <th>GRE</th>\n",
       "      <th>GRE_V</th>\n",
       "      <th>GRE_Q</th>\n",
       "      <th>GRE_AW</th>\n",
       "      <th>TOEFL</th>\n",
       "      <th>IELTS</th>\n",
       "    </tr>\n",
       "  </thead>\n",
       "  <tbody>\n",
       "    <tr>\n",
       "      <th>0</th>\n",
       "      <td>University of Colorado Boulder</td>\n",
       "      <td>Creative Technology and Design</td>\n",
       "      <td>July 17, 2025</td>\n",
       "      <td>Accepted on 6 Mar</td>\n",
       "      <td>NaN</td>\n",
       "      <td>NaN</td>\n",
       "      <td>NaN</td>\n",
       "      <td>NaN</td>\n",
       "      <td>NaN</td>\n",
       "      <td>NaN</td>\n",
       "      <td>NaN</td>\n",
       "    </tr>\n",
       "    <tr>\n",
       "      <th>1</th>\n",
       "      <td>Arizona State University</td>\n",
       "      <td>COmputer</td>\n",
       "      <td>July 17, 2025</td>\n",
       "      <td>Accepted on 17 Jul</td>\n",
       "      <td>2.59</td>\n",
       "      <td>NaN</td>\n",
       "      <td>NaN</td>\n",
       "      <td>NaN</td>\n",
       "      <td>NaN</td>\n",
       "      <td>NaN</td>\n",
       "      <td>NaN</td>\n",
       "    </tr>\n",
       "    <tr>\n",
       "      <th>2</th>\n",
       "      <td>University of Colorado at Denver</td>\n",
       "      <td>Master of Science in Clinical Psychopharmacology</td>\n",
       "      <td>July 16, 2025</td>\n",
       "      <td>Accepted on 16 Jul</td>\n",
       "      <td>NaN</td>\n",
       "      <td>NaN</td>\n",
       "      <td>NaN</td>\n",
       "      <td>NaN</td>\n",
       "      <td>NaN</td>\n",
       "      <td>NaN</td>\n",
       "      <td>NaN</td>\n",
       "    </tr>\n",
       "    <tr>\n",
       "      <th>3</th>\n",
       "      <td>Johns Hopkins University</td>\n",
       "      <td>Computer Science</td>\n",
       "      <td>July 16, 2025</td>\n",
       "      <td>Accepted on 14 Jul</td>\n",
       "      <td>2.40</td>\n",
       "      <td>NaN</td>\n",
       "      <td>NaN</td>\n",
       "      <td>NaN</td>\n",
       "      <td>NaN</td>\n",
       "      <td>NaN</td>\n",
       "      <td>NaN</td>\n",
       "    </tr>\n",
       "    <tr>\n",
       "      <th>4</th>\n",
       "      <td>Hofstra</td>\n",
       "      <td>Speech Language Pathology</td>\n",
       "      <td>July 15, 2025</td>\n",
       "      <td>Accepted on 14 Jan</td>\n",
       "      <td>3.50</td>\n",
       "      <td>NaN</td>\n",
       "      <td>NaN</td>\n",
       "      <td>NaN</td>\n",
       "      <td>NaN</td>\n",
       "      <td>NaN</td>\n",
       "      <td>NaN</td>\n",
       "    </tr>\n",
       "  </tbody>\n",
       "</table>\n",
       "</div>"
      ],
      "text/plain": [
       "                             school  \\\n",
       "0    University of Colorado Boulder   \n",
       "1          Arizona State University   \n",
       "2  University of Colorado at Denver   \n",
       "3          Johns Hopkins University   \n",
       "4                           Hofstra   \n",
       "\n",
       "                                            program       added_on  \\\n",
       "0                    Creative Technology and Design  July 17, 2025   \n",
       "1                                          COmputer  July 17, 2025   \n",
       "2  Master of Science in Clinical Psychopharmacology  July 16, 2025   \n",
       "3                                  Computer Science  July 16, 2025   \n",
       "4                         Speech Language Pathology  July 15, 2025   \n",
       "\n",
       "             decision   GPA  GRE  GRE_V  GRE_Q  GRE_AW  TOEFL  IELTS  \n",
       "0   Accepted on 6 Mar   NaN  NaN    NaN    NaN     NaN    NaN    NaN  \n",
       "1  Accepted on 17 Jul  2.59  NaN    NaN    NaN     NaN    NaN    NaN  \n",
       "2  Accepted on 16 Jul   NaN  NaN    NaN    NaN     NaN    NaN    NaN  \n",
       "3  Accepted on 14 Jul  2.40  NaN    NaN    NaN     NaN    NaN    NaN  \n",
       "4  Accepted on 14 Jan  3.50  NaN    NaN    NaN     NaN    NaN    NaN  "
      ]
     },
     "execution_count": 86,
     "metadata": {},
     "output_type": "execute_result"
    }
   ],
   "source": [
    "df.head()"
   ]
  },
  {
   "cell_type": "code",
   "execution_count": 110,
   "id": "d6f204aa",
   "metadata": {},
   "outputs": [
    {
     "data": {
      "text/plain": [
       "array(['Accepted on 6 Mar', 'Accepted on 17 Jul', 'Accepted on 16 Jul',\n",
       "       ..., 'Wait-Listed on 4 Feb', 'Wait-Listed on 8 Feb',\n",
       "       'Wait-Listed on 30 Nov'], shape=(1220,), dtype=object)"
      ]
     },
     "execution_count": 110,
     "metadata": {},
     "output_type": "execute_result"
    }
   ],
   "source": [
    "df['decision'].unique()"
   ]
  },
  {
   "cell_type": "code",
   "execution_count": 87,
   "id": "24eaf93a",
   "metadata": {},
   "outputs": [
    {
     "data": {
      "text/plain": [
       "school      0.047683\n",
       "program     0.048254\n",
       "added_on    0.047627\n",
       "decision    0.047619\n",
       "GPA         0.711246\n",
       "GRE         0.810960\n",
       "GRE_V       0.815468\n",
       "GRE_Q       1.000000\n",
       "GRE_AW      0.823278\n",
       "TOEFL       1.000000\n",
       "IELTS       1.000000\n",
       "dtype: float64"
      ]
     },
     "execution_count": 87,
     "metadata": {},
     "output_type": "execute_result"
    }
   ],
   "source": [
    "df.isna().sum() / 126000"
   ]
  },
  {
   "cell_type": "code",
   "execution_count": 88,
   "id": "07a22e09",
   "metadata": {},
   "outputs": [],
   "source": [
    "df_clean = df.drop(columns=['GRE_Q' , 'TOEFL' , 'IELTS' , 'added_on'] , axis= 1)"
   ]
  },
  {
   "cell_type": "code",
   "execution_count": 89,
   "id": "acf09cd4",
   "metadata": {},
   "outputs": [
    {
     "data": {
      "text/plain": [
       "school        6008\n",
       "program       6080\n",
       "decision      6000\n",
       "GPA          89617\n",
       "GRE         102181\n",
       "GRE_V       102749\n",
       "GRE_AW      103733\n",
       "dtype: int64"
      ]
     },
     "execution_count": 89,
     "metadata": {},
     "output_type": "execute_result"
    }
   ],
   "source": [
    "df_clean.isna().sum()"
   ]
  },
  {
   "cell_type": "code",
   "execution_count": 90,
   "id": "fb4465e1",
   "metadata": {},
   "outputs": [],
   "source": [
    "df_clean = df_clean.dropna(axis=0)"
   ]
  },
  {
   "cell_type": "code",
   "execution_count": 91,
   "id": "b2cb4232",
   "metadata": {},
   "outputs": [
    {
     "data": {
      "text/plain": [
       "school      0\n",
       "program     0\n",
       "decision    0\n",
       "GPA         0\n",
       "GRE         0\n",
       "GRE_V       0\n",
       "GRE_AW      0\n",
       "dtype: int64"
      ]
     },
     "execution_count": 91,
     "metadata": {},
     "output_type": "execute_result"
    }
   ],
   "source": [
    "df_clean.isna().sum()"
   ]
  },
  {
   "cell_type": "code",
   "execution_count": 92,
   "id": "ac361867",
   "metadata": {},
   "outputs": [
    {
     "name": "stdout",
     "output_type": "stream",
     "text": [
      "<class 'pandas.core.frame.DataFrame'>\n",
      "Index: 19911 entries, 12 to 115954\n",
      "Data columns (total 7 columns):\n",
      " #   Column    Non-Null Count  Dtype  \n",
      "---  ------    --------------  -----  \n",
      " 0   school    19911 non-null  object \n",
      " 1   program   19911 non-null  object \n",
      " 2   decision  19911 non-null  object \n",
      " 3   GPA       19911 non-null  float64\n",
      " 4   GRE       19911 non-null  float64\n",
      " 5   GRE_V     19911 non-null  float64\n",
      " 6   GRE_AW    19911 non-null  float64\n",
      "dtypes: float64(4), object(3)\n",
      "memory usage: 1.2+ MB\n"
     ]
    }
   ],
   "source": [
    "df_clean.info()"
   ]
  },
  {
   "cell_type": "code",
   "execution_count": 93,
   "id": "e5930452",
   "metadata": {},
   "outputs": [
    {
     "data": {
      "text/html": [
       "<div>\n",
       "<style scoped>\n",
       "    .dataframe tbody tr th:only-of-type {\n",
       "        vertical-align: middle;\n",
       "    }\n",
       "\n",
       "    .dataframe tbody tr th {\n",
       "        vertical-align: top;\n",
       "    }\n",
       "\n",
       "    .dataframe thead th {\n",
       "        text-align: right;\n",
       "    }\n",
       "</style>\n",
       "<table border=\"1\" class=\"dataframe\">\n",
       "  <thead>\n",
       "    <tr style=\"text-align: right;\">\n",
       "      <th></th>\n",
       "      <th>GPA</th>\n",
       "      <th>GRE</th>\n",
       "      <th>GRE_V</th>\n",
       "      <th>GRE_AW</th>\n",
       "    </tr>\n",
       "  </thead>\n",
       "  <tbody>\n",
       "    <tr>\n",
       "      <th>count</th>\n",
       "      <td>19911.000000</td>\n",
       "      <td>19911.000000</td>\n",
       "      <td>19911.000000</td>\n",
       "      <td>19911.000000</td>\n",
       "    </tr>\n",
       "    <tr>\n",
       "      <th>mean</th>\n",
       "      <td>3.712731</td>\n",
       "      <td>333.964743</td>\n",
       "      <td>300.870524</td>\n",
       "      <td>4.901346</td>\n",
       "    </tr>\n",
       "    <tr>\n",
       "      <th>std</th>\n",
       "      <td>0.520438</td>\n",
       "      <td>265.013996</td>\n",
       "      <td>224.429485</td>\n",
       "      <td>7.030070</td>\n",
       "    </tr>\n",
       "    <tr>\n",
       "      <th>min</th>\n",
       "      <td>1.000000</td>\n",
       "      <td>2.000000</td>\n",
       "      <td>2.000000</td>\n",
       "      <td>1.000000</td>\n",
       "    </tr>\n",
       "    <tr>\n",
       "      <th>25%</th>\n",
       "      <td>3.510000</td>\n",
       "      <td>159.000000</td>\n",
       "      <td>157.000000</td>\n",
       "      <td>4.000000</td>\n",
       "    </tr>\n",
       "    <tr>\n",
       "      <th>50%</th>\n",
       "      <td>3.740000</td>\n",
       "      <td>167.000000</td>\n",
       "      <td>163.000000</td>\n",
       "      <td>4.500000</td>\n",
       "    </tr>\n",
       "    <tr>\n",
       "      <th>75%</th>\n",
       "      <td>3.900000</td>\n",
       "      <td>650.000000</td>\n",
       "      <td>530.000000</td>\n",
       "      <td>5.000000</td>\n",
       "    </tr>\n",
       "    <tr>\n",
       "      <th>max</th>\n",
       "      <td>9.990000</td>\n",
       "      <td>970.000000</td>\n",
       "      <td>800.000000</td>\n",
       "      <td>99.990000</td>\n",
       "    </tr>\n",
       "  </tbody>\n",
       "</table>\n",
       "</div>"
      ],
      "text/plain": [
       "                GPA           GRE         GRE_V        GRE_AW\n",
       "count  19911.000000  19911.000000  19911.000000  19911.000000\n",
       "mean       3.712731    333.964743    300.870524      4.901346\n",
       "std        0.520438    265.013996    224.429485      7.030070\n",
       "min        1.000000      2.000000      2.000000      1.000000\n",
       "25%        3.510000    159.000000    157.000000      4.000000\n",
       "50%        3.740000    167.000000    163.000000      4.500000\n",
       "75%        3.900000    650.000000    530.000000      5.000000\n",
       "max        9.990000    970.000000    800.000000     99.990000"
      ]
     },
     "execution_count": 93,
     "metadata": {},
     "output_type": "execute_result"
    }
   ],
   "source": [
    "df_clean.describe()"
   ]
  },
  {
   "cell_type": "code",
   "execution_count": 111,
   "id": "74ef838d",
   "metadata": {},
   "outputs": [],
   "source": [
    "df_clean['decision_binary'] = df_clean['decision'].str.startswith('Accepted').fillna(False).astype(int)\n"
   ]
  },
  {
   "cell_type": "code",
   "execution_count": 112,
   "id": "f2d31a22",
   "metadata": {},
   "outputs": [
    {
     "data": {
      "text/plain": [
       "array([0, 1])"
      ]
     },
     "execution_count": 112,
     "metadata": {},
     "output_type": "execute_result"
    }
   ],
   "source": [
    "df_clean['decision_binary'].unique()"
   ]
  },
  {
   "cell_type": "code",
   "execution_count": 113,
   "id": "d8646bc7",
   "metadata": {},
   "outputs": [
    {
     "data": {
      "text/html": [
       "<div>\n",
       "<style scoped>\n",
       "    .dataframe tbody tr th:only-of-type {\n",
       "        vertical-align: middle;\n",
       "    }\n",
       "\n",
       "    .dataframe tbody tr th {\n",
       "        vertical-align: top;\n",
       "    }\n",
       "\n",
       "    .dataframe thead th {\n",
       "        text-align: right;\n",
       "    }\n",
       "</style>\n",
       "<table border=\"1\" class=\"dataframe\">\n",
       "  <thead>\n",
       "    <tr style=\"text-align: right;\">\n",
       "      <th></th>\n",
       "      <th>school</th>\n",
       "      <th>program</th>\n",
       "      <th>GPA</th>\n",
       "      <th>GRE</th>\n",
       "      <th>GRE_V</th>\n",
       "      <th>GRE_AW</th>\n",
       "      <th>decision_binary</th>\n",
       "    </tr>\n",
       "  </thead>\n",
       "  <tbody>\n",
       "    <tr>\n",
       "      <th>12</th>\n",
       "      <td>University at Buffalo-SUNY</td>\n",
       "      <td>Mechanical And Aerospace Engineering</td>\n",
       "      <td>3.52</td>\n",
       "      <td>319.0</td>\n",
       "      <td>156.0</td>\n",
       "      <td>3.5</td>\n",
       "      <td>0</td>\n",
       "    </tr>\n",
       "    <tr>\n",
       "      <th>43</th>\n",
       "      <td>Rensselaer Polytechnic Institute</td>\n",
       "      <td>Biomedical Engineering</td>\n",
       "      <td>3.43</td>\n",
       "      <td>165.0</td>\n",
       "      <td>157.0</td>\n",
       "      <td>4.0</td>\n",
       "      <td>0</td>\n",
       "    </tr>\n",
       "    <tr>\n",
       "      <th>44</th>\n",
       "      <td>University of Maryland Baltimore County</td>\n",
       "      <td>Computer Science</td>\n",
       "      <td>3.92</td>\n",
       "      <td>326.0</td>\n",
       "      <td>166.0</td>\n",
       "      <td>4.0</td>\n",
       "      <td>1</td>\n",
       "    </tr>\n",
       "    <tr>\n",
       "      <th>51</th>\n",
       "      <td>Purdue University</td>\n",
       "      <td>Management</td>\n",
       "      <td>3.97</td>\n",
       "      <td>325.0</td>\n",
       "      <td>158.0</td>\n",
       "      <td>4.0</td>\n",
       "      <td>0</td>\n",
       "    </tr>\n",
       "    <tr>\n",
       "      <th>66</th>\n",
       "      <td>University of Illinois Urbana-Champaign</td>\n",
       "      <td>Mechanical Engineering</td>\n",
       "      <td>3.97</td>\n",
       "      <td>317.0</td>\n",
       "      <td>155.0</td>\n",
       "      <td>4.5</td>\n",
       "      <td>0</td>\n",
       "    </tr>\n",
       "    <tr>\n",
       "      <th>...</th>\n",
       "      <td>...</td>\n",
       "      <td>...</td>\n",
       "      <td>...</td>\n",
       "      <td>...</td>\n",
       "      <td>...</td>\n",
       "      <td>...</td>\n",
       "      <td>...</td>\n",
       "    </tr>\n",
       "    <tr>\n",
       "      <th>115940</th>\n",
       "      <td>University Of California, San Francisco (UCSF)</td>\n",
       "      <td>Neuroscience</td>\n",
       "      <td>3.90</td>\n",
       "      <td>740.0</td>\n",
       "      <td>620.0</td>\n",
       "      <td>4.5</td>\n",
       "      <td>0</td>\n",
       "    </tr>\n",
       "    <tr>\n",
       "      <th>115946</th>\n",
       "      <td>Duke University</td>\n",
       "      <td>Statistics</td>\n",
       "      <td>3.70</td>\n",
       "      <td>800.0</td>\n",
       "      <td>580.0</td>\n",
       "      <td>5.5</td>\n",
       "      <td>0</td>\n",
       "    </tr>\n",
       "    <tr>\n",
       "      <th>115948</th>\n",
       "      <td>Carnegie Mellon</td>\n",
       "      <td>Biological Sciences (Neuroscience)</td>\n",
       "      <td>3.40</td>\n",
       "      <td>800.0</td>\n",
       "      <td>690.0</td>\n",
       "      <td>5.0</td>\n",
       "      <td>0</td>\n",
       "    </tr>\n",
       "    <tr>\n",
       "      <th>115953</th>\n",
       "      <td>University Of California, San Francisco (UCSF)</td>\n",
       "      <td>Neuroscience</td>\n",
       "      <td>3.86</td>\n",
       "      <td>800.0</td>\n",
       "      <td>610.0</td>\n",
       "      <td>4.0</td>\n",
       "      <td>0</td>\n",
       "    </tr>\n",
       "    <tr>\n",
       "      <th>115954</th>\n",
       "      <td>University Of California, San Francisco (UCSF)</td>\n",
       "      <td>Neuroscience</td>\n",
       "      <td>3.80</td>\n",
       "      <td>780.0</td>\n",
       "      <td>630.0</td>\n",
       "      <td>4.5</td>\n",
       "      <td>0</td>\n",
       "    </tr>\n",
       "  </tbody>\n",
       "</table>\n",
       "<p>19911 rows × 7 columns</p>\n",
       "</div>"
      ],
      "text/plain": [
       "                                                school  \\\n",
       "12                          University at Buffalo-SUNY   \n",
       "43                    Rensselaer Polytechnic Institute   \n",
       "44             University of Maryland Baltimore County   \n",
       "51                                   Purdue University   \n",
       "66             University of Illinois Urbana-Champaign   \n",
       "...                                                ...   \n",
       "115940  University Of California, San Francisco (UCSF)   \n",
       "115946                                 Duke University   \n",
       "115948                                 Carnegie Mellon   \n",
       "115953  University Of California, San Francisco (UCSF)   \n",
       "115954  University Of California, San Francisco (UCSF)   \n",
       "\n",
       "                                     program   GPA    GRE  GRE_V  GRE_AW  \\\n",
       "12      Mechanical And Aerospace Engineering  3.52  319.0  156.0     3.5   \n",
       "43                    Biomedical Engineering  3.43  165.0  157.0     4.0   \n",
       "44                          Computer Science  3.92  326.0  166.0     4.0   \n",
       "51                                Management  3.97  325.0  158.0     4.0   \n",
       "66                    Mechanical Engineering  3.97  317.0  155.0     4.5   \n",
       "...                                      ...   ...    ...    ...     ...   \n",
       "115940                          Neuroscience  3.90  740.0  620.0     4.5   \n",
       "115946                            Statistics  3.70  800.0  580.0     5.5   \n",
       "115948    Biological Sciences (Neuroscience)  3.40  800.0  690.0     5.0   \n",
       "115953                          Neuroscience  3.86  800.0  610.0     4.0   \n",
       "115954                          Neuroscience  3.80  780.0  630.0     4.5   \n",
       "\n",
       "        decision_binary  \n",
       "12                    0  \n",
       "43                    0  \n",
       "44                    1  \n",
       "51                    0  \n",
       "66                    0  \n",
       "...                 ...  \n",
       "115940                0  \n",
       "115946                0  \n",
       "115948                0  \n",
       "115953                0  \n",
       "115954                0  \n",
       "\n",
       "[19911 rows x 7 columns]"
      ]
     },
     "execution_count": 113,
     "metadata": {},
     "output_type": "execute_result"
    }
   ],
   "source": [
    "df_clean.drop(columns=['decision'])"
   ]
  },
  {
   "cell_type": "code",
   "execution_count": 114,
   "id": "975d1212",
   "metadata": {},
   "outputs": [
    {
     "data": {
      "text/html": [
       "<div>\n",
       "<style scoped>\n",
       "    .dataframe tbody tr th:only-of-type {\n",
       "        vertical-align: middle;\n",
       "    }\n",
       "\n",
       "    .dataframe tbody tr th {\n",
       "        vertical-align: top;\n",
       "    }\n",
       "\n",
       "    .dataframe thead th {\n",
       "        text-align: right;\n",
       "    }\n",
       "</style>\n",
       "<table border=\"1\" class=\"dataframe\">\n",
       "  <thead>\n",
       "    <tr style=\"text-align: right;\">\n",
       "      <th></th>\n",
       "      <th>GPA</th>\n",
       "      <th>GRE</th>\n",
       "      <th>GRE_V</th>\n",
       "      <th>GRE_AW</th>\n",
       "      <th>decision_binary</th>\n",
       "    </tr>\n",
       "  </thead>\n",
       "  <tbody>\n",
       "    <tr>\n",
       "      <th>GPA</th>\n",
       "      <td>1.000000</td>\n",
       "      <td>-0.023813</td>\n",
       "      <td>-0.020611</td>\n",
       "      <td>0.015520</td>\n",
       "      <td>0.026967</td>\n",
       "    </tr>\n",
       "    <tr>\n",
       "      <th>GRE</th>\n",
       "      <td>-0.023813</td>\n",
       "      <td>1.000000</td>\n",
       "      <td>0.939123</td>\n",
       "      <td>-0.016465</td>\n",
       "      <td>-0.018734</td>\n",
       "    </tr>\n",
       "    <tr>\n",
       "      <th>GRE_V</th>\n",
       "      <td>-0.020611</td>\n",
       "      <td>0.939123</td>\n",
       "      <td>1.000000</td>\n",
       "      <td>-0.025739</td>\n",
       "      <td>-0.020179</td>\n",
       "    </tr>\n",
       "    <tr>\n",
       "      <th>GRE_AW</th>\n",
       "      <td>0.015520</td>\n",
       "      <td>-0.016465</td>\n",
       "      <td>-0.025739</td>\n",
       "      <td>1.000000</td>\n",
       "      <td>0.002585</td>\n",
       "    </tr>\n",
       "    <tr>\n",
       "      <th>decision_binary</th>\n",
       "      <td>0.026967</td>\n",
       "      <td>-0.018734</td>\n",
       "      <td>-0.020179</td>\n",
       "      <td>0.002585</td>\n",
       "      <td>1.000000</td>\n",
       "    </tr>\n",
       "  </tbody>\n",
       "</table>\n",
       "</div>"
      ],
      "text/plain": [
       "                      GPA       GRE     GRE_V    GRE_AW  decision_binary\n",
       "GPA              1.000000 -0.023813 -0.020611  0.015520         0.026967\n",
       "GRE             -0.023813  1.000000  0.939123 -0.016465        -0.018734\n",
       "GRE_V           -0.020611  0.939123  1.000000 -0.025739        -0.020179\n",
       "GRE_AW           0.015520 -0.016465 -0.025739  1.000000         0.002585\n",
       "decision_binary  0.026967 -0.018734 -0.020179  0.002585         1.000000"
      ]
     },
     "execution_count": 114,
     "metadata": {},
     "output_type": "execute_result"
    }
   ],
   "source": [
    "corr_matrix = df_clean.select_dtypes(include=\"number\").corr()\n",
    "corr_matrix"
   ]
  },
  {
   "cell_type": "code",
   "execution_count": 115,
   "id": "14ab9142",
   "metadata": {},
   "outputs": [
    {
     "data": {
      "text/plain": [
       "<Axes: >"
      ]
     },
     "execution_count": 115,
     "metadata": {},
     "output_type": "execute_result"
    },
    {
     "data": {
      "image/png": "[encoded data removed]",
      "text/plain": [
       "<Figure size 640x480 with 2 Axes>"
      ]
     },
     "metadata": {},
     "output_type": "display_data"
    }
   ],
   "source": [
    "sns.heatmap(corr_matrix ,annot=True, cmap=\"coolwarm\")"
   ]
  },
  {
   "cell_type": "code",
   "execution_count": null,
   "id": "7482c860",
   "metadata": {},
   "outputs": [],
   "source": []
  },
  {
   "cell_type": "code",
   "execution_count": null,
   "id": "9b7c17a3",
   "metadata": {},
   "outputs": [],
   "source": []
  }
 ],
 "metadata": {
  "kernelspec": {
   "display_name": "Python 3",
   "language": "python",
   "name": "python3"
  },
  "language_info": {
   "codemirror_mode": {
    "name": "ipython",
    "version": 3
   },
   "file_extension": ".py",
   "mimetype": "text/x-python",
   "name": "python",
   "nbconvert_exporter": "python",
   "pygments_lexer": "ipython3",
   "version": "3.13.5"
  }
 },
 "nbformat": 4,
 "nbformat_minor": 5
}
