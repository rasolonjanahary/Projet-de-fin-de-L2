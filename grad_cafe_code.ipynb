{
 "cells": [
  {
   "cell_type": "code",
   "execution_count": 166,
   "id": "6a0b9531",
   "metadata": {},
   "outputs": [],
   "source": [
    "import pandas as pd\n",
    "import matplotlib.pyplot as plt\n",
    "import seaborn as sns\n",
    "import numpy as np"
   ]
  },
  {
   "cell_type": "code",
   "execution_count": 167,
   "id": "7dd85819",
   "metadata": {},
   "outputs": [],
   "source": [
    "df = pd.read_csv(\"data/grad_cafe_data.csv\")"
   ]
  },
  {
   "cell_type": "code",
   "execution_count": 168,
   "id": "063cad45",
   "metadata": {},
   "outputs": [
    {
     "data": {
      "text/html": [
       "<div>\n",
       "<style scoped>\n",
       "    .dataframe tbody tr th:only-of-type {\n",
       "        vertical-align: middle;\n",
       "    }\n",
       "\n",
       "    .dataframe tbody tr th {\n",
       "        vertical-align: top;\n",
       "    }\n",
       "\n",
       "    .dataframe thead th {\n",
       "        text-align: right;\n",
       "    }\n",
       "</style>\n",
       "<table border=\"1\" class=\"dataframe\">\n",
       "  <thead>\n",
       "    <tr style=\"text-align: right;\">\n",
       "      <th></th>\n",
       "      <th>school</th>\n",
       "      <th>program</th>\n",
       "      <th>added_on</th>\n",
       "      <th>decision</th>\n",
       "      <th>GPA</th>\n",
       "      <th>GRE</th>\n",
       "      <th>GRE_V</th>\n",
       "      <th>GRE_Q</th>\n",
       "      <th>GRE_AW</th>\n",
       "      <th>TOEFL</th>\n",
       "      <th>IELTS</th>\n",
       "    </tr>\n",
       "  </thead>\n",
       "  <tbody>\n",
       "    <tr>\n",
       "      <th>0</th>\n",
       "      <td>University of Colorado Boulder</td>\n",
       "      <td>Creative Technology and Design</td>\n",
       "      <td>July 17, 2025</td>\n",
       "      <td>Accepted on 6 Mar</td>\n",
       "      <td>NaN</td>\n",
       "      <td>NaN</td>\n",
       "      <td>NaN</td>\n",
       "      <td>NaN</td>\n",
       "      <td>NaN</td>\n",
       "      <td>NaN</td>\n",
       "      <td>NaN</td>\n",
       "    </tr>\n",
       "    <tr>\n",
       "      <th>1</th>\n",
       "      <td>Arizona State University</td>\n",
       "      <td>COmputer</td>\n",
       "      <td>July 17, 2025</td>\n",
       "      <td>Accepted on 17 Jul</td>\n",
       "      <td>2.59</td>\n",
       "      <td>NaN</td>\n",
       "      <td>NaN</td>\n",
       "      <td>NaN</td>\n",
       "      <td>NaN</td>\n",
       "      <td>NaN</td>\n",
       "      <td>NaN</td>\n",
       "    </tr>\n",
       "    <tr>\n",
       "      <th>2</th>\n",
       "      <td>University of Colorado at Denver</td>\n",
       "      <td>Master of Science in Clinical Psychopharmacology</td>\n",
       "      <td>July 16, 2025</td>\n",
       "      <td>Accepted on 16 Jul</td>\n",
       "      <td>NaN</td>\n",
       "      <td>NaN</td>\n",
       "      <td>NaN</td>\n",
       "      <td>NaN</td>\n",
       "      <td>NaN</td>\n",
       "      <td>NaN</td>\n",
       "      <td>NaN</td>\n",
       "    </tr>\n",
       "    <tr>\n",
       "      <th>3</th>\n",
       "      <td>Johns Hopkins University</td>\n",
       "      <td>Computer Science</td>\n",
       "      <td>July 16, 2025</td>\n",
       "      <td>Accepted on 14 Jul</td>\n",
       "      <td>2.40</td>\n",
       "      <td>NaN</td>\n",
       "      <td>NaN</td>\n",
       "      <td>NaN</td>\n",
       "      <td>NaN</td>\n",
       "      <td>NaN</td>\n",
       "      <td>NaN</td>\n",
       "    </tr>\n",
       "    <tr>\n",
       "      <th>4</th>\n",
       "      <td>Hofstra</td>\n",
       "      <td>Speech Language Pathology</td>\n",
       "      <td>July 15, 2025</td>\n",
       "      <td>Accepted on 14 Jan</td>\n",
       "      <td>3.50</td>\n",
       "      <td>NaN</td>\n",
       "      <td>NaN</td>\n",
       "      <td>NaN</td>\n",
       "      <td>NaN</td>\n",
       "      <td>NaN</td>\n",
       "      <td>NaN</td>\n",
       "    </tr>\n",
       "  </tbody>\n",
       "</table>\n",
       "</div>"
      ],
      "text/plain": [
       "                             school  \\\n",
       "0    University of Colorado Boulder   \n",
       "1          Arizona State University   \n",
       "2  University of Colorado at Denver   \n",
       "3          Johns Hopkins University   \n",
       "4                           Hofstra   \n",
       "\n",
       "                                            program       added_on  \\\n",
       "0                    Creative Technology and Design  July 17, 2025   \n",
       "1                                          COmputer  July 17, 2025   \n",
       "2  Master of Science in Clinical Psychopharmacology  July 16, 2025   \n",
       "3                                  Computer Science  July 16, 2025   \n",
       "4                         Speech Language Pathology  July 15, 2025   \n",
       "\n",
       "             decision   GPA  GRE  GRE_V  GRE_Q  GRE_AW  TOEFL  IELTS  \n",
       "0   Accepted on 6 Mar   NaN  NaN    NaN    NaN     NaN    NaN    NaN  \n",
       "1  Accepted on 17 Jul  2.59  NaN    NaN    NaN     NaN    NaN    NaN  \n",
       "2  Accepted on 16 Jul   NaN  NaN    NaN    NaN     NaN    NaN    NaN  \n",
       "3  Accepted on 14 Jul  2.40  NaN    NaN    NaN     NaN    NaN    NaN  \n",
       "4  Accepted on 14 Jan  3.50  NaN    NaN    NaN     NaN    NaN    NaN  "
      ]
     },
     "execution_count": 168,
     "metadata": {},
     "output_type": "execute_result"
    }
   ],
   "source": [
    "df.head()"
   ]
  },
  {
   "cell_type": "code",
   "execution_count": 169,
   "id": "d6f204aa",
   "metadata": {},
   "outputs": [
    {
     "data": {
      "text/plain": [
       "array(['Accepted on 6 Mar', 'Accepted on 17 Jul', 'Accepted on 16 Jul',\n",
       "       ..., 'Wait-Listed on 4 Feb', 'Wait-Listed on 8 Feb',\n",
       "       'Wait-Listed on 30 Nov'], dtype=object)"
      ]
     },
     "execution_count": 169,
     "metadata": {},
     "output_type": "execute_result"
    }
   ],
   "source": [
    "df['decision'].unique()"
   ]
  },
  {
   "cell_type": "code",
   "execution_count": 170,
   "id": "24eaf93a",
   "metadata": {},
   "outputs": [
    {
     "data": {
      "text/plain": [
       "school        4.768254\n",
       "program       4.825397\n",
       "added_on      4.762698\n",
       "decision      4.761905\n",
       "GPA          71.124603\n",
       "GRE          81.096032\n",
       "GRE_V        81.546825\n",
       "GRE_Q       100.000000\n",
       "GRE_AW       82.327778\n",
       "TOEFL       100.000000\n",
       "IELTS       100.000000\n",
       "dtype: float64"
      ]
     },
     "execution_count": 170,
     "metadata": {},
     "output_type": "execute_result"
    }
   ],
   "source": [
    "df.isna().sum() / df.shape[0] * 100"
   ]
  },
  {
   "cell_type": "code",
   "execution_count": 171,
   "id": "07a22e09",
   "metadata": {},
   "outputs": [],
   "source": [
    "df_clean = df.drop(columns=['GRE_Q' , 'TOEFL' , 'IELTS' , 'added_on'] , axis= 1)"
   ]
  },
  {
   "cell_type": "code",
   "execution_count": 172,
   "id": "acf09cd4",
   "metadata": {},
   "outputs": [
    {
     "data": {
      "text/plain": [
       "school        6008\n",
       "program       6080\n",
       "decision      6000\n",
       "GPA          89617\n",
       "GRE         102181\n",
       "GRE_V       102749\n",
       "GRE_AW      103733\n",
       "dtype: int64"
      ]
     },
     "execution_count": 172,
     "metadata": {},
     "output_type": "execute_result"
    }
   ],
   "source": [
    "df_clean.isna().sum()"
   ]
  },
  {
   "cell_type": "code",
   "execution_count": 173,
   "id": "fb4465e1",
   "metadata": {},
   "outputs": [],
   "source": [
    "df_clean = df_clean.dropna(axis=0)"
   ]
  },
  {
   "cell_type": "code",
   "execution_count": 174,
   "id": "059c4205",
   "metadata": {},
   "outputs": [
    {
     "data": {
      "text/plain": [
       "(19911, 7)"
      ]
     },
     "execution_count": 174,
     "metadata": {},
     "output_type": "execute_result"
    }
   ],
   "source": [
    "df_clean.shape"
   ]
  },
  {
   "cell_type": "code",
   "execution_count": 175,
   "id": "b2cb4232",
   "metadata": {},
   "outputs": [
    {
     "data": {
      "text/plain": [
       "school      0\n",
       "program     0\n",
       "decision    0\n",
       "GPA         0\n",
       "GRE         0\n",
       "GRE_V       0\n",
       "GRE_AW      0\n",
       "dtype: int64"
      ]
     },
     "execution_count": 175,
     "metadata": {},
     "output_type": "execute_result"
    }
   ],
   "source": [
    "df_clean.isna().sum()"
   ]
  },
  {
   "cell_type": "code",
   "execution_count": 176,
   "id": "ac361867",
   "metadata": {},
   "outputs": [
    {
     "name": "stdout",
     "output_type": "stream",
     "text": [
      "<class 'pandas.core.frame.DataFrame'>\n",
      "Index: 19911 entries, 12 to 115954\n",
      "Data columns (total 7 columns):\n",
      " #   Column    Non-Null Count  Dtype  \n",
      "---  ------    --------------  -----  \n",
      " 0   school    19911 non-null  object \n",
      " 1   program   19911 non-null  object \n",
      " 2   decision  19911 non-null  object \n",
      " 3   GPA       19911 non-null  float64\n",
      " 4   GRE       19911 non-null  float64\n",
      " 5   GRE_V     19911 non-null  float64\n",
      " 6   GRE_AW    19911 non-null  float64\n",
      "dtypes: float64(4), object(3)\n",
      "memory usage: 1.2+ MB\n"
     ]
    }
   ],
   "source": [
    "df_clean.info()"
   ]
  },
  {
   "cell_type": "code",
   "execution_count": 177,
   "id": "e5930452",
   "metadata": {},
   "outputs": [
    {
     "data": {
      "text/html": [
       "<div>\n",
       "<style scoped>\n",
       "    .dataframe tbody tr th:only-of-type {\n",
       "        vertical-align: middle;\n",
       "    }\n",
       "\n",
       "    .dataframe tbody tr th {\n",
       "        vertical-align: top;\n",
       "    }\n",
       "\n",
       "    .dataframe thead th {\n",
       "        text-align: right;\n",
       "    }\n",
       "</style>\n",
       "<table border=\"1\" class=\"dataframe\">\n",
       "  <thead>\n",
       "    <tr style=\"text-align: right;\">\n",
       "      <th></th>\n",
       "      <th>GPA</th>\n",
       "      <th>GRE</th>\n",
       "      <th>GRE_V</th>\n",
       "      <th>GRE_AW</th>\n",
       "    </tr>\n",
       "  </thead>\n",
       "  <tbody>\n",
       "    <tr>\n",
       "      <th>count</th>\n",
       "      <td>19911.000000</td>\n",
       "      <td>19911.000000</td>\n",
       "      <td>19911.000000</td>\n",
       "      <td>19911.000000</td>\n",
       "    </tr>\n",
       "    <tr>\n",
       "      <th>mean</th>\n",
       "      <td>3.712731</td>\n",
       "      <td>333.964743</td>\n",
       "      <td>300.870524</td>\n",
       "      <td>4.901346</td>\n",
       "    </tr>\n",
       "    <tr>\n",
       "      <th>std</th>\n",
       "      <td>0.520438</td>\n",
       "      <td>265.013996</td>\n",
       "      <td>224.429485</td>\n",
       "      <td>7.030070</td>\n",
       "    </tr>\n",
       "    <tr>\n",
       "      <th>min</th>\n",
       "      <td>1.000000</td>\n",
       "      <td>2.000000</td>\n",
       "      <td>2.000000</td>\n",
       "      <td>1.000000</td>\n",
       "    </tr>\n",
       "    <tr>\n",
       "      <th>25%</th>\n",
       "      <td>3.510000</td>\n",
       "      <td>159.000000</td>\n",
       "      <td>157.000000</td>\n",
       "      <td>4.000000</td>\n",
       "    </tr>\n",
       "    <tr>\n",
       "      <th>50%</th>\n",
       "      <td>3.740000</td>\n",
       "      <td>167.000000</td>\n",
       "      <td>163.000000</td>\n",
       "      <td>4.500000</td>\n",
       "    </tr>\n",
       "    <tr>\n",
       "      <th>75%</th>\n",
       "      <td>3.900000</td>\n",
       "      <td>650.000000</td>\n",
       "      <td>530.000000</td>\n",
       "      <td>5.000000</td>\n",
       "    </tr>\n",
       "    <tr>\n",
       "      <th>max</th>\n",
       "      <td>9.990000</td>\n",
       "      <td>970.000000</td>\n",
       "      <td>800.000000</td>\n",
       "      <td>99.990000</td>\n",
       "    </tr>\n",
       "  </tbody>\n",
       "</table>\n",
       "</div>"
      ],
      "text/plain": [
       "                GPA           GRE         GRE_V        GRE_AW\n",
       "count  19911.000000  19911.000000  19911.000000  19911.000000\n",
       "mean       3.712731    333.964743    300.870524      4.901346\n",
       "std        0.520438    265.013996    224.429485      7.030070\n",
       "min        1.000000      2.000000      2.000000      1.000000\n",
       "25%        3.510000    159.000000    157.000000      4.000000\n",
       "50%        3.740000    167.000000    163.000000      4.500000\n",
       "75%        3.900000    650.000000    530.000000      5.000000\n",
       "max        9.990000    970.000000    800.000000     99.990000"
      ]
     },
     "execution_count": 177,
     "metadata": {},
     "output_type": "execute_result"
    }
   ],
   "source": [
    "df_clean.describe()"
   ]
  },
  {
   "cell_type": "code",
   "execution_count": 178,
   "id": "551cfc1c",
   "metadata": {},
   "outputs": [],
   "source": [
    "def clean_decision(decision):\n",
    "    if \"Accepted\" in decision or \"Admitted\" in decision:\n",
    "        return 'Accepted'\n",
    "    elif \"Wait\" in decision or \"Wait listed\" in decision:\n",
    "        return 'Wait'\n",
    "    else:\n",
    "        return 'Rejected'"
   ]
  },
  {
   "cell_type": "code",
   "execution_count": 179,
   "id": "74ef838d",
   "metadata": {},
   "outputs": [],
   "source": [
    "df_clean['decision'] = df_clean['decision'].apply(clean_decision)\n"
   ]
  },
  {
   "cell_type": "code",
   "execution_count": 180,
   "id": "f2d31a22",
   "metadata": {},
   "outputs": [
    {
     "data": {
      "text/plain": [
       "array(['Rejected', 'Accepted', 'Wait'], dtype=object)"
      ]
     },
     "execution_count": 180,
     "metadata": {},
     "output_type": "execute_result"
    }
   ],
   "source": [
    "df_clean['decision'].unique()"
   ]
  },
  {
   "cell_type": "code",
   "execution_count": 181,
   "id": "a5ffcddb",
   "metadata": {},
   "outputs": [
    {
     "data": {
      "text/html": [
       "<div>\n",
       "<style scoped>\n",
       "    .dataframe tbody tr th:only-of-type {\n",
       "        vertical-align: middle;\n",
       "    }\n",
       "\n",
       "    .dataframe tbody tr th {\n",
       "        vertical-align: top;\n",
       "    }\n",
       "\n",
       "    .dataframe thead th {\n",
       "        text-align: right;\n",
       "    }\n",
       "</style>\n",
       "<table border=\"1\" class=\"dataframe\">\n",
       "  <thead>\n",
       "    <tr style=\"text-align: right;\">\n",
       "      <th></th>\n",
       "      <th>school</th>\n",
       "      <th>program</th>\n",
       "      <th>decision</th>\n",
       "      <th>GPA</th>\n",
       "      <th>GRE</th>\n",
       "      <th>GRE_V</th>\n",
       "      <th>GRE_AW</th>\n",
       "    </tr>\n",
       "  </thead>\n",
       "  <tbody>\n",
       "    <tr>\n",
       "      <th>12</th>\n",
       "      <td>University at Buffalo-SUNY</td>\n",
       "      <td>Mechanical And Aerospace Engineering</td>\n",
       "      <td>Rejected</td>\n",
       "      <td>3.52</td>\n",
       "      <td>319.0</td>\n",
       "      <td>156.0</td>\n",
       "      <td>3.5</td>\n",
       "    </tr>\n",
       "    <tr>\n",
       "      <th>43</th>\n",
       "      <td>Rensselaer Polytechnic Institute</td>\n",
       "      <td>Biomedical Engineering</td>\n",
       "      <td>Rejected</td>\n",
       "      <td>3.43</td>\n",
       "      <td>165.0</td>\n",
       "      <td>157.0</td>\n",
       "      <td>4.0</td>\n",
       "    </tr>\n",
       "    <tr>\n",
       "      <th>44</th>\n",
       "      <td>University of Maryland Baltimore County</td>\n",
       "      <td>Computer Science</td>\n",
       "      <td>Accepted</td>\n",
       "      <td>3.92</td>\n",
       "      <td>326.0</td>\n",
       "      <td>166.0</td>\n",
       "      <td>4.0</td>\n",
       "    </tr>\n",
       "    <tr>\n",
       "      <th>51</th>\n",
       "      <td>Purdue University</td>\n",
       "      <td>Management</td>\n",
       "      <td>Rejected</td>\n",
       "      <td>3.97</td>\n",
       "      <td>325.0</td>\n",
       "      <td>158.0</td>\n",
       "      <td>4.0</td>\n",
       "    </tr>\n",
       "    <tr>\n",
       "      <th>66</th>\n",
       "      <td>University of Illinois Urbana-Champaign</td>\n",
       "      <td>Mechanical Engineering</td>\n",
       "      <td>Rejected</td>\n",
       "      <td>3.97</td>\n",
       "      <td>317.0</td>\n",
       "      <td>155.0</td>\n",
       "      <td>4.5</td>\n",
       "    </tr>\n",
       "  </tbody>\n",
       "</table>\n",
       "</div>"
      ],
      "text/plain": [
       "                                     school  \\\n",
       "12               University at Buffalo-SUNY   \n",
       "43         Rensselaer Polytechnic Institute   \n",
       "44  University of Maryland Baltimore County   \n",
       "51                        Purdue University   \n",
       "66  University of Illinois Urbana-Champaign   \n",
       "\n",
       "                                 program  decision   GPA    GRE  GRE_V  GRE_AW  \n",
       "12  Mechanical And Aerospace Engineering  Rejected  3.52  319.0  156.0     3.5  \n",
       "43                Biomedical Engineering  Rejected  3.43  165.0  157.0     4.0  \n",
       "44                      Computer Science  Accepted  3.92  326.0  166.0     4.0  \n",
       "51                            Management  Rejected  3.97  325.0  158.0     4.0  \n",
       "66                Mechanical Engineering  Rejected  3.97  317.0  155.0     4.5  "
      ]
     },
     "execution_count": 181,
     "metadata": {},
     "output_type": "execute_result"
    }
   ],
   "source": [
    "df_clean.head()"
   ]
  },
  {
   "cell_type": "code",
   "execution_count": 182,
   "id": "d8646bc7",
   "metadata": {},
   "outputs": [],
   "source": [
    "df_clean.drop(columns=['GRE_V'], inplace=True)"
   ]
  },
  {
   "cell_type": "code",
   "execution_count": 183,
   "id": "975d1212",
   "metadata": {},
   "outputs": [
    {
     "data": {
      "text/html": [
       "<div>\n",
       "<style scoped>\n",
       "    .dataframe tbody tr th:only-of-type {\n",
       "        vertical-align: middle;\n",
       "    }\n",
       "\n",
       "    .dataframe tbody tr th {\n",
       "        vertical-align: top;\n",
       "    }\n",
       "\n",
       "    .dataframe thead th {\n",
       "        text-align: right;\n",
       "    }\n",
       "</style>\n",
       "<table border=\"1\" class=\"dataframe\">\n",
       "  <thead>\n",
       "    <tr style=\"text-align: right;\">\n",
       "      <th></th>\n",
       "      <th>GPA</th>\n",
       "      <th>GRE</th>\n",
       "      <th>GRE_AW</th>\n",
       "    </tr>\n",
       "  </thead>\n",
       "  <tbody>\n",
       "    <tr>\n",
       "      <th>GPA</th>\n",
       "      <td>1.000000</td>\n",
       "      <td>-0.023813</td>\n",
       "      <td>0.015520</td>\n",
       "    </tr>\n",
       "    <tr>\n",
       "      <th>GRE</th>\n",
       "      <td>-0.023813</td>\n",
       "      <td>1.000000</td>\n",
       "      <td>-0.016465</td>\n",
       "    </tr>\n",
       "    <tr>\n",
       "      <th>GRE_AW</th>\n",
       "      <td>0.015520</td>\n",
       "      <td>-0.016465</td>\n",
       "      <td>1.000000</td>\n",
       "    </tr>\n",
       "  </tbody>\n",
       "</table>\n",
       "</div>"
      ],
      "text/plain": [
       "             GPA       GRE    GRE_AW\n",
       "GPA     1.000000 -0.023813  0.015520\n",
       "GRE    -0.023813  1.000000 -0.016465\n",
       "GRE_AW  0.015520 -0.016465  1.000000"
      ]
     },
     "execution_count": 183,
     "metadata": {},
     "output_type": "execute_result"
    }
   ],
   "source": [
    "corr_matrix = df_clean.select_dtypes(include=\"number\").corr()\n",
    "corr_matrix"
   ]
  },
  {
   "cell_type": "code",
   "execution_count": 184,
   "id": "14ab9142",
   "metadata": {},
   "outputs": [
    {
     "data": {
      "text/plain": [
       "<Axes: >"
      ]
     },
     "execution_count": 184,
     "metadata": {},
     "output_type": "execute_result"
    },
    {
     "data": {
      "image/png": "[encoded data removed]",
      "text/plain": [
       "<Figure size 640x480 with 2 Axes>"
      ]
     },
     "metadata": {},
     "output_type": "display_data"
    }
   ],
   "source": [
    "sns.heatmap(corr_matrix ,annot=True, cmap=\"coolwarm\")"
   ]
  },
  {
   "cell_type": "code",
   "execution_count": 185,
   "id": "7482c860",
   "metadata": {},
   "outputs": [
    {
     "data": {
      "text/html": [
       "<div>\n",
       "<style scoped>\n",
       "    .dataframe tbody tr th:only-of-type {\n",
       "        vertical-align: middle;\n",
       "    }\n",
       "\n",
       "    .dataframe tbody tr th {\n",
       "        vertical-align: top;\n",
       "    }\n",
       "\n",
       "    .dataframe thead th {\n",
       "        text-align: right;\n",
       "    }\n",
       "</style>\n",
       "<table border=\"1\" class=\"dataframe\">\n",
       "  <thead>\n",
       "    <tr style=\"text-align: right;\">\n",
       "      <th></th>\n",
       "      <th>school</th>\n",
       "      <th>program</th>\n",
       "      <th>decision</th>\n",
       "      <th>GPA</th>\n",
       "      <th>GRE</th>\n",
       "      <th>GRE_AW</th>\n",
       "    </tr>\n",
       "  </thead>\n",
       "  <tbody>\n",
       "    <tr>\n",
       "      <th>12</th>\n",
       "      <td>University at Buffalo-SUNY</td>\n",
       "      <td>Mechanical And Aerospace Engineering</td>\n",
       "      <td>Rejected</td>\n",
       "      <td>3.52</td>\n",
       "      <td>319.0</td>\n",
       "      <td>3.5</td>\n",
       "    </tr>\n",
       "    <tr>\n",
       "      <th>44</th>\n",
       "      <td>University of Maryland Baltimore County</td>\n",
       "      <td>Computer Science</td>\n",
       "      <td>Accepted</td>\n",
       "      <td>3.92</td>\n",
       "      <td>326.0</td>\n",
       "      <td>4.0</td>\n",
       "    </tr>\n",
       "    <tr>\n",
       "      <th>51</th>\n",
       "      <td>Purdue University</td>\n",
       "      <td>Management</td>\n",
       "      <td>Rejected</td>\n",
       "      <td>3.97</td>\n",
       "      <td>325.0</td>\n",
       "      <td>4.0</td>\n",
       "    </tr>\n",
       "    <tr>\n",
       "      <th>66</th>\n",
       "      <td>University of Illinois Urbana-Champaign</td>\n",
       "      <td>Mechanical Engineering</td>\n",
       "      <td>Rejected</td>\n",
       "      <td>3.97</td>\n",
       "      <td>317.0</td>\n",
       "      <td>4.5</td>\n",
       "    </tr>\n",
       "    <tr>\n",
       "      <th>67</th>\n",
       "      <td>University of California (UCLA)</td>\n",
       "      <td>Computer Science</td>\n",
       "      <td>Rejected</td>\n",
       "      <td>3.80</td>\n",
       "      <td>326.0</td>\n",
       "      <td>4.5</td>\n",
       "    </tr>\n",
       "    <tr>\n",
       "      <th>...</th>\n",
       "      <td>...</td>\n",
       "      <td>...</td>\n",
       "      <td>...</td>\n",
       "      <td>...</td>\n",
       "      <td>...</td>\n",
       "      <td>...</td>\n",
       "    </tr>\n",
       "    <tr>\n",
       "      <th>101345</th>\n",
       "      <td>University Of Waterloo (Canada)</td>\n",
       "      <td>Cognitive Psychology</td>\n",
       "      <td>Rejected</td>\n",
       "      <td>3.40</td>\n",
       "      <td>310.0</td>\n",
       "      <td>3.0</td>\n",
       "    </tr>\n",
       "    <tr>\n",
       "      <th>107487</th>\n",
       "      <td>Northeastern University</td>\n",
       "      <td>Electrical Engineering</td>\n",
       "      <td>Accepted</td>\n",
       "      <td>3.71</td>\n",
       "      <td>320.0</td>\n",
       "      <td>3.0</td>\n",
       "    </tr>\n",
       "    <tr>\n",
       "      <th>108447</th>\n",
       "      <td>Florida International University</td>\n",
       "      <td>Speech Language Pathology</td>\n",
       "      <td>Accepted</td>\n",
       "      <td>3.20</td>\n",
       "      <td>320.0</td>\n",
       "      <td>3.5</td>\n",
       "    </tr>\n",
       "    <tr>\n",
       "      <th>114524</th>\n",
       "      <td>University of Kansas</td>\n",
       "      <td>American Studies</td>\n",
       "      <td>Accepted</td>\n",
       "      <td>3.40</td>\n",
       "      <td>310.0</td>\n",
       "      <td>5.0</td>\n",
       "    </tr>\n",
       "    <tr>\n",
       "      <th>115850</th>\n",
       "      <td>University of Texas at Austin</td>\n",
       "      <td>Cell And Molecular Biology (CMB)</td>\n",
       "      <td>Rejected</td>\n",
       "      <td>3.12</td>\n",
       "      <td>310.0</td>\n",
       "      <td>4.0</td>\n",
       "    </tr>\n",
       "  </tbody>\n",
       "</table>\n",
       "<p>183 rows × 6 columns</p>\n",
       "</div>"
      ],
      "text/plain": [
       "                                         school  \\\n",
       "12                   University at Buffalo-SUNY   \n",
       "44      University of Maryland Baltimore County   \n",
       "51                            Purdue University   \n",
       "66      University of Illinois Urbana-Champaign   \n",
       "67              University of California (UCLA)   \n",
       "...                                         ...   \n",
       "101345          University Of Waterloo (Canada)   \n",
       "107487                  Northeastern University   \n",
       "108447         Florida International University   \n",
       "114524                     University of Kansas   \n",
       "115850            University of Texas at Austin   \n",
       "\n",
       "                                     program  decision   GPA    GRE  GRE_AW  \n",
       "12      Mechanical And Aerospace Engineering  Rejected  3.52  319.0     3.5  \n",
       "44                          Computer Science  Accepted  3.92  326.0     4.0  \n",
       "51                                Management  Rejected  3.97  325.0     4.0  \n",
       "66                    Mechanical Engineering  Rejected  3.97  317.0     4.5  \n",
       "67                          Computer Science  Rejected  3.80  326.0     4.5  \n",
       "...                                      ...       ...   ...    ...     ...  \n",
       "101345                  Cognitive Psychology  Rejected  3.40  310.0     3.0  \n",
       "107487                Electrical Engineering  Accepted  3.71  320.0     3.0  \n",
       "108447             Speech Language Pathology  Accepted  3.20  320.0     3.5  \n",
       "114524                      American Studies  Accepted  3.40  310.0     5.0  \n",
       "115850      Cell And Molecular Biology (CMB)  Rejected  3.12  310.0     4.0  \n",
       "\n",
       "[183 rows x 6 columns]"
      ]
     },
     "execution_count": 185,
     "metadata": {},
     "output_type": "execute_result"
    }
   ],
   "source": [
    "df_clean[(df_clean[\"GRE\"] > 300) & (df_clean[\"GRE\"] < 340)]"
   ]
  },
  {
   "cell_type": "code",
   "execution_count": 186,
   "id": "9b7c17a3",
   "metadata": {},
   "outputs": [
    {
     "data": {
      "text/html": [
       "<div>\n",
       "<style scoped>\n",
       "    .dataframe tbody tr th:only-of-type {\n",
       "        vertical-align: middle;\n",
       "    }\n",
       "\n",
       "    .dataframe tbody tr th {\n",
       "        vertical-align: top;\n",
       "    }\n",
       "\n",
       "    .dataframe thead th {\n",
       "        text-align: right;\n",
       "    }\n",
       "</style>\n",
       "<table border=\"1\" class=\"dataframe\">\n",
       "  <thead>\n",
       "    <tr style=\"text-align: right;\">\n",
       "      <th></th>\n",
       "      <th>school</th>\n",
       "      <th>program</th>\n",
       "      <th>decision</th>\n",
       "      <th>GPA</th>\n",
       "      <th>GRE</th>\n",
       "      <th>GRE_AW</th>\n",
       "    </tr>\n",
       "  </thead>\n",
       "  <tbody>\n",
       "    <tr>\n",
       "      <th>12</th>\n",
       "      <td>University at Buffalo-SUNY</td>\n",
       "      <td>Mechanical And Aerospace Engineering</td>\n",
       "      <td>Rejected</td>\n",
       "      <td>3.52</td>\n",
       "      <td>319.0</td>\n",
       "      <td>3.5</td>\n",
       "    </tr>\n",
       "    <tr>\n",
       "      <th>43</th>\n",
       "      <td>Rensselaer Polytechnic Institute</td>\n",
       "      <td>Biomedical Engineering</td>\n",
       "      <td>Rejected</td>\n",
       "      <td>3.43</td>\n",
       "      <td>165.0</td>\n",
       "      <td>4.0</td>\n",
       "    </tr>\n",
       "    <tr>\n",
       "      <th>44</th>\n",
       "      <td>University of Maryland Baltimore County</td>\n",
       "      <td>Computer Science</td>\n",
       "      <td>Accepted</td>\n",
       "      <td>3.92</td>\n",
       "      <td>326.0</td>\n",
       "      <td>4.0</td>\n",
       "    </tr>\n",
       "    <tr>\n",
       "      <th>51</th>\n",
       "      <td>Purdue University</td>\n",
       "      <td>Management</td>\n",
       "      <td>Rejected</td>\n",
       "      <td>3.97</td>\n",
       "      <td>325.0</td>\n",
       "      <td>4.0</td>\n",
       "    </tr>\n",
       "    <tr>\n",
       "      <th>66</th>\n",
       "      <td>University of Illinois Urbana-Champaign</td>\n",
       "      <td>Mechanical Engineering</td>\n",
       "      <td>Rejected</td>\n",
       "      <td>3.97</td>\n",
       "      <td>317.0</td>\n",
       "      <td>4.5</td>\n",
       "    </tr>\n",
       "    <tr>\n",
       "      <th>...</th>\n",
       "      <td>...</td>\n",
       "      <td>...</td>\n",
       "      <td>...</td>\n",
       "      <td>...</td>\n",
       "      <td>...</td>\n",
       "      <td>...</td>\n",
       "    </tr>\n",
       "    <tr>\n",
       "      <th>115940</th>\n",
       "      <td>University Of California, San Francisco (UCSF)</td>\n",
       "      <td>Neuroscience</td>\n",
       "      <td>Rejected</td>\n",
       "      <td>3.90</td>\n",
       "      <td>740.0</td>\n",
       "      <td>4.5</td>\n",
       "    </tr>\n",
       "    <tr>\n",
       "      <th>115946</th>\n",
       "      <td>Duke University</td>\n",
       "      <td>Statistics</td>\n",
       "      <td>Rejected</td>\n",
       "      <td>3.70</td>\n",
       "      <td>800.0</td>\n",
       "      <td>5.5</td>\n",
       "    </tr>\n",
       "    <tr>\n",
       "      <th>115948</th>\n",
       "      <td>Carnegie Mellon</td>\n",
       "      <td>Biological Sciences (Neuroscience)</td>\n",
       "      <td>Rejected</td>\n",
       "      <td>3.40</td>\n",
       "      <td>800.0</td>\n",
       "      <td>5.0</td>\n",
       "    </tr>\n",
       "    <tr>\n",
       "      <th>115953</th>\n",
       "      <td>University Of California, San Francisco (UCSF)</td>\n",
       "      <td>Neuroscience</td>\n",
       "      <td>Rejected</td>\n",
       "      <td>3.86</td>\n",
       "      <td>800.0</td>\n",
       "      <td>4.0</td>\n",
       "    </tr>\n",
       "    <tr>\n",
       "      <th>115954</th>\n",
       "      <td>University Of California, San Francisco (UCSF)</td>\n",
       "      <td>Neuroscience</td>\n",
       "      <td>Rejected</td>\n",
       "      <td>3.80</td>\n",
       "      <td>780.0</td>\n",
       "      <td>4.5</td>\n",
       "    </tr>\n",
       "  </tbody>\n",
       "</table>\n",
       "<p>17707 rows × 6 columns</p>\n",
       "</div>"
      ],
      "text/plain": [
       "                                                school  \\\n",
       "12                          University at Buffalo-SUNY   \n",
       "43                    Rensselaer Polytechnic Institute   \n",
       "44             University of Maryland Baltimore County   \n",
       "51                                   Purdue University   \n",
       "66             University of Illinois Urbana-Champaign   \n",
       "...                                                ...   \n",
       "115940  University Of California, San Francisco (UCSF)   \n",
       "115946                                 Duke University   \n",
       "115948                                 Carnegie Mellon   \n",
       "115953  University Of California, San Francisco (UCSF)   \n",
       "115954  University Of California, San Francisco (UCSF)   \n",
       "\n",
       "                                     program  decision   GPA    GRE  GRE_AW  \n",
       "12      Mechanical And Aerospace Engineering  Rejected  3.52  319.0     3.5  \n",
       "43                    Biomedical Engineering  Rejected  3.43  165.0     4.0  \n",
       "44                          Computer Science  Accepted  3.92  326.0     4.0  \n",
       "51                                Management  Rejected  3.97  325.0     4.0  \n",
       "66                    Mechanical Engineering  Rejected  3.97  317.0     4.5  \n",
       "...                                      ...       ...   ...    ...     ...  \n",
       "115940                          Neuroscience  Rejected  3.90  740.0     4.5  \n",
       "115946                            Statistics  Rejected  3.70  800.0     5.5  \n",
       "115948    Biological Sciences (Neuroscience)  Rejected  3.40  800.0     5.0  \n",
       "115953                          Neuroscience  Rejected  3.86  800.0     4.0  \n",
       "115954                          Neuroscience  Rejected  3.80  780.0     4.5  \n",
       "\n",
       "[17707 rows x 6 columns]"
      ]
     },
     "execution_count": 186,
     "metadata": {},
     "output_type": "execute_result"
    }
   ],
   "source": [
    "df_clean[df_clean[\"GRE_AW\"] > 3]"
   ]
  },
  {
   "cell_type": "code",
   "execution_count": 187,
   "id": "71a99454",
   "metadata": {},
   "outputs": [
    {
     "data": {
      "text/html": [
       "<div>\n",
       "<style scoped>\n",
       "    .dataframe tbody tr th:only-of-type {\n",
       "        vertical-align: middle;\n",
       "    }\n",
       "\n",
       "    .dataframe tbody tr th {\n",
       "        vertical-align: top;\n",
       "    }\n",
       "\n",
       "    .dataframe thead th {\n",
       "        text-align: right;\n",
       "    }\n",
       "</style>\n",
       "<table border=\"1\" class=\"dataframe\">\n",
       "  <thead>\n",
       "    <tr style=\"text-align: right;\">\n",
       "      <th></th>\n",
       "      <th>school</th>\n",
       "      <th>program</th>\n",
       "      <th>decision</th>\n",
       "      <th>GPA</th>\n",
       "      <th>GRE</th>\n",
       "      <th>GRE_AW</th>\n",
       "    </tr>\n",
       "  </thead>\n",
       "  <tbody>\n",
       "    <tr>\n",
       "      <th>3800</th>\n",
       "      <td>University of Wisconsin</td>\n",
       "      <td>Computer Science</td>\n",
       "      <td>Rejected</td>\n",
       "      <td>8.62</td>\n",
       "      <td>323.0</td>\n",
       "      <td>4.0</td>\n",
       "    </tr>\n",
       "    <tr>\n",
       "      <th>5592</th>\n",
       "      <td>University of Maryland</td>\n",
       "      <td>Economics</td>\n",
       "      <td>Accepted</td>\n",
       "      <td>9.22</td>\n",
       "      <td>165.0</td>\n",
       "      <td>3.5</td>\n",
       "    </tr>\n",
       "    <tr>\n",
       "      <th>7421</th>\n",
       "      <td>Carnegie Mellon University</td>\n",
       "      <td>Robotics ( MRSD )</td>\n",
       "      <td>Accepted</td>\n",
       "      <td>9.17</td>\n",
       "      <td>168.0</td>\n",
       "      <td>4.0</td>\n",
       "    </tr>\n",
       "    <tr>\n",
       "      <th>7579</th>\n",
       "      <td>University of Massachusetts Amherst</td>\n",
       "      <td>Computer Science</td>\n",
       "      <td>Rejected</td>\n",
       "      <td>8.89</td>\n",
       "      <td>168.0</td>\n",
       "      <td>4.0</td>\n",
       "    </tr>\n",
       "    <tr>\n",
       "      <th>8910</th>\n",
       "      <td>University of California</td>\n",
       "      <td>Computer Science</td>\n",
       "      <td>Accepted</td>\n",
       "      <td>9.10</td>\n",
       "      <td>170.0</td>\n",
       "      <td>3.5</td>\n",
       "    </tr>\n",
       "    <tr>\n",
       "      <th>...</th>\n",
       "      <td>...</td>\n",
       "      <td>...</td>\n",
       "      <td>...</td>\n",
       "      <td>...</td>\n",
       "      <td>...</td>\n",
       "      <td>...</td>\n",
       "    </tr>\n",
       "    <tr>\n",
       "      <th>113743</th>\n",
       "      <td>University of Pennsylvania</td>\n",
       "      <td>Telecommunication And Networking</td>\n",
       "      <td>Accepted</td>\n",
       "      <td>9.99</td>\n",
       "      <td>790.0</td>\n",
       "      <td>3.5</td>\n",
       "    </tr>\n",
       "    <tr>\n",
       "      <th>114318</th>\n",
       "      <td>Birla Institute Of Technology &amp; Science ,Pilan...</td>\n",
       "      <td>Petroleum Engineering And Geoscience</td>\n",
       "      <td>Accepted</td>\n",
       "      <td>8.00</td>\n",
       "      <td>800.0</td>\n",
       "      <td>4.0</td>\n",
       "    </tr>\n",
       "    <tr>\n",
       "      <th>114363</th>\n",
       "      <td>North Carolina State University (NCSU)</td>\n",
       "      <td>Materials Science And Engineering</td>\n",
       "      <td>Accepted</td>\n",
       "      <td>9.26</td>\n",
       "      <td>790.0</td>\n",
       "      <td>4.0</td>\n",
       "    </tr>\n",
       "    <tr>\n",
       "      <th>115039</th>\n",
       "      <td>Massachusetts Institute Of Technology (MIT)</td>\n",
       "      <td>Mathematics</td>\n",
       "      <td>Rejected</td>\n",
       "      <td>9.99</td>\n",
       "      <td>800.0</td>\n",
       "      <td>4.0</td>\n",
       "    </tr>\n",
       "    <tr>\n",
       "      <th>115782</th>\n",
       "      <td>Massachusetts Institute Of Technology (MIT)</td>\n",
       "      <td>Biology</td>\n",
       "      <td>Rejected</td>\n",
       "      <td>5.90</td>\n",
       "      <td>790.0</td>\n",
       "      <td>6.0</td>\n",
       "    </tr>\n",
       "  </tbody>\n",
       "</table>\n",
       "<p>140 rows × 6 columns</p>\n",
       "</div>"
      ],
      "text/plain": [
       "                                                   school  \\\n",
       "3800                              University of Wisconsin   \n",
       "5592                               University of Maryland   \n",
       "7421                           Carnegie Mellon University   \n",
       "7579                  University of Massachusetts Amherst   \n",
       "8910                             University of California   \n",
       "...                                                   ...   \n",
       "113743                         University of Pennsylvania   \n",
       "114318  Birla Institute Of Technology & Science ,Pilan...   \n",
       "114363             North Carolina State University (NCSU)   \n",
       "115039        Massachusetts Institute Of Technology (MIT)   \n",
       "115782        Massachusetts Institute Of Technology (MIT)   \n",
       "\n",
       "                                     program  decision   GPA    GRE  GRE_AW  \n",
       "3800                        Computer Science  Rejected  8.62  323.0     4.0  \n",
       "5592                               Economics  Accepted  9.22  165.0     3.5  \n",
       "7421                       Robotics ( MRSD )  Accepted  9.17  168.0     4.0  \n",
       "7579                        Computer Science  Rejected  8.89  168.0     4.0  \n",
       "8910                        Computer Science  Accepted  9.10  170.0     3.5  \n",
       "...                                      ...       ...   ...    ...     ...  \n",
       "113743      Telecommunication And Networking  Accepted  9.99  790.0     3.5  \n",
       "114318  Petroleum Engineering And Geoscience  Accepted  8.00  800.0     4.0  \n",
       "114363     Materials Science And Engineering  Accepted  9.26  790.0     4.0  \n",
       "115039                           Mathematics  Rejected  9.99  800.0     4.0  \n",
       "115782                               Biology  Rejected  5.90  790.0     6.0  \n",
       "\n",
       "[140 rows x 6 columns]"
      ]
     },
     "execution_count": 187,
     "metadata": {},
     "output_type": "execute_result"
    }
   ],
   "source": [
    "df_clean[df_clean[\"GPA\"] > 5]"
   ]
  },
  {
   "cell_type": "code",
   "execution_count": 188,
   "id": "044df771",
   "metadata": {},
   "outputs": [],
   "source": [
    "#df_clean.to_csv(r\"data/gc_data_clean.csv\", index=False) "
   ]
  },
  {
   "cell_type": "code",
   "execution_count": 189,
   "id": "124cdd0e",
   "metadata": {},
   "outputs": [
    {
     "data": {
      "text/plain": [
       "<Axes: xlabel='decision'>"
      ]
     },
     "execution_count": 189,
     "metadata": {},
     "output_type": "execute_result"
    },
    {
     "data": {
      "image/png": "[encoded data removed]",
      "text/plain": [
       "<Figure size 640x480 with 1 Axes>"
      ]
     },
     "metadata": {},
     "output_type": "display_data"
    }
   ],
   "source": [
    "df_clean[\"decision\"].value_counts().plot(kind='bar', color=['green', 'orange', 'red'])\n"
   ]
  },
  {
   "cell_type": "code",
   "execution_count": 190,
   "id": "0e0ad44f",
   "metadata": {},
   "outputs": [
    {
     "data": {
      "text/plain": [
       "<Axes: ylabel='Frequency'>"
      ]
     },
     "execution_count": 190,
     "metadata": {},
     "output_type": "execute_result"
    },
    {
     "data": {
      "image/png": "[encoded data removed]",
      "text/plain": [
       "<Figure size 640x480 with 1 Axes>"
      ]
     },
     "metadata": {},
     "output_type": "display_data"
    }
   ],
   "source": [
    "df_clean[\"GPA\"].plot(kind='hist', bins=20, edgecolor='black')"
   ]
  },
  {
   "cell_type": "code",
   "execution_count": 193,
   "id": "4478c87d",
   "metadata": {},
   "outputs": [
    {
     "data": {
      "text/plain": [
       "(1.0, 9.99)"
      ]
     },
     "execution_count": 193,
     "metadata": {},
     "output_type": "execute_result"
    }
   ],
   "source": [
    "df_clean[\"GPA\"].min(), df_clean[\"GPA\"].max()"
   ]
  },
  {
   "cell_type": "code",
   "execution_count": 192,
   "id": "61788a05",
   "metadata": {},
   "outputs": [
    {
     "data": {
      "text/plain": [
       "<Axes: ylabel='Frequency'>"
      ]
     },
     "execution_count": 192,
     "metadata": {},
     "output_type": "execute_result"
    },
    {
     "data": {
      "image/png": "[encoded data removed]",
      "text/plain": [
       "<Figure size 640x480 with 1 Axes>"
      ]
     },
     "metadata": {},
     "output_type": "display_data"
    }
   ],
   "source": [
    "df_clean[\"GRE\"].plot(kind='hist', bins=20, edgecolor='black')"
   ]
  },
  {
   "cell_type": "markdown",
   "id": "95685c99",
   "metadata": {},
   "source": []
  },
  {
   "cell_type": "code",
   "execution_count": null,
   "id": "6a0706ef",
   "metadata": {},
   "outputs": [],
   "source": []
  }
 ],
 "metadata": {
  "kernelspec": {
   "display_name": "base",
   "language": "python",
   "name": "python3"
  },
  "language_info": {
   "codemirror_mode": {
    "name": "ipython",
    "version": 3
   },
   "file_extension": ".py",
   "mimetype": "text/x-python",
   "name": "python",
   "nbconvert_exporter": "python",
   "pygments_lexer": "ipython3",
   "version": "3.11.5"
  }
 },
 "nbformat": 4,
 "nbformat_minor": 5
}
