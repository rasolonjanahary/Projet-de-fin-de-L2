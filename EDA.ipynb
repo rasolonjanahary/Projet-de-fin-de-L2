{
 "cells": [
  {
   "cell_type": "code",
   "execution_count": 194,
   "id": "1c40eb82",
   "metadata": {},
   "outputs": [],
   "source": [
    "#importation des libraries\n",
    "import pandas as pd\n",
    "import matplotlib.pyplot as plt\n",
    "import numpy as np\n",
    "import seaborn as sns\n",
    "\n",
    "#importation des biblioteques\n",
    "from sklearn.linear_model import LogisticRegression\n",
    "from sklearn.tree import DecisionTreeRegressor, DecisionTreeClassifier\n",
    "from sklearn.ensemble import RandomForestRegressor, RandomForestClassifier, GradientBoostingClassifier\n",
    "from sklearn.svm import SVR, SVC\n",
    "from sklearn.preprocessing import LabelEncoder, OneHotEncoder, StandardScaler\n",
    "from sklearn.compose import make_column_transformer, make_column_selector\n",
    "from sklearn.model_selection import train_test_split\n",
    "from sklearn.pipeline import Pipeline, make_pipeline\n",
    "from sklearn.metrics import f1_score, recall_score, confusion_matrix, accuracy_score, classification_report, r2_score"
   ]
  },
  {
   "cell_type": "code",
   "execution_count": 195,
   "id": "ed06b884",
   "metadata": {},
   "outputs": [
    {
     "data": {
      "text/html": [
       "<div>\n",
       "<style scoped>\n",
       "    .dataframe tbody tr th:only-of-type {\n",
       "        vertical-align: middle;\n",
       "    }\n",
       "\n",
       "    .dataframe tbody tr th {\n",
       "        vertical-align: top;\n",
       "    }\n",
       "\n",
       "    .dataframe thead th {\n",
       "        text-align: right;\n",
       "    }\n",
       "</style>\n",
       "<table border=\"1\" class=\"dataframe\">\n",
       "  <thead>\n",
       "    <tr style=\"text-align: right;\">\n",
       "      <th></th>\n",
       "      <th>Student ID</th>\n",
       "      <th>University ID</th>\n",
       "      <th>University Name</th>\n",
       "      <th>Age</th>\n",
       "      <th>Gender</th>\n",
       "      <th>Major</th>\n",
       "      <th>Year of Study</th>\n",
       "      <th>GPA</th>\n",
       "      <th>High School GPA</th>\n",
       "      <th>Entrance Exam Score</th>\n",
       "      <th>...</th>\n",
       "      <th>Research Involvement</th>\n",
       "      <th>Internship Experience</th>\n",
       "      <th>Peer Reviews</th>\n",
       "      <th>Academic Advising</th>\n",
       "      <th>Learning Style</th>\n",
       "      <th>Study Environment</th>\n",
       "      <th>Core Course Average</th>\n",
       "      <th>Extracurricular Participation</th>\n",
       "      <th>Peer Evaluations</th>\n",
       "      <th>Performance</th>\n",
       "    </tr>\n",
       "  </thead>\n",
       "  <tbody>\n",
       "    <tr>\n",
       "      <th>0</th>\n",
       "      <td>1</td>\n",
       "      <td>86</td>\n",
       "      <td>University C</td>\n",
       "      <td>25</td>\n",
       "      <td>F</td>\n",
       "      <td>EE</td>\n",
       "      <td>1</td>\n",
       "      <td>2.06</td>\n",
       "      <td>3.50</td>\n",
       "      <td>60</td>\n",
       "      <td>...</td>\n",
       "      <td>0</td>\n",
       "      <td>0</td>\n",
       "      <td>61</td>\n",
       "      <td>5</td>\n",
       "      <td>Visual</td>\n",
       "      <td>Good</td>\n",
       "      <td>51</td>\n",
       "      <td>0</td>\n",
       "      <td>83</td>\n",
       "      <td>Satisfactory</td>\n",
       "    </tr>\n",
       "    <tr>\n",
       "      <th>1</th>\n",
       "      <td>2</td>\n",
       "      <td>17</td>\n",
       "      <td>University A</td>\n",
       "      <td>26</td>\n",
       "      <td>F</td>\n",
       "      <td>ME</td>\n",
       "      <td>4</td>\n",
       "      <td>2.12</td>\n",
       "      <td>3.46</td>\n",
       "      <td>52</td>\n",
       "      <td>...</td>\n",
       "      <td>0</td>\n",
       "      <td>1</td>\n",
       "      <td>72</td>\n",
       "      <td>7</td>\n",
       "      <td>Reading/Writing</td>\n",
       "      <td>Excellent</td>\n",
       "      <td>60</td>\n",
       "      <td>0</td>\n",
       "      <td>56</td>\n",
       "      <td>Poor</td>\n",
       "    </tr>\n",
       "    <tr>\n",
       "      <th>2</th>\n",
       "      <td>3</td>\n",
       "      <td>52</td>\n",
       "      <td>University C</td>\n",
       "      <td>20</td>\n",
       "      <td>M</td>\n",
       "      <td>CS</td>\n",
       "      <td>4</td>\n",
       "      <td>2.72</td>\n",
       "      <td>3.33</td>\n",
       "      <td>94</td>\n",
       "      <td>...</td>\n",
       "      <td>0</td>\n",
       "      <td>0</td>\n",
       "      <td>79</td>\n",
       "      <td>2</td>\n",
       "      <td>Auditory</td>\n",
       "      <td>Excellent</td>\n",
       "      <td>65</td>\n",
       "      <td>0</td>\n",
       "      <td>52</td>\n",
       "      <td>Satisfactory</td>\n",
       "    </tr>\n",
       "    <tr>\n",
       "      <th>3</th>\n",
       "      <td>4</td>\n",
       "      <td>91</td>\n",
       "      <td>University A</td>\n",
       "      <td>25</td>\n",
       "      <td>M</td>\n",
       "      <td>ME</td>\n",
       "      <td>1</td>\n",
       "      <td>3.05</td>\n",
       "      <td>3.54</td>\n",
       "      <td>65</td>\n",
       "      <td>...</td>\n",
       "      <td>1</td>\n",
       "      <td>0</td>\n",
       "      <td>50</td>\n",
       "      <td>7</td>\n",
       "      <td>Kinesthetic</td>\n",
       "      <td>Excellent</td>\n",
       "      <td>58</td>\n",
       "      <td>1</td>\n",
       "      <td>65</td>\n",
       "      <td>Needs Improvement</td>\n",
       "    </tr>\n",
       "    <tr>\n",
       "      <th>4</th>\n",
       "      <td>5</td>\n",
       "      <td>33</td>\n",
       "      <td>University C</td>\n",
       "      <td>22</td>\n",
       "      <td>F</td>\n",
       "      <td>CE</td>\n",
       "      <td>3</td>\n",
       "      <td>1.86</td>\n",
       "      <td>3.35</td>\n",
       "      <td>51</td>\n",
       "      <td>...</td>\n",
       "      <td>1</td>\n",
       "      <td>1</td>\n",
       "      <td>68</td>\n",
       "      <td>4</td>\n",
       "      <td>Visual</td>\n",
       "      <td>Poor</td>\n",
       "      <td>62</td>\n",
       "      <td>0</td>\n",
       "      <td>71</td>\n",
       "      <td>Good</td>\n",
       "    </tr>\n",
       "  </tbody>\n",
       "</table>\n",
       "<p>5 rows × 51 columns</p>\n",
       "</div>"
      ],
      "text/plain": [
       "   Student ID  University ID University Name  Age Gender Major  Year of Study  \\\n",
       "0           1             86    University C   25      F    EE              1   \n",
       "1           2             17    University A   26      F    ME              4   \n",
       "2           3             52    University C   20      M    CS              4   \n",
       "3           4             91    University A   25      M    ME              1   \n",
       "4           5             33    University C   22      F    CE              3   \n",
       "\n",
       "    GPA  High School GPA  Entrance Exam Score  ...  Research Involvement  \\\n",
       "0  2.06             3.50                   60  ...                     0   \n",
       "1  2.12             3.46                   52  ...                     0   \n",
       "2  2.72             3.33                   94  ...                     0   \n",
       "3  3.05             3.54                   65  ...                     1   \n",
       "4  1.86             3.35                   51  ...                     1   \n",
       "\n",
       "   Internship Experience  Peer Reviews  Academic Advising   Learning Style  \\\n",
       "0                      0            61                  5           Visual   \n",
       "1                      1            72                  7  Reading/Writing   \n",
       "2                      0            79                  2         Auditory   \n",
       "3                      0            50                  7      Kinesthetic   \n",
       "4                      1            68                  4           Visual   \n",
       "\n",
       "  Study Environment Core Course Average  Extracurricular Participation  \\\n",
       "0              Good                  51                              0   \n",
       "1         Excellent                  60                              0   \n",
       "2         Excellent                  65                              0   \n",
       "3         Excellent                  58                              1   \n",
       "4              Poor                  62                              0   \n",
       "\n",
       "   Peer Evaluations        Performance  \n",
       "0                83       Satisfactory  \n",
       "1                56               Poor  \n",
       "2                52       Satisfactory  \n",
       "3                65  Needs Improvement  \n",
       "4                71               Good  \n",
       "\n",
       "[5 rows x 51 columns]"
      ]
     },
     "execution_count": 195,
     "metadata": {},
     "output_type": "execute_result"
    }
   ],
   "source": [
    "#Importation des datasets\n",
    "df = pd.read_csv(\"Australian_Student_PerformanceData (ASPD24).csv\")\n",
    "df.head()"
   ]
  },
  {
   "cell_type": "code",
   "execution_count": 196,
   "id": "e1e1327e",
   "metadata": {},
   "outputs": [
    {
     "data": {
      "text/plain": [
       "Index(['Student ID', 'University ID', 'University Name', 'Age', 'Gender',\n",
       "       'Major', 'Year of Study', 'GPA', 'High School GPA',\n",
       "       'Entrance Exam Score', 'Attendance Rate',\n",
       "       'Participation in Extracurricular Activities', 'Part-time Job',\n",
       "       'Hours of Study per Week', 'Family Income', 'Parental Education Level',\n",
       "       'Accommodation Type', 'Distance from Home to University',\n",
       "       'Internet Access at Home', 'Library Usage',\n",
       "       'Access to Academic Resources', 'Health Condition',\n",
       "       'Mental Health Status', 'Scholarship', 'Financial Aid', 'Tutor Support',\n",
       "       'Counseling Services', 'Transportation Mode',\n",
       "       'Hours of Sleep per Night', 'Diet Quality', 'Exercise Frequency',\n",
       "       'Social Integration', 'Peer Support', 'Language Proficiency',\n",
       "       'Use of Online Learning Platforms', 'Class Participation',\n",
       "       'Project/Assignment Scores', 'Midterm Exam Scores', 'Final Exam Scores',\n",
       "       'Attendance at Office Hours', 'Group Work Participation',\n",
       "       'Research Involvement', 'Internship Experience', 'Peer Reviews',\n",
       "       'Academic Advising', 'Learning Style', 'Study Environment',\n",
       "       'Core Course Average', 'Extracurricular Participation',\n",
       "       'Peer Evaluations', 'Performance'],\n",
       "      dtype='object')"
      ]
     },
     "execution_count": 196,
     "metadata": {},
     "output_type": "execute_result"
    }
   ],
   "source": [
    "df.columns"
   ]
  },
  {
   "cell_type": "markdown",
   "id": "27b22ec7",
   "metadata": {},
   "source": [
    "Il y a 100256 lignes des données et 51 variables "
   ]
  },
  {
   "cell_type": "code",
   "execution_count": 197,
   "id": "e74bc1f9",
   "metadata": {},
   "outputs": [
    {
     "data": {
      "text/plain": [
       "(100256, 51)"
      ]
     },
     "execution_count": 197,
     "metadata": {},
     "output_type": "execute_result"
    }
   ],
   "source": [
    "df.shape"
   ]
  },
  {
   "cell_type": "markdown",
   "id": "b8035d50",
   "metadata": {},
   "source": [
    "Il y a 19966 des valeurs NAN dans la variables \"Parental Education Level\""
   ]
  },
  {
   "cell_type": "code",
   "execution_count": 198,
   "id": "bfe66ef5",
   "metadata": {},
   "outputs": [
    {
     "data": {
      "text/plain": [
       "Student ID                                         0\n",
       "University ID                                      0\n",
       "University Name                                    0\n",
       "Age                                                0\n",
       "Gender                                             0\n",
       "Major                                              0\n",
       "Year of Study                                      0\n",
       "GPA                                                0\n",
       "High School GPA                                    0\n",
       "Entrance Exam Score                                0\n",
       "Attendance Rate                                    0\n",
       "Participation in Extracurricular Activities        0\n",
       "Part-time Job                                      0\n",
       "Hours of Study per Week                            0\n",
       "Family Income                                      0\n",
       "Parental Education Level                       19966\n",
       "Accommodation Type                                 0\n",
       "Distance from Home to University                   0\n",
       "Internet Access at Home                            0\n",
       "Library Usage                                      0\n",
       "Access to Academic Resources                       0\n",
       "Health Condition                                   0\n",
       "Mental Health Status                               0\n",
       "Scholarship                                        0\n",
       "Financial Aid                                      0\n",
       "Tutor Support                                      0\n",
       "Counseling Services                                0\n",
       "Transportation Mode                                0\n",
       "Hours of Sleep per Night                           0\n",
       "Diet Quality                                       0\n",
       "Exercise Frequency                                 0\n",
       "Social Integration                                 0\n",
       "Peer Support                                       0\n",
       "Language Proficiency                               0\n",
       "Use of Online Learning Platforms                   0\n",
       "Class Participation                                0\n",
       "Project/Assignment Scores                          0\n",
       "Midterm Exam Scores                                0\n",
       "Final Exam Scores                                  0\n",
       "Attendance at Office Hours                         0\n",
       "Group Work Participation                           0\n",
       "Research Involvement                               0\n",
       "Internship Experience                              0\n",
       "Peer Reviews                                       0\n",
       "Academic Advising                                  0\n",
       "Learning Style                                     0\n",
       "Study Environment                                  0\n",
       "Core Course Average                                0\n",
       "Extracurricular Participation                      0\n",
       "Peer Evaluations                                   0\n",
       "Performance                                        0\n",
       "dtype: int64"
      ]
     },
     "execution_count": 198,
     "metadata": {},
     "output_type": "execute_result"
    }
   ],
   "source": [
    "df.isna().sum()"
   ]
  },
  {
   "cell_type": "markdown",
   "id": "be3c8729",
   "metadata": {},
   "source": [
    "Il n'y pas des variables dupliqué dans le données"
   ]
  },
  {
   "cell_type": "code",
   "execution_count": 199,
   "id": "d45b2504",
   "metadata": {},
   "outputs": [
    {
     "data": {
      "text/plain": [
       "0"
      ]
     },
     "execution_count": 199,
     "metadata": {},
     "output_type": "execute_result"
    }
   ],
   "source": [
    "df.duplicated().sum()"
   ]
  },
  {
   "cell_type": "code",
   "execution_count": 200,
   "id": "9ff7ef90",
   "metadata": {},
   "outputs": [
    {
     "data": {
      "text/html": [
       "<div>\n",
       "<style scoped>\n",
       "    .dataframe tbody tr th:only-of-type {\n",
       "        vertical-align: middle;\n",
       "    }\n",
       "\n",
       "    .dataframe tbody tr th {\n",
       "        vertical-align: top;\n",
       "    }\n",
       "\n",
       "    .dataframe thead th {\n",
       "        text-align: right;\n",
       "    }\n",
       "</style>\n",
       "<table border=\"1\" class=\"dataframe\">\n",
       "  <thead>\n",
       "    <tr style=\"text-align: right;\">\n",
       "      <th></th>\n",
       "      <th>Student ID</th>\n",
       "      <th>University ID</th>\n",
       "      <th>Age</th>\n",
       "      <th>Year of Study</th>\n",
       "      <th>GPA</th>\n",
       "      <th>High School GPA</th>\n",
       "      <th>Entrance Exam Score</th>\n",
       "      <th>Attendance Rate</th>\n",
       "      <th>Participation in Extracurricular Activities</th>\n",
       "      <th>Part-time Job</th>\n",
       "      <th>...</th>\n",
       "      <th>Final Exam Scores</th>\n",
       "      <th>Attendance at Office Hours</th>\n",
       "      <th>Group Work Participation</th>\n",
       "      <th>Research Involvement</th>\n",
       "      <th>Internship Experience</th>\n",
       "      <th>Peer Reviews</th>\n",
       "      <th>Academic Advising</th>\n",
       "      <th>Core Course Average</th>\n",
       "      <th>Extracurricular Participation</th>\n",
       "      <th>Peer Evaluations</th>\n",
       "    </tr>\n",
       "  </thead>\n",
       "  <tbody>\n",
       "    <tr>\n",
       "      <th>count</th>\n",
       "      <td>100256.000000</td>\n",
       "      <td>100256.000000</td>\n",
       "      <td>100256.000000</td>\n",
       "      <td>100256.000000</td>\n",
       "      <td>100256.000000</td>\n",
       "      <td>100256.000000</td>\n",
       "      <td>100256.000000</td>\n",
       "      <td>100256.000000</td>\n",
       "      <td>100256.000000</td>\n",
       "      <td>100256.000000</td>\n",
       "      <td>...</td>\n",
       "      <td>100256.000000</td>\n",
       "      <td>100256.000000</td>\n",
       "      <td>100256.000000</td>\n",
       "      <td>100256.000000</td>\n",
       "      <td>100256.000000</td>\n",
       "      <td>100256.000000</td>\n",
       "      <td>100256.000000</td>\n",
       "      <td>100256.000000</td>\n",
       "      <td>100256.000000</td>\n",
       "      <td>100256.000000</td>\n",
       "    </tr>\n",
       "    <tr>\n",
       "      <th>mean</th>\n",
       "      <td>50128.500000</td>\n",
       "      <td>50.445579</td>\n",
       "      <td>23.502504</td>\n",
       "      <td>2.503960</td>\n",
       "      <td>2.497590</td>\n",
       "      <td>2.995729</td>\n",
       "      <td>74.429052</td>\n",
       "      <td>0.749768</td>\n",
       "      <td>0.501097</td>\n",
       "      <td>0.500559</td>\n",
       "      <td>...</td>\n",
       "      <td>74.562580</td>\n",
       "      <td>4.496170</td>\n",
       "      <td>0.500798</td>\n",
       "      <td>0.499551</td>\n",
       "      <td>0.499781</td>\n",
       "      <td>74.470735</td>\n",
       "      <td>4.494664</td>\n",
       "      <td>74.483492</td>\n",
       "      <td>0.500399</td>\n",
       "      <td>74.550411</td>\n",
       "    </tr>\n",
       "    <tr>\n",
       "      <th>std</th>\n",
       "      <td>28941.558631</td>\n",
       "      <td>28.908475</td>\n",
       "      <td>3.449642</td>\n",
       "      <td>1.118541</td>\n",
       "      <td>0.864179</td>\n",
       "      <td>0.578641</td>\n",
       "      <td>14.408504</td>\n",
       "      <td>0.144357</td>\n",
       "      <td>0.500001</td>\n",
       "      <td>0.500002</td>\n",
       "      <td>...</td>\n",
       "      <td>14.447233</td>\n",
       "      <td>2.882907</td>\n",
       "      <td>0.500002</td>\n",
       "      <td>0.500002</td>\n",
       "      <td>0.500002</td>\n",
       "      <td>14.402783</td>\n",
       "      <td>2.872367</td>\n",
       "      <td>14.396146</td>\n",
       "      <td>0.500002</td>\n",
       "      <td>14.445583</td>\n",
       "    </tr>\n",
       "    <tr>\n",
       "      <th>min</th>\n",
       "      <td>1.000000</td>\n",
       "      <td>1.000000</td>\n",
       "      <td>18.000000</td>\n",
       "      <td>1.000000</td>\n",
       "      <td>1.000000</td>\n",
       "      <td>2.000000</td>\n",
       "      <td>50.000000</td>\n",
       "      <td>0.500000</td>\n",
       "      <td>0.000000</td>\n",
       "      <td>0.000000</td>\n",
       "      <td>...</td>\n",
       "      <td>50.000000</td>\n",
       "      <td>0.000000</td>\n",
       "      <td>0.000000</td>\n",
       "      <td>0.000000</td>\n",
       "      <td>0.000000</td>\n",
       "      <td>50.000000</td>\n",
       "      <td>0.000000</td>\n",
       "      <td>50.000000</td>\n",
       "      <td>0.000000</td>\n",
       "      <td>50.000000</td>\n",
       "    </tr>\n",
       "    <tr>\n",
       "      <th>25%</th>\n",
       "      <td>25064.750000</td>\n",
       "      <td>25.000000</td>\n",
       "      <td>21.000000</td>\n",
       "      <td>2.000000</td>\n",
       "      <td>1.750000</td>\n",
       "      <td>2.490000</td>\n",
       "      <td>62.000000</td>\n",
       "      <td>0.620000</td>\n",
       "      <td>0.000000</td>\n",
       "      <td>0.000000</td>\n",
       "      <td>...</td>\n",
       "      <td>62.000000</td>\n",
       "      <td>2.000000</td>\n",
       "      <td>0.000000</td>\n",
       "      <td>0.000000</td>\n",
       "      <td>0.000000</td>\n",
       "      <td>62.000000</td>\n",
       "      <td>2.000000</td>\n",
       "      <td>62.000000</td>\n",
       "      <td>0.000000</td>\n",
       "      <td>62.000000</td>\n",
       "    </tr>\n",
       "    <tr>\n",
       "      <th>50%</th>\n",
       "      <td>50128.500000</td>\n",
       "      <td>50.000000</td>\n",
       "      <td>24.000000</td>\n",
       "      <td>3.000000</td>\n",
       "      <td>2.500000</td>\n",
       "      <td>2.990000</td>\n",
       "      <td>74.000000</td>\n",
       "      <td>0.750000</td>\n",
       "      <td>1.000000</td>\n",
       "      <td>1.000000</td>\n",
       "      <td>...</td>\n",
       "      <td>75.000000</td>\n",
       "      <td>4.000000</td>\n",
       "      <td>1.000000</td>\n",
       "      <td>0.000000</td>\n",
       "      <td>0.000000</td>\n",
       "      <td>74.000000</td>\n",
       "      <td>4.000000</td>\n",
       "      <td>74.000000</td>\n",
       "      <td>1.000000</td>\n",
       "      <td>75.000000</td>\n",
       "    </tr>\n",
       "    <tr>\n",
       "      <th>75%</th>\n",
       "      <td>75192.250000</td>\n",
       "      <td>76.000000</td>\n",
       "      <td>27.000000</td>\n",
       "      <td>4.000000</td>\n",
       "      <td>3.240000</td>\n",
       "      <td>3.500000</td>\n",
       "      <td>87.000000</td>\n",
       "      <td>0.870000</td>\n",
       "      <td>1.000000</td>\n",
       "      <td>1.000000</td>\n",
       "      <td>...</td>\n",
       "      <td>87.000000</td>\n",
       "      <td>7.000000</td>\n",
       "      <td>1.000000</td>\n",
       "      <td>1.000000</td>\n",
       "      <td>1.000000</td>\n",
       "      <td>87.000000</td>\n",
       "      <td>7.000000</td>\n",
       "      <td>87.000000</td>\n",
       "      <td>1.000000</td>\n",
       "      <td>87.000000</td>\n",
       "    </tr>\n",
       "    <tr>\n",
       "      <th>max</th>\n",
       "      <td>100256.000000</td>\n",
       "      <td>100.000000</td>\n",
       "      <td>29.000000</td>\n",
       "      <td>4.000000</td>\n",
       "      <td>4.000000</td>\n",
       "      <td>4.000000</td>\n",
       "      <td>99.000000</td>\n",
       "      <td>1.000000</td>\n",
       "      <td>1.000000</td>\n",
       "      <td>1.000000</td>\n",
       "      <td>...</td>\n",
       "      <td>99.000000</td>\n",
       "      <td>9.000000</td>\n",
       "      <td>1.000000</td>\n",
       "      <td>1.000000</td>\n",
       "      <td>1.000000</td>\n",
       "      <td>99.000000</td>\n",
       "      <td>9.000000</td>\n",
       "      <td>99.000000</td>\n",
       "      <td>1.000000</td>\n",
       "      <td>99.000000</td>\n",
       "    </tr>\n",
       "  </tbody>\n",
       "</table>\n",
       "<p>8 rows × 36 columns</p>\n",
       "</div>"
      ],
      "text/plain": [
       "          Student ID  University ID            Age  Year of Study  \\\n",
       "count  100256.000000  100256.000000  100256.000000  100256.000000   \n",
       "mean    50128.500000      50.445579      23.502504       2.503960   \n",
       "std     28941.558631      28.908475       3.449642       1.118541   \n",
       "min         1.000000       1.000000      18.000000       1.000000   \n",
       "25%     25064.750000      25.000000      21.000000       2.000000   \n",
       "50%     50128.500000      50.000000      24.000000       3.000000   \n",
       "75%     75192.250000      76.000000      27.000000       4.000000   \n",
       "max    100256.000000     100.000000      29.000000       4.000000   \n",
       "\n",
       "                 GPA  High School GPA  Entrance Exam Score  Attendance Rate  \\\n",
       "count  100256.000000    100256.000000        100256.000000    100256.000000   \n",
       "mean        2.497590         2.995729            74.429052         0.749768   \n",
       "std         0.864179         0.578641            14.408504         0.144357   \n",
       "min         1.000000         2.000000            50.000000         0.500000   \n",
       "25%         1.750000         2.490000            62.000000         0.620000   \n",
       "50%         2.500000         2.990000            74.000000         0.750000   \n",
       "75%         3.240000         3.500000            87.000000         0.870000   \n",
       "max         4.000000         4.000000            99.000000         1.000000   \n",
       "\n",
       "       Participation in Extracurricular Activities  Part-time Job  ...  \\\n",
       "count                                100256.000000  100256.000000  ...   \n",
       "mean                                      0.501097       0.500559  ...   \n",
       "std                                       0.500001       0.500002  ...   \n",
       "min                                       0.000000       0.000000  ...   \n",
       "25%                                       0.000000       0.000000  ...   \n",
       "50%                                       1.000000       1.000000  ...   \n",
       "75%                                       1.000000       1.000000  ...   \n",
       "max                                       1.000000       1.000000  ...   \n",
       "\n",
       "       Final Exam Scores  Attendance at Office Hours  \\\n",
       "count      100256.000000               100256.000000   \n",
       "mean           74.562580                    4.496170   \n",
       "std            14.447233                    2.882907   \n",
       "min            50.000000                    0.000000   \n",
       "25%            62.000000                    2.000000   \n",
       "50%            75.000000                    4.000000   \n",
       "75%            87.000000                    7.000000   \n",
       "max            99.000000                    9.000000   \n",
       "\n",
       "       Group Work Participation  Research Involvement  Internship Experience  \\\n",
       "count             100256.000000         100256.000000          100256.000000   \n",
       "mean                   0.500798              0.499551               0.499781   \n",
       "std                    0.500002              0.500002               0.500002   \n",
       "min                    0.000000              0.000000               0.000000   \n",
       "25%                    0.000000              0.000000               0.000000   \n",
       "50%                    1.000000              0.000000               0.000000   \n",
       "75%                    1.000000              1.000000               1.000000   \n",
       "max                    1.000000              1.000000               1.000000   \n",
       "\n",
       "        Peer Reviews  Academic Advising  Core Course Average  \\\n",
       "count  100256.000000      100256.000000        100256.000000   \n",
       "mean       74.470735           4.494664            74.483492   \n",
       "std        14.402783           2.872367            14.396146   \n",
       "min        50.000000           0.000000            50.000000   \n",
       "25%        62.000000           2.000000            62.000000   \n",
       "50%        74.000000           4.000000            74.000000   \n",
       "75%        87.000000           7.000000            87.000000   \n",
       "max        99.000000           9.000000            99.000000   \n",
       "\n",
       "       Extracurricular Participation  Peer Evaluations  \n",
       "count                  100256.000000     100256.000000  \n",
       "mean                        0.500399         74.550411  \n",
       "std                         0.500002         14.445583  \n",
       "min                         0.000000         50.000000  \n",
       "25%                         0.000000         62.000000  \n",
       "50%                         1.000000         75.000000  \n",
       "75%                         1.000000         87.000000  \n",
       "max                         1.000000         99.000000  \n",
       "\n",
       "[8 rows x 36 columns]"
      ]
     },
     "execution_count": 200,
     "metadata": {},
     "output_type": "execute_result"
    }
   ],
   "source": [
    "data_resum = df.describe()\n",
    "data_resum"
   ]
  },
  {
   "cell_type": "code",
   "execution_count": 201,
   "id": "b681a43a",
   "metadata": {},
   "outputs": [
    {
     "data": {
      "text/plain": [
       "(8, 36)"
      ]
     },
     "execution_count": 201,
     "metadata": {},
     "output_type": "execute_result"
    }
   ],
   "source": [
    "data_resum.shape"
   ]
  },
  {
   "cell_type": "code",
   "execution_count": 202,
   "id": "931900ab",
   "metadata": {},
   "outputs": [],
   "source": [
    "data_gpa = df[[\"GPA\", \"Final Exam Scores\", \"Hours of Study per Week\", \"Attendance Rate\",\"Mental Health Status\", \"Participation in Extracurricular Activities\", \"Family Income\", \"Performance\"]]\n",
    "data_hsgpa = df[[\"High School GPA\", \"Final Exam Scores\", \"Hours of Study per Week\", \"Attendance Rate\",\"Mental Health Status\", \"Participation in Extracurricular Activities\", \"Family Income\", \"Performance\"]]"
   ]
  },
  {
   "cell_type": "code",
   "execution_count": 203,
   "id": "57a9adc3",
   "metadata": {},
   "outputs": [
    {
     "name": "stdout",
     "output_type": "stream",
     "text": [
      "Index(['GPA', 'Final Exam Scores', 'Hours of Study per Week',\n",
      "       'Attendance Rate', 'Mental Health Status',\n",
      "       'Participation in Extracurricular Activities', 'Family Income',\n",
      "       'Performance'],\n",
      "      dtype='object')\n",
      "Index(['High School GPA', 'Final Exam Scores', 'Hours of Study per Week',\n",
      "       'Attendance Rate', 'Mental Health Status',\n",
      "       'Participation in Extracurricular Activities', 'Family Income',\n",
      "       'Performance'],\n",
      "      dtype='object')\n"
     ]
    }
   ],
   "source": [
    "print(data_gpa.columns)\n",
    "print(data_hsgpa.columns)"
   ]
  },
  {
   "cell_type": "markdown",
   "id": "94ed9ab9",
   "metadata": {},
   "source": [
    "Tranformation des données pour les changements d'universités"
   ]
  },
  {
   "cell_type": "code",
   "execution_count": 204,
   "id": "ba6ea4a6",
   "metadata": {},
   "outputs": [],
   "source": [
    "def eval_performance(gpa):\n",
    "    if gpa < 2.0:\n",
    "        return \"Poor\"\n",
    "    elif gpa < 2.5:\n",
    "        return \"Needs Improvement\"\n",
    "    elif gpa < 3.0:\n",
    "        return \"Satisfactory\"\n",
    "    elif gpa < 3.5:\n",
    "        return \"Good\"\n",
    "    else:\n",
    "        return \"Excellent\""
   ]
  },
  {
   "cell_type": "code",
   "execution_count": 205,
   "id": "fba8b178",
   "metadata": {},
   "outputs": [
    {
     "name": "stderr",
     "output_type": "stream",
     "text": [
      "C:\\Users\\ADMIN\\AppData\\Local\\Temp\\ipykernel_7176\\278985536.py:1: SettingWithCopyWarning: \n",
      "A value is trying to be set on a copy of a slice from a DataFrame.\n",
      "Try using .loc[row_indexer,col_indexer] = value instead\n",
      "\n",
      "See the caveats in the documentation: https://pandas.pydata.org/pandas-docs/stable/user_guide/indexing.html#returning-a-view-versus-a-copy\n",
      "  data_gpa[\"Performance\"] = data_gpa[\"GPA\"].apply(eval_performance)\n"
     ]
    }
   ],
   "source": [
    "data_gpa[\"Performance\"] = data_gpa[\"GPA\"].apply(eval_performance)"
   ]
  },
  {
   "cell_type": "code",
   "execution_count": 206,
   "id": "134e9c5c",
   "metadata": {},
   "outputs": [
    {
     "data": {
      "text/html": [
       "<div>\n",
       "<style scoped>\n",
       "    .dataframe tbody tr th:only-of-type {\n",
       "        vertical-align: middle;\n",
       "    }\n",
       "\n",
       "    .dataframe tbody tr th {\n",
       "        vertical-align: top;\n",
       "    }\n",
       "\n",
       "    .dataframe thead th {\n",
       "        text-align: right;\n",
       "    }\n",
       "</style>\n",
       "<table border=\"1\" class=\"dataframe\">\n",
       "  <thead>\n",
       "    <tr style=\"text-align: right;\">\n",
       "      <th></th>\n",
       "      <th>GPA</th>\n",
       "      <th>Final Exam Scores</th>\n",
       "      <th>Hours of Study per Week</th>\n",
       "      <th>Attendance Rate</th>\n",
       "      <th>Mental Health Status</th>\n",
       "      <th>Participation in Extracurricular Activities</th>\n",
       "      <th>Family Income</th>\n",
       "      <th>Performance</th>\n",
       "    </tr>\n",
       "  </thead>\n",
       "  <tbody>\n",
       "    <tr>\n",
       "      <th>0</th>\n",
       "      <td>2.06</td>\n",
       "      <td>81</td>\n",
       "      <td>17</td>\n",
       "      <td>0.84</td>\n",
       "      <td>Fair</td>\n",
       "      <td>0</td>\n",
       "      <td>145601</td>\n",
       "      <td>Needs Improvement</td>\n",
       "    </tr>\n",
       "    <tr>\n",
       "      <th>1</th>\n",
       "      <td>2.12</td>\n",
       "      <td>79</td>\n",
       "      <td>21</td>\n",
       "      <td>0.73</td>\n",
       "      <td>Excellent</td>\n",
       "      <td>1</td>\n",
       "      <td>53989</td>\n",
       "      <td>Needs Improvement</td>\n",
       "    </tr>\n",
       "    <tr>\n",
       "      <th>2</th>\n",
       "      <td>2.72</td>\n",
       "      <td>53</td>\n",
       "      <td>34</td>\n",
       "      <td>0.96</td>\n",
       "      <td>Poor</td>\n",
       "      <td>0</td>\n",
       "      <td>109617</td>\n",
       "      <td>Satisfactory</td>\n",
       "    </tr>\n",
       "    <tr>\n",
       "      <th>3</th>\n",
       "      <td>3.05</td>\n",
       "      <td>81</td>\n",
       "      <td>21</td>\n",
       "      <td>0.84</td>\n",
       "      <td>Fair</td>\n",
       "      <td>1</td>\n",
       "      <td>152274</td>\n",
       "      <td>Good</td>\n",
       "    </tr>\n",
       "    <tr>\n",
       "      <th>4</th>\n",
       "      <td>1.86</td>\n",
       "      <td>93</td>\n",
       "      <td>37</td>\n",
       "      <td>0.92</td>\n",
       "      <td>Fair</td>\n",
       "      <td>1</td>\n",
       "      <td>86133</td>\n",
       "      <td>Poor</td>\n",
       "    </tr>\n",
       "  </tbody>\n",
       "</table>\n",
       "</div>"
      ],
      "text/plain": [
       "    GPA  Final Exam Scores  Hours of Study per Week  Attendance Rate  \\\n",
       "0  2.06                 81                       17             0.84   \n",
       "1  2.12                 79                       21             0.73   \n",
       "2  2.72                 53                       34             0.96   \n",
       "3  3.05                 81                       21             0.84   \n",
       "4  1.86                 93                       37             0.92   \n",
       "\n",
       "  Mental Health Status  Participation in Extracurricular Activities  \\\n",
       "0                 Fair                                            0   \n",
       "1            Excellent                                            1   \n",
       "2                 Poor                                            0   \n",
       "3                 Fair                                            1   \n",
       "4                 Fair                                            1   \n",
       "\n",
       "   Family Income        Performance  \n",
       "0         145601  Needs Improvement  \n",
       "1          53989  Needs Improvement  \n",
       "2         109617       Satisfactory  \n",
       "3         152274               Good  \n",
       "4          86133               Poor  "
      ]
     },
     "execution_count": 206,
     "metadata": {},
     "output_type": "execute_result"
    }
   ],
   "source": [
    "data_gpa.head()"
   ]
  },
  {
   "cell_type": "code",
   "execution_count": 207,
   "id": "6b7490e4",
   "metadata": {},
   "outputs": [
    {
     "name": "stderr",
     "output_type": "stream",
     "text": [
      "C:\\Users\\ADMIN\\AppData\\Local\\Temp\\ipykernel_7176\\1036915948.py:1: SettingWithCopyWarning: \n",
      "A value is trying to be set on a copy of a slice from a DataFrame.\n",
      "Try using .loc[row_indexer,col_indexer] = value instead\n",
      "\n",
      "See the caveats in the documentation: https://pandas.pydata.org/pandas-docs/stable/user_guide/indexing.html#returning-a-view-versus-a-copy\n",
      "  data_hsgpa[\"Performance\"] = data_hsgpa[\"High School GPA\"].apply(eval_performance)\n"
     ]
    }
   ],
   "source": [
    "data_hsgpa[\"Performance\"] = data_hsgpa[\"High School GPA\"].apply(eval_performance)"
   ]
  },
  {
   "cell_type": "code",
   "execution_count": 208,
   "id": "6c8a4313",
   "metadata": {},
   "outputs": [
    {
     "data": {
      "text/html": [
       "<div>\n",
       "<style scoped>\n",
       "    .dataframe tbody tr th:only-of-type {\n",
       "        vertical-align: middle;\n",
       "    }\n",
       "\n",
       "    .dataframe tbody tr th {\n",
       "        vertical-align: top;\n",
       "    }\n",
       "\n",
       "    .dataframe thead th {\n",
       "        text-align: right;\n",
       "    }\n",
       "</style>\n",
       "<table border=\"1\" class=\"dataframe\">\n",
       "  <thead>\n",
       "    <tr style=\"text-align: right;\">\n",
       "      <th></th>\n",
       "      <th>High School GPA</th>\n",
       "      <th>Final Exam Scores</th>\n",
       "      <th>Hours of Study per Week</th>\n",
       "      <th>Attendance Rate</th>\n",
       "      <th>Mental Health Status</th>\n",
       "      <th>Participation in Extracurricular Activities</th>\n",
       "      <th>Family Income</th>\n",
       "      <th>Performance</th>\n",
       "    </tr>\n",
       "  </thead>\n",
       "  <tbody>\n",
       "    <tr>\n",
       "      <th>0</th>\n",
       "      <td>3.50</td>\n",
       "      <td>81</td>\n",
       "      <td>17</td>\n",
       "      <td>0.84</td>\n",
       "      <td>Fair</td>\n",
       "      <td>0</td>\n",
       "      <td>145601</td>\n",
       "      <td>Excellent</td>\n",
       "    </tr>\n",
       "    <tr>\n",
       "      <th>1</th>\n",
       "      <td>3.46</td>\n",
       "      <td>79</td>\n",
       "      <td>21</td>\n",
       "      <td>0.73</td>\n",
       "      <td>Excellent</td>\n",
       "      <td>1</td>\n",
       "      <td>53989</td>\n",
       "      <td>Good</td>\n",
       "    </tr>\n",
       "    <tr>\n",
       "      <th>2</th>\n",
       "      <td>3.33</td>\n",
       "      <td>53</td>\n",
       "      <td>34</td>\n",
       "      <td>0.96</td>\n",
       "      <td>Poor</td>\n",
       "      <td>0</td>\n",
       "      <td>109617</td>\n",
       "      <td>Good</td>\n",
       "    </tr>\n",
       "    <tr>\n",
       "      <th>3</th>\n",
       "      <td>3.54</td>\n",
       "      <td>81</td>\n",
       "      <td>21</td>\n",
       "      <td>0.84</td>\n",
       "      <td>Fair</td>\n",
       "      <td>1</td>\n",
       "      <td>152274</td>\n",
       "      <td>Excellent</td>\n",
       "    </tr>\n",
       "    <tr>\n",
       "      <th>4</th>\n",
       "      <td>3.35</td>\n",
       "      <td>93</td>\n",
       "      <td>37</td>\n",
       "      <td>0.92</td>\n",
       "      <td>Fair</td>\n",
       "      <td>1</td>\n",
       "      <td>86133</td>\n",
       "      <td>Good</td>\n",
       "    </tr>\n",
       "  </tbody>\n",
       "</table>\n",
       "</div>"
      ],
      "text/plain": [
       "   High School GPA  Final Exam Scores  Hours of Study per Week  \\\n",
       "0             3.50                 81                       17   \n",
       "1             3.46                 79                       21   \n",
       "2             3.33                 53                       34   \n",
       "3             3.54                 81                       21   \n",
       "4             3.35                 93                       37   \n",
       "\n",
       "   Attendance Rate Mental Health Status  \\\n",
       "0             0.84                 Fair   \n",
       "1             0.73            Excellent   \n",
       "2             0.96                 Poor   \n",
       "3             0.84                 Fair   \n",
       "4             0.92                 Fair   \n",
       "\n",
       "   Participation in Extracurricular Activities  Family Income Performance  \n",
       "0                                            0         145601   Excellent  \n",
       "1                                            1          53989        Good  \n",
       "2                                            0         109617        Good  \n",
       "3                                            1         152274   Excellent  \n",
       "4                                            1          86133        Good  "
      ]
     },
     "execution_count": 208,
     "metadata": {},
     "output_type": "execute_result"
    }
   ],
   "source": [
    "data_hsgpa.head()"
   ]
  },
  {
   "cell_type": "code",
   "execution_count": 209,
   "id": "f53e3b52",
   "metadata": {},
   "outputs": [],
   "source": [
    "performance_map = {\n",
    "    'Poor': 1,\n",
    "    'Needs Improvement': 2,\n",
    "    'Satisfactory': 3,\n",
    "    'Good': 4,\n",
    "    'Excellent': 5\n",
    "}"
   ]
  },
  {
   "cell_type": "code",
   "execution_count": 210,
   "id": "31fd3828",
   "metadata": {},
   "outputs": [
    {
     "data": {
      "text/html": [
       "<div>\n",
       "<style scoped>\n",
       "    .dataframe tbody tr th:only-of-type {\n",
       "        vertical-align: middle;\n",
       "    }\n",
       "\n",
       "    .dataframe tbody tr th {\n",
       "        vertical-align: top;\n",
       "    }\n",
       "\n",
       "    .dataframe thead th {\n",
       "        text-align: right;\n",
       "    }\n",
       "</style>\n",
       "<table border=\"1\" class=\"dataframe\">\n",
       "  <thead>\n",
       "    <tr style=\"text-align: right;\">\n",
       "      <th></th>\n",
       "      <th>High School GPA</th>\n",
       "      <th>Final Exam Scores</th>\n",
       "      <th>Hours of Study per Week</th>\n",
       "      <th>Attendance Rate</th>\n",
       "      <th>Mental Health Status</th>\n",
       "      <th>Participation in Extracurricular Activities</th>\n",
       "      <th>Family Income</th>\n",
       "      <th>Performance</th>\n",
       "    </tr>\n",
       "  </thead>\n",
       "  <tbody>\n",
       "    <tr>\n",
       "      <th>0</th>\n",
       "      <td>3.50</td>\n",
       "      <td>81</td>\n",
       "      <td>17</td>\n",
       "      <td>0.84</td>\n",
       "      <td>Fair</td>\n",
       "      <td>0</td>\n",
       "      <td>145601</td>\n",
       "      <td>5</td>\n",
       "    </tr>\n",
       "    <tr>\n",
       "      <th>1</th>\n",
       "      <td>3.46</td>\n",
       "      <td>79</td>\n",
       "      <td>21</td>\n",
       "      <td>0.73</td>\n",
       "      <td>Excellent</td>\n",
       "      <td>1</td>\n",
       "      <td>53989</td>\n",
       "      <td>4</td>\n",
       "    </tr>\n",
       "    <tr>\n",
       "      <th>2</th>\n",
       "      <td>3.33</td>\n",
       "      <td>53</td>\n",
       "      <td>34</td>\n",
       "      <td>0.96</td>\n",
       "      <td>Poor</td>\n",
       "      <td>0</td>\n",
       "      <td>109617</td>\n",
       "      <td>4</td>\n",
       "    </tr>\n",
       "    <tr>\n",
       "      <th>3</th>\n",
       "      <td>3.54</td>\n",
       "      <td>81</td>\n",
       "      <td>21</td>\n",
       "      <td>0.84</td>\n",
       "      <td>Fair</td>\n",
       "      <td>1</td>\n",
       "      <td>152274</td>\n",
       "      <td>5</td>\n",
       "    </tr>\n",
       "    <tr>\n",
       "      <th>4</th>\n",
       "      <td>3.35</td>\n",
       "      <td>93</td>\n",
       "      <td>37</td>\n",
       "      <td>0.92</td>\n",
       "      <td>Fair</td>\n",
       "      <td>1</td>\n",
       "      <td>86133</td>\n",
       "      <td>4</td>\n",
       "    </tr>\n",
       "  </tbody>\n",
       "</table>\n",
       "</div>"
      ],
      "text/plain": [
       "   High School GPA  Final Exam Scores  Hours of Study per Week  \\\n",
       "0             3.50                 81                       17   \n",
       "1             3.46                 79                       21   \n",
       "2             3.33                 53                       34   \n",
       "3             3.54                 81                       21   \n",
       "4             3.35                 93                       37   \n",
       "\n",
       "   Attendance Rate Mental Health Status  \\\n",
       "0             0.84                 Fair   \n",
       "1             0.73            Excellent   \n",
       "2             0.96                 Poor   \n",
       "3             0.84                 Fair   \n",
       "4             0.92                 Fair   \n",
       "\n",
       "   Participation in Extracurricular Activities  Family Income  Performance  \n",
       "0                                            0         145601            5  \n",
       "1                                            1          53989            4  \n",
       "2                                            0         109617            4  \n",
       "3                                            1         152274            5  \n",
       "4                                            1          86133            4  "
      ]
     },
     "execution_count": 210,
     "metadata": {},
     "output_type": "execute_result"
    }
   ],
   "source": [
    "data_HSGPA = data_hsgpa.copy()\n",
    "data_HSGPA[\"Performance\"] = data_HSGPA[\"Performance\"].map(performance_map)\n",
    "data_HSGPA.head()"
   ]
  },
  {
   "cell_type": "code",
   "execution_count": 211,
   "id": "df1a19c1",
   "metadata": {},
   "outputs": [
    {
     "data": {
      "text/plain": [
       "(100256, 8)"
      ]
     },
     "execution_count": 211,
     "metadata": {},
     "output_type": "execute_result"
    }
   ],
   "source": [
    "data_HSGPA.shape"
   ]
  },
  {
   "cell_type": "code",
   "execution_count": 212,
   "id": "a5145668",
   "metadata": {},
   "outputs": [
    {
     "data": {
      "text/html": [
       "<div>\n",
       "<style scoped>\n",
       "    .dataframe tbody tr th:only-of-type {\n",
       "        vertical-align: middle;\n",
       "    }\n",
       "\n",
       "    .dataframe tbody tr th {\n",
       "        vertical-align: top;\n",
       "    }\n",
       "\n",
       "    .dataframe thead th {\n",
       "        text-align: right;\n",
       "    }\n",
       "</style>\n",
       "<table border=\"1\" class=\"dataframe\">\n",
       "  <thead>\n",
       "    <tr style=\"text-align: right;\">\n",
       "      <th></th>\n",
       "      <th>GPA</th>\n",
       "      <th>Final Exam Scores</th>\n",
       "      <th>Hours of Study per Week</th>\n",
       "      <th>Attendance Rate</th>\n",
       "      <th>Mental Health Status</th>\n",
       "      <th>Participation in Extracurricular Activities</th>\n",
       "      <th>Family Income</th>\n",
       "      <th>Performance</th>\n",
       "    </tr>\n",
       "  </thead>\n",
       "  <tbody>\n",
       "    <tr>\n",
       "      <th>0</th>\n",
       "      <td>2.06</td>\n",
       "      <td>81</td>\n",
       "      <td>17</td>\n",
       "      <td>0.84</td>\n",
       "      <td>Fair</td>\n",
       "      <td>0</td>\n",
       "      <td>145601</td>\n",
       "      <td>2</td>\n",
       "    </tr>\n",
       "    <tr>\n",
       "      <th>1</th>\n",
       "      <td>2.12</td>\n",
       "      <td>79</td>\n",
       "      <td>21</td>\n",
       "      <td>0.73</td>\n",
       "      <td>Excellent</td>\n",
       "      <td>1</td>\n",
       "      <td>53989</td>\n",
       "      <td>2</td>\n",
       "    </tr>\n",
       "    <tr>\n",
       "      <th>2</th>\n",
       "      <td>2.72</td>\n",
       "      <td>53</td>\n",
       "      <td>34</td>\n",
       "      <td>0.96</td>\n",
       "      <td>Poor</td>\n",
       "      <td>0</td>\n",
       "      <td>109617</td>\n",
       "      <td>3</td>\n",
       "    </tr>\n",
       "    <tr>\n",
       "      <th>3</th>\n",
       "      <td>3.05</td>\n",
       "      <td>81</td>\n",
       "      <td>21</td>\n",
       "      <td>0.84</td>\n",
       "      <td>Fair</td>\n",
       "      <td>1</td>\n",
       "      <td>152274</td>\n",
       "      <td>4</td>\n",
       "    </tr>\n",
       "    <tr>\n",
       "      <th>4</th>\n",
       "      <td>1.86</td>\n",
       "      <td>93</td>\n",
       "      <td>37</td>\n",
       "      <td>0.92</td>\n",
       "      <td>Fair</td>\n",
       "      <td>1</td>\n",
       "      <td>86133</td>\n",
       "      <td>1</td>\n",
       "    </tr>\n",
       "  </tbody>\n",
       "</table>\n",
       "</div>"
      ],
      "text/plain": [
       "    GPA  Final Exam Scores  Hours of Study per Week  Attendance Rate  \\\n",
       "0  2.06                 81                       17             0.84   \n",
       "1  2.12                 79                       21             0.73   \n",
       "2  2.72                 53                       34             0.96   \n",
       "3  3.05                 81                       21             0.84   \n",
       "4  1.86                 93                       37             0.92   \n",
       "\n",
       "  Mental Health Status  Participation in Extracurricular Activities  \\\n",
       "0                 Fair                                            0   \n",
       "1            Excellent                                            1   \n",
       "2                 Poor                                            0   \n",
       "3                 Fair                                            1   \n",
       "4                 Fair                                            1   \n",
       "\n",
       "   Family Income  Performance  \n",
       "0         145601            2  \n",
       "1          53989            2  \n",
       "2         109617            3  \n",
       "3         152274            4  \n",
       "4          86133            1  "
      ]
     },
     "execution_count": 212,
     "metadata": {},
     "output_type": "execute_result"
    }
   ],
   "source": [
    "data_GPA = data_gpa.copy()\n",
    "data_GPA[\"Performance\"] = data_GPA[\"Performance\"].map(performance_map)\n",
    "data_GPA.head()"
   ]
  },
  {
   "cell_type": "markdown",
   "id": "24b3a92b",
   "metadata": {},
   "source": [
    "Correlation de performance et GPA"
   ]
  },
  {
   "cell_type": "code",
   "execution_count": 213,
   "id": "140bb13a",
   "metadata": {},
   "outputs": [],
   "source": [
    "o = OneHotEncoder(sparse_output=False, handle_unknown='ignore')\n",
    "data_GPA_c = data_GPA.copy()\n",
    "# data_GPA_c[\"Performance\"] = data_GPA_c[\"Performance\"].map(performance_map)\n",
    "data_GPA_c[\"Performance\"] = o.fit_transform(data_GPA_c[[\"Performance\"]])"
   ]
  },
  {
   "cell_type": "code",
   "execution_count": 214,
   "id": "5af751d4",
   "metadata": {},
   "outputs": [
    {
     "data": {
      "text/plain": [
       "<Axes: >"
      ]
     },
     "execution_count": 214,
     "metadata": {},
     "output_type": "execute_result"
    },
    {
     "data": {
      "image/png": "[encoded data removed]",
      "text/plain": [
       "<Figure size 640x480 with 2 Axes>"
      ]
     },
     "metadata": {},
     "output_type": "display_data"
    }
   ],
   "source": [
    "cor = data_GPA_c.select_dtypes(exclude=\"object\").corr()\n",
    "sns.heatmap(cor, annot=True, cmap=\"coolwarm\", fmt=\".2f\")"
   ]
  },
  {
   "cell_type": "code",
   "execution_count": 215,
   "id": "d23fcda5",
   "metadata": {},
   "outputs": [
    {
     "data": {
      "text/plain": [
       "(100256, 8)"
      ]
     },
     "execution_count": 215,
     "metadata": {},
     "output_type": "execute_result"
    }
   ],
   "source": [
    "data_GPA.shape"
   ]
  },
  {
   "cell_type": "code",
   "execution_count": 216,
   "id": "94d704e2",
   "metadata": {},
   "outputs": [],
   "source": [
    "X_gpa = data_GPA[[\"GPA\", \"Final Exam Scores\", \"Hours of Study per Week\", \"Attendance Rate\",\"Mental Health Status\", \"Participation in Extracurricular Activities\", \"Family Income\"]]\n",
    "y_gpa = data_GPA[\"Performance\"]\n",
    "X_hsgpa = data_HSGPA[[\"High School GPA\", \"Final Exam Scores\", \"Hours of Study per Week\", \"Attendance Rate\",\"Mental Health Status\", \"Participation in Extracurricular Activities\", \"Family Income\"]]\n",
    "y_hsgpa = data_HSGPA[\"Performance\"]"
   ]
  },
  {
   "cell_type": "code",
   "execution_count": 217,
   "id": "35eebd34",
   "metadata": {},
   "outputs": [
    {
     "data": {
      "text/html": [
       "<div>\n",
       "<style scoped>\n",
       "    .dataframe tbody tr th:only-of-type {\n",
       "        vertical-align: middle;\n",
       "    }\n",
       "\n",
       "    .dataframe tbody tr th {\n",
       "        vertical-align: top;\n",
       "    }\n",
       "\n",
       "    .dataframe thead th {\n",
       "        text-align: right;\n",
       "    }\n",
       "</style>\n",
       "<table border=\"1\" class=\"dataframe\">\n",
       "  <thead>\n",
       "    <tr style=\"text-align: right;\">\n",
       "      <th></th>\n",
       "      <th>GPA</th>\n",
       "      <th>Final Exam Scores</th>\n",
       "      <th>Hours of Study per Week</th>\n",
       "      <th>Attendance Rate</th>\n",
       "      <th>Mental Health Status</th>\n",
       "      <th>Participation in Extracurricular Activities</th>\n",
       "      <th>Family Income</th>\n",
       "    </tr>\n",
       "  </thead>\n",
       "  <tbody>\n",
       "    <tr>\n",
       "      <th>0</th>\n",
       "      <td>2.06</td>\n",
       "      <td>81</td>\n",
       "      <td>17</td>\n",
       "      <td>0.84</td>\n",
       "      <td>Fair</td>\n",
       "      <td>0</td>\n",
       "      <td>145601</td>\n",
       "    </tr>\n",
       "    <tr>\n",
       "      <th>1</th>\n",
       "      <td>2.12</td>\n",
       "      <td>79</td>\n",
       "      <td>21</td>\n",
       "      <td>0.73</td>\n",
       "      <td>Excellent</td>\n",
       "      <td>1</td>\n",
       "      <td>53989</td>\n",
       "    </tr>\n",
       "    <tr>\n",
       "      <th>2</th>\n",
       "      <td>2.72</td>\n",
       "      <td>53</td>\n",
       "      <td>34</td>\n",
       "      <td>0.96</td>\n",
       "      <td>Poor</td>\n",
       "      <td>0</td>\n",
       "      <td>109617</td>\n",
       "    </tr>\n",
       "    <tr>\n",
       "      <th>3</th>\n",
       "      <td>3.05</td>\n",
       "      <td>81</td>\n",
       "      <td>21</td>\n",
       "      <td>0.84</td>\n",
       "      <td>Fair</td>\n",
       "      <td>1</td>\n",
       "      <td>152274</td>\n",
       "    </tr>\n",
       "    <tr>\n",
       "      <th>4</th>\n",
       "      <td>1.86</td>\n",
       "      <td>93</td>\n",
       "      <td>37</td>\n",
       "      <td>0.92</td>\n",
       "      <td>Fair</td>\n",
       "      <td>1</td>\n",
       "      <td>86133</td>\n",
       "    </tr>\n",
       "  </tbody>\n",
       "</table>\n",
       "</div>"
      ],
      "text/plain": [
       "    GPA  Final Exam Scores  Hours of Study per Week  Attendance Rate  \\\n",
       "0  2.06                 81                       17             0.84   \n",
       "1  2.12                 79                       21             0.73   \n",
       "2  2.72                 53                       34             0.96   \n",
       "3  3.05                 81                       21             0.84   \n",
       "4  1.86                 93                       37             0.92   \n",
       "\n",
       "  Mental Health Status  Participation in Extracurricular Activities  \\\n",
       "0                 Fair                                            0   \n",
       "1            Excellent                                            1   \n",
       "2                 Poor                                            0   \n",
       "3                 Fair                                            1   \n",
       "4                 Fair                                            1   \n",
       "\n",
       "   Family Income  \n",
       "0         145601  \n",
       "1          53989  \n",
       "2         109617  \n",
       "3         152274  \n",
       "4          86133  "
      ]
     },
     "execution_count": 217,
     "metadata": {},
     "output_type": "execute_result"
    }
   ],
   "source": [
    "X_gpa.head()"
   ]
  },
  {
   "cell_type": "code",
   "execution_count": 218,
   "id": "a791018f",
   "metadata": {},
   "outputs": [
    {
     "data": {
      "text/html": [
       "<div>\n",
       "<style scoped>\n",
       "    .dataframe tbody tr th:only-of-type {\n",
       "        vertical-align: middle;\n",
       "    }\n",
       "\n",
       "    .dataframe tbody tr th {\n",
       "        vertical-align: top;\n",
       "    }\n",
       "\n",
       "    .dataframe thead th {\n",
       "        text-align: right;\n",
       "    }\n",
       "</style>\n",
       "<table border=\"1\" class=\"dataframe\">\n",
       "  <thead>\n",
       "    <tr style=\"text-align: right;\">\n",
       "      <th></th>\n",
       "      <th>High School GPA</th>\n",
       "      <th>Final Exam Scores</th>\n",
       "      <th>Hours of Study per Week</th>\n",
       "      <th>Attendance Rate</th>\n",
       "      <th>Mental Health Status</th>\n",
       "      <th>Participation in Extracurricular Activities</th>\n",
       "      <th>Family Income</th>\n",
       "    </tr>\n",
       "  </thead>\n",
       "  <tbody>\n",
       "    <tr>\n",
       "      <th>0</th>\n",
       "      <td>3.50</td>\n",
       "      <td>81</td>\n",
       "      <td>17</td>\n",
       "      <td>0.84</td>\n",
       "      <td>Fair</td>\n",
       "      <td>0</td>\n",
       "      <td>145601</td>\n",
       "    </tr>\n",
       "    <tr>\n",
       "      <th>1</th>\n",
       "      <td>3.46</td>\n",
       "      <td>79</td>\n",
       "      <td>21</td>\n",
       "      <td>0.73</td>\n",
       "      <td>Excellent</td>\n",
       "      <td>1</td>\n",
       "      <td>53989</td>\n",
       "    </tr>\n",
       "    <tr>\n",
       "      <th>2</th>\n",
       "      <td>3.33</td>\n",
       "      <td>53</td>\n",
       "      <td>34</td>\n",
       "      <td>0.96</td>\n",
       "      <td>Poor</td>\n",
       "      <td>0</td>\n",
       "      <td>109617</td>\n",
       "    </tr>\n",
       "    <tr>\n",
       "      <th>3</th>\n",
       "      <td>3.54</td>\n",
       "      <td>81</td>\n",
       "      <td>21</td>\n",
       "      <td>0.84</td>\n",
       "      <td>Fair</td>\n",
       "      <td>1</td>\n",
       "      <td>152274</td>\n",
       "    </tr>\n",
       "    <tr>\n",
       "      <th>4</th>\n",
       "      <td>3.35</td>\n",
       "      <td>93</td>\n",
       "      <td>37</td>\n",
       "      <td>0.92</td>\n",
       "      <td>Fair</td>\n",
       "      <td>1</td>\n",
       "      <td>86133</td>\n",
       "    </tr>\n",
       "  </tbody>\n",
       "</table>\n",
       "</div>"
      ],
      "text/plain": [
       "   High School GPA  Final Exam Scores  Hours of Study per Week  \\\n",
       "0             3.50                 81                       17   \n",
       "1             3.46                 79                       21   \n",
       "2             3.33                 53                       34   \n",
       "3             3.54                 81                       21   \n",
       "4             3.35                 93                       37   \n",
       "\n",
       "   Attendance Rate Mental Health Status  \\\n",
       "0             0.84                 Fair   \n",
       "1             0.73            Excellent   \n",
       "2             0.96                 Poor   \n",
       "3             0.84                 Fair   \n",
       "4             0.92                 Fair   \n",
       "\n",
       "   Participation in Extracurricular Activities  Family Income  \n",
       "0                                            0         145601  \n",
       "1                                            1          53989  \n",
       "2                                            0         109617  \n",
       "3                                            1         152274  \n",
       "4                                            1          86133  "
      ]
     },
     "execution_count": 218,
     "metadata": {},
     "output_type": "execute_result"
    }
   ],
   "source": [
    "X_hsgpa.head()"
   ]
  },
  {
   "cell_type": "markdown",
   "id": "a423eb55",
   "metadata": {},
   "source": [
    "Preprocessing"
   ]
  },
  {
   "cell_type": "code",
   "execution_count": 219,
   "id": "340fa1bc",
   "metadata": {},
   "outputs": [
    {
     "name": "stdout",
     "output_type": "stream",
     "text": [
      "<sklearn.compose._column_transformer.make_column_selector object at 0x0000016C5979C6D0>\n",
      "<sklearn.compose._column_transformer.make_column_selector object at 0x0000016C596F67D0>\n"
     ]
    }
   ],
   "source": [
    "obj = make_column_selector(dtype_include=[\"object\"])\n",
    "num = make_column_selector(dtype_exclude=[\"object\"])\n",
    "print(obj)\n",
    "print(num)"
   ]
  },
  {
   "cell_type": "code",
   "execution_count": 220,
   "id": "fda2f762",
   "metadata": {},
   "outputs": [],
   "source": [
    "preprocessor_gpa = make_column_transformer(\n",
    "    (OneHotEncoder(handle_unknown=\"ignore\"), obj),\n",
    "    (StandardScaler(), num),\n",
    "    remainder=\"passthrough\"\n",
    ")\n",
    "preprocessor_hsgpa = make_column_transformer(\n",
    "    (OneHotEncoder(handle_unknown=\"ignore\"), obj),\n",
    "    (StandardScaler(), num),\n",
    "    remainder=\"passthrough\"\n",
    ")"
   ]
  },
  {
   "cell_type": "markdown",
   "id": "9251d0d4",
   "metadata": {},
   "source": [
    "Modeles pour GPA et HSGPA"
   ]
  },
  {
   "cell_type": "code",
   "execution_count": 221,
   "id": "fe2b7bb9",
   "metadata": {},
   "outputs": [],
   "source": [
    "model_gpa = make_pipeline(\n",
    "    preprocessor_gpa,\n",
    "    RandomForestClassifier(n_estimators=100, random_state=42, class_weight=\"balanced\")\n",
    ")\n",
    "\n",
    "model_hsgpa = make_pipeline(\n",
    "    preprocessor_hsgpa,\n",
    "    RandomForestClassifier(n_estimators=100, random_state=42, class_weight=\"balanced\")\n",
    ")"
   ]
  },
  {
   "cell_type": "markdown",
   "id": "e2388c26",
   "metadata": {},
   "source": [
    "Separation des donnnées"
   ]
  },
  {
   "cell_type": "code",
   "execution_count": 222,
   "id": "dec98e12",
   "metadata": {},
   "outputs": [],
   "source": [
    "X_train_gpa, X_test_gpa, y_train_gpa, y_test_gpa = train_test_split(X_gpa, y_gpa, test_size=0.25, random_state=42, stratify=y_gpa,shuffle=True)\n",
    "X_train_hsgpa, X_test_hsgpa, y_train_hsgpa, y_test_hsgpa = train_test_split(X_hsgpa, y_hsgpa, test_size=0.25, random_state=42, stratify=y_hsgpa, shuffle=True)"
   ]
  },
  {
   "cell_type": "code",
   "execution_count": 223,
   "id": "0127f7a1",
   "metadata": {},
   "outputs": [
    {
     "name": "stdout",
     "output_type": "stream",
     "text": [
      "(75192, 7) (25064, 7)\n",
      "(75192, 7) (25064, 7)\n",
      "(75192,) (25064,)\n",
      "(75192,) (25064,)\n"
     ]
    }
   ],
   "source": [
    "print(X_train_gpa.shape, X_test_gpa.shape)\n",
    "print(X_train_hsgpa.shape, X_test_hsgpa.shape)\n",
    "print(y_train_gpa.shape, y_test_gpa.shape)\n",
    "print(y_train_hsgpa.shape, y_test_hsgpa.shape)"
   ]
  },
  {
   "cell_type": "markdown",
   "id": "48fea588",
   "metadata": {},
   "source": [
    "Entrainement du modèle pour GPA et HSGPA"
   ]
  },
  {
   "cell_type": "code",
   "execution_count": 224,
   "id": "f7062710",
   "metadata": {},
   "outputs": [
    {
     "data": {
      "text/html": [
       "<style>#sk-container-id-8 {color: black;}#sk-container-id-8 pre{padding: 0;}#sk-container-id-8 div.sk-toggleable {background-color: white;}#sk-container-id-8 label.sk-toggleable__label {cursor: pointer;display: block;width: 100%;margin-bottom: 0;padding: 0.3em;box-sizing: border-box;text-align: center;}#sk-container-id-8 label.sk-toggleable__label-arrow:before {content: \"▸\";float: left;margin-right: 0.25em;color: #696969;}#sk-container-id-8 label.sk-toggleable__label-arrow:hover:before {color: black;}#sk-container-id-8 div.sk-estimator:hover label.sk-toggleable__label-arrow:before {color: black;}#sk-container-id-8 div.sk-toggleable__content {max-height: 0;max-width: 0;overflow: hidden;text-align: left;background-color: #f0f8ff;}#sk-container-id-8 div.sk-toggleable__content pre {margin: 0.2em;color: black;border-radius: 0.25em;background-color: #f0f8ff;}#sk-container-id-8 input.sk-toggleable__control:checked~div.sk-toggleable__content {max-height: 200px;max-width: 100%;overflow: auto;}#sk-container-id-8 input.sk-toggleable__control:checked~label.sk-toggleable__label-arrow:before {content: \"▾\";}#sk-container-id-8 div.sk-estimator input.sk-toggleable__control:checked~label.sk-toggleable__label {background-color: #d4ebff;}#sk-container-id-8 div.sk-label input.sk-toggleable__control:checked~label.sk-toggleable__label {background-color: #d4ebff;}#sk-container-id-8 input.sk-hidden--visually {border: 0;clip: rect(1px 1px 1px 1px);clip: rect(1px, 1px, 1px, 1px);height: 1px;margin: -1px;overflow: hidden;padding: 0;position: absolute;width: 1px;}#sk-container-id-8 div.sk-estimator {font-family: monospace;background-color: #f0f8ff;border: 1px dotted black;border-radius: 0.25em;box-sizing: border-box;margin-bottom: 0.5em;}#sk-container-id-8 div.sk-estimator:hover {background-color: #d4ebff;}#sk-container-id-8 div.sk-parallel-item::after {content: \"\";width: 100%;border-bottom: 1px solid gray;flex-grow: 1;}#sk-container-id-8 div.sk-label:hover label.sk-toggleable__label {background-color: #d4ebff;}#sk-container-id-8 div.sk-serial::before {content: \"\";position: absolute;border-left: 1px solid gray;box-sizing: border-box;top: 0;bottom: 0;left: 50%;z-index: 0;}#sk-container-id-8 div.sk-serial {display: flex;flex-direction: column;align-items: center;background-color: white;padding-right: 0.2em;padding-left: 0.2em;position: relative;}#sk-container-id-8 div.sk-item {position: relative;z-index: 1;}#sk-container-id-8 div.sk-parallel {display: flex;align-items: stretch;justify-content: center;background-color: white;position: relative;}#sk-container-id-8 div.sk-item::before, #sk-container-id-8 div.sk-parallel-item::before {content: \"\";position: absolute;border-left: 1px solid gray;box-sizing: border-box;top: 0;bottom: 0;left: 50%;z-index: -1;}#sk-container-id-8 div.sk-parallel-item {display: flex;flex-direction: column;z-index: 1;position: relative;background-color: white;}#sk-container-id-8 div.sk-parallel-item:first-child::after {align-self: flex-end;width: 50%;}#sk-container-id-8 div.sk-parallel-item:last-child::after {align-self: flex-start;width: 50%;}#sk-container-id-8 div.sk-parallel-item:only-child::after {width: 0;}#sk-container-id-8 div.sk-dashed-wrapped {border: 1px dashed gray;margin: 0 0.4em 0.5em 0.4em;box-sizing: border-box;padding-bottom: 0.4em;background-color: white;}#sk-container-id-8 div.sk-label label {font-family: monospace;font-weight: bold;display: inline-block;line-height: 1.2em;}#sk-container-id-8 div.sk-label-container {text-align: center;}#sk-container-id-8 div.sk-container {/* jupyter's `normalize.less` sets `[hidden] { display: none; }` but bootstrap.min.css set `[hidden] { display: none !important; }` so we also need the `!important` here to be able to override the default hidden behavior on the sphinx rendered scikit-learn.org. See: https://github.com/scikit-learn/scikit-learn/issues/21755 */display: inline-block !important;position: relative;}#sk-container-id-8 div.sk-text-repr-fallback {display: none;}</style><div id=\"sk-container-id-8\" class=\"sk-top-container\"><div class=\"sk-text-repr-fallback\"><pre>Pipeline(steps=[(&#x27;columntransformer&#x27;,\n",
       "                 ColumnTransformer(remainder=&#x27;passthrough&#x27;,\n",
       "                                   transformers=[(&#x27;onehotencoder&#x27;,\n",
       "                                                  OneHotEncoder(handle_unknown=&#x27;ignore&#x27;),\n",
       "                                                  &lt;sklearn.compose._column_transformer.make_column_selector object at 0x0000016C5979C6D0&gt;),\n",
       "                                                 (&#x27;standardscaler&#x27;,\n",
       "                                                  StandardScaler(),\n",
       "                                                  &lt;sklearn.compose._column_transformer.make_column_selector object at 0x0000016C596F67D0&gt;)])),\n",
       "                (&#x27;randomforestclassifier&#x27;,\n",
       "                 RandomForestClassifier(class_weight=&#x27;balanced&#x27;,\n",
       "                                        random_state=42))])</pre><b>In a Jupyter environment, please rerun this cell to show the HTML representation or trust the notebook. <br />On GitHub, the HTML representation is unable to render, please try loading this page with nbviewer.org.</b></div><div class=\"sk-container\" hidden><div class=\"sk-item sk-dashed-wrapped\"><div class=\"sk-label-container\"><div class=\"sk-label sk-toggleable\"><input class=\"sk-toggleable__control sk-hidden--visually\" id=\"sk-estimator-id-64\" type=\"checkbox\" ><label for=\"sk-estimator-id-64\" class=\"sk-toggleable__label sk-toggleable__label-arrow\">Pipeline</label><div class=\"sk-toggleable__content\"><pre>Pipeline(steps=[(&#x27;columntransformer&#x27;,\n",
       "                 ColumnTransformer(remainder=&#x27;passthrough&#x27;,\n",
       "                                   transformers=[(&#x27;onehotencoder&#x27;,\n",
       "                                                  OneHotEncoder(handle_unknown=&#x27;ignore&#x27;),\n",
       "                                                  &lt;sklearn.compose._column_transformer.make_column_selector object at 0x0000016C5979C6D0&gt;),\n",
       "                                                 (&#x27;standardscaler&#x27;,\n",
       "                                                  StandardScaler(),\n",
       "                                                  &lt;sklearn.compose._column_transformer.make_column_selector object at 0x0000016C596F67D0&gt;)])),\n",
       "                (&#x27;randomforestclassifier&#x27;,\n",
       "                 RandomForestClassifier(class_weight=&#x27;balanced&#x27;,\n",
       "                                        random_state=42))])</pre></div></div></div><div class=\"sk-serial\"><div class=\"sk-item sk-dashed-wrapped\"><div class=\"sk-label-container\"><div class=\"sk-label sk-toggleable\"><input class=\"sk-toggleable__control sk-hidden--visually\" id=\"sk-estimator-id-65\" type=\"checkbox\" ><label for=\"sk-estimator-id-65\" class=\"sk-toggleable__label sk-toggleable__label-arrow\">columntransformer: ColumnTransformer</label><div class=\"sk-toggleable__content\"><pre>ColumnTransformer(remainder=&#x27;passthrough&#x27;,\n",
       "                  transformers=[(&#x27;onehotencoder&#x27;,\n",
       "                                 OneHotEncoder(handle_unknown=&#x27;ignore&#x27;),\n",
       "                                 &lt;sklearn.compose._column_transformer.make_column_selector object at 0x0000016C5979C6D0&gt;),\n",
       "                                (&#x27;standardscaler&#x27;, StandardScaler(),\n",
       "                                 &lt;sklearn.compose._column_transformer.make_column_selector object at 0x0000016C596F67D0&gt;)])</pre></div></div></div><div class=\"sk-parallel\"><div class=\"sk-parallel-item\"><div class=\"sk-item\"><div class=\"sk-label-container\"><div class=\"sk-label sk-toggleable\"><input class=\"sk-toggleable__control sk-hidden--visually\" id=\"sk-estimator-id-66\" type=\"checkbox\" ><label for=\"sk-estimator-id-66\" class=\"sk-toggleable__label sk-toggleable__label-arrow\">onehotencoder</label><div class=\"sk-toggleable__content\"><pre>&lt;sklearn.compose._column_transformer.make_column_selector object at 0x0000016C5979C6D0&gt;</pre></div></div></div><div class=\"sk-serial\"><div class=\"sk-item\"><div class=\"sk-estimator sk-toggleable\"><input class=\"sk-toggleable__control sk-hidden--visually\" id=\"sk-estimator-id-67\" type=\"checkbox\" ><label for=\"sk-estimator-id-67\" class=\"sk-toggleable__label sk-toggleable__label-arrow\">OneHotEncoder</label><div class=\"sk-toggleable__content\"><pre>OneHotEncoder(handle_unknown=&#x27;ignore&#x27;)</pre></div></div></div></div></div></div><div class=\"sk-parallel-item\"><div class=\"sk-item\"><div class=\"sk-label-container\"><div class=\"sk-label sk-toggleable\"><input class=\"sk-toggleable__control sk-hidden--visually\" id=\"sk-estimator-id-68\" type=\"checkbox\" ><label for=\"sk-estimator-id-68\" class=\"sk-toggleable__label sk-toggleable__label-arrow\">standardscaler</label><div class=\"sk-toggleable__content\"><pre>&lt;sklearn.compose._column_transformer.make_column_selector object at 0x0000016C596F67D0&gt;</pre></div></div></div><div class=\"sk-serial\"><div class=\"sk-item\"><div class=\"sk-estimator sk-toggleable\"><input class=\"sk-toggleable__control sk-hidden--visually\" id=\"sk-estimator-id-69\" type=\"checkbox\" ><label for=\"sk-estimator-id-69\" class=\"sk-toggleable__label sk-toggleable__label-arrow\">StandardScaler</label><div class=\"sk-toggleable__content\"><pre>StandardScaler()</pre></div></div></div></div></div></div><div class=\"sk-parallel-item\"><div class=\"sk-item\"><div class=\"sk-label-container\"><div class=\"sk-label sk-toggleable\"><input class=\"sk-toggleable__control sk-hidden--visually\" id=\"sk-estimator-id-70\" type=\"checkbox\" ><label for=\"sk-estimator-id-70\" class=\"sk-toggleable__label sk-toggleable__label-arrow\">remainder</label><div class=\"sk-toggleable__content\"><pre>[]</pre></div></div></div><div class=\"sk-serial\"><div class=\"sk-item\"><div class=\"sk-estimator sk-toggleable\"><input class=\"sk-toggleable__control sk-hidden--visually\" id=\"sk-estimator-id-71\" type=\"checkbox\" ><label for=\"sk-estimator-id-71\" class=\"sk-toggleable__label sk-toggleable__label-arrow\">passthrough</label><div class=\"sk-toggleable__content\"><pre>passthrough</pre></div></div></div></div></div></div></div></div><div class=\"sk-item\"><div class=\"sk-estimator sk-toggleable\"><input class=\"sk-toggleable__control sk-hidden--visually\" id=\"sk-estimator-id-72\" type=\"checkbox\" ><label for=\"sk-estimator-id-72\" class=\"sk-toggleable__label sk-toggleable__label-arrow\">RandomForestClassifier</label><div class=\"sk-toggleable__content\"><pre>RandomForestClassifier(class_weight=&#x27;balanced&#x27;, random_state=42)</pre></div></div></div></div></div></div></div>"
      ],
      "text/plain": [
       "Pipeline(steps=[('columntransformer',\n",
       "                 ColumnTransformer(remainder='passthrough',\n",
       "                                   transformers=[('onehotencoder',\n",
       "                                                  OneHotEncoder(handle_unknown='ignore'),\n",
       "                                                  <sklearn.compose._column_transformer.make_column_selector object at 0x0000016C5979C6D0>),\n",
       "                                                 ('standardscaler',\n",
       "                                                  StandardScaler(),\n",
       "                                                  <sklearn.compose._column_transformer.make_column_selector object at 0x0000016C596F67D0>)])),\n",
       "                ('randomforestclassifier',\n",
       "                 RandomForestClassifier(class_weight='balanced',\n",
       "                                        random_state=42))])"
      ]
     },
     "execution_count": 224,
     "metadata": {},
     "output_type": "execute_result"
    }
   ],
   "source": [
    "model_gpa.fit(X_train_gpa, y_train_gpa)"
   ]
  },
  {
   "cell_type": "code",
   "execution_count": 225,
   "id": "93ba1de1",
   "metadata": {},
   "outputs": [
    {
     "data": {
      "text/plain": [
       "1.0"
      ]
     },
     "execution_count": 225,
     "metadata": {},
     "output_type": "execute_result"
    }
   ],
   "source": [
    "model_gpa.score(X_test_gpa, y_test_gpa)"
   ]
  },
  {
   "cell_type": "code",
   "execution_count": 226,
   "id": "0b22d574",
   "metadata": {},
   "outputs": [
    {
     "data": {
      "text/html": [
       "<style>#sk-container-id-9 {color: black;}#sk-container-id-9 pre{padding: 0;}#sk-container-id-9 div.sk-toggleable {background-color: white;}#sk-container-id-9 label.sk-toggleable__label {cursor: pointer;display: block;width: 100%;margin-bottom: 0;padding: 0.3em;box-sizing: border-box;text-align: center;}#sk-container-id-9 label.sk-toggleable__label-arrow:before {content: \"▸\";float: left;margin-right: 0.25em;color: #696969;}#sk-container-id-9 label.sk-toggleable__label-arrow:hover:before {color: black;}#sk-container-id-9 div.sk-estimator:hover label.sk-toggleable__label-arrow:before {color: black;}#sk-container-id-9 div.sk-toggleable__content {max-height: 0;max-width: 0;overflow: hidden;text-align: left;background-color: #f0f8ff;}#sk-container-id-9 div.sk-toggleable__content pre {margin: 0.2em;color: black;border-radius: 0.25em;background-color: #f0f8ff;}#sk-container-id-9 input.sk-toggleable__control:checked~div.sk-toggleable__content {max-height: 200px;max-width: 100%;overflow: auto;}#sk-container-id-9 input.sk-toggleable__control:checked~label.sk-toggleable__label-arrow:before {content: \"▾\";}#sk-container-id-9 div.sk-estimator input.sk-toggleable__control:checked~label.sk-toggleable__label {background-color: #d4ebff;}#sk-container-id-9 div.sk-label input.sk-toggleable__control:checked~label.sk-toggleable__label {background-color: #d4ebff;}#sk-container-id-9 input.sk-hidden--visually {border: 0;clip: rect(1px 1px 1px 1px);clip: rect(1px, 1px, 1px, 1px);height: 1px;margin: -1px;overflow: hidden;padding: 0;position: absolute;width: 1px;}#sk-container-id-9 div.sk-estimator {font-family: monospace;background-color: #f0f8ff;border: 1px dotted black;border-radius: 0.25em;box-sizing: border-box;margin-bottom: 0.5em;}#sk-container-id-9 div.sk-estimator:hover {background-color: #d4ebff;}#sk-container-id-9 div.sk-parallel-item::after {content: \"\";width: 100%;border-bottom: 1px solid gray;flex-grow: 1;}#sk-container-id-9 div.sk-label:hover label.sk-toggleable__label {background-color: #d4ebff;}#sk-container-id-9 div.sk-serial::before {content: \"\";position: absolute;border-left: 1px solid gray;box-sizing: border-box;top: 0;bottom: 0;left: 50%;z-index: 0;}#sk-container-id-9 div.sk-serial {display: flex;flex-direction: column;align-items: center;background-color: white;padding-right: 0.2em;padding-left: 0.2em;position: relative;}#sk-container-id-9 div.sk-item {position: relative;z-index: 1;}#sk-container-id-9 div.sk-parallel {display: flex;align-items: stretch;justify-content: center;background-color: white;position: relative;}#sk-container-id-9 div.sk-item::before, #sk-container-id-9 div.sk-parallel-item::before {content: \"\";position: absolute;border-left: 1px solid gray;box-sizing: border-box;top: 0;bottom: 0;left: 50%;z-index: -1;}#sk-container-id-9 div.sk-parallel-item {display: flex;flex-direction: column;z-index: 1;position: relative;background-color: white;}#sk-container-id-9 div.sk-parallel-item:first-child::after {align-self: flex-end;width: 50%;}#sk-container-id-9 div.sk-parallel-item:last-child::after {align-self: flex-start;width: 50%;}#sk-container-id-9 div.sk-parallel-item:only-child::after {width: 0;}#sk-container-id-9 div.sk-dashed-wrapped {border: 1px dashed gray;margin: 0 0.4em 0.5em 0.4em;box-sizing: border-box;padding-bottom: 0.4em;background-color: white;}#sk-container-id-9 div.sk-label label {font-family: monospace;font-weight: bold;display: inline-block;line-height: 1.2em;}#sk-container-id-9 div.sk-label-container {text-align: center;}#sk-container-id-9 div.sk-container {/* jupyter's `normalize.less` sets `[hidden] { display: none; }` but bootstrap.min.css set `[hidden] { display: none !important; }` so we also need the `!important` here to be able to override the default hidden behavior on the sphinx rendered scikit-learn.org. See: https://github.com/scikit-learn/scikit-learn/issues/21755 */display: inline-block !important;position: relative;}#sk-container-id-9 div.sk-text-repr-fallback {display: none;}</style><div id=\"sk-container-id-9\" class=\"sk-top-container\"><div class=\"sk-text-repr-fallback\"><pre>Pipeline(steps=[(&#x27;columntransformer&#x27;,\n",
       "                 ColumnTransformer(remainder=&#x27;passthrough&#x27;,\n",
       "                                   transformers=[(&#x27;onehotencoder&#x27;,\n",
       "                                                  OneHotEncoder(handle_unknown=&#x27;ignore&#x27;),\n",
       "                                                  &lt;sklearn.compose._column_transformer.make_column_selector object at 0x0000016C5979C6D0&gt;),\n",
       "                                                 (&#x27;standardscaler&#x27;,\n",
       "                                                  StandardScaler(),\n",
       "                                                  &lt;sklearn.compose._column_transformer.make_column_selector object at 0x0000016C596F67D0&gt;)])),\n",
       "                (&#x27;randomforestclassifier&#x27;,\n",
       "                 RandomForestClassifier(class_weight=&#x27;balanced&#x27;,\n",
       "                                        random_state=42))])</pre><b>In a Jupyter environment, please rerun this cell to show the HTML representation or trust the notebook. <br />On GitHub, the HTML representation is unable to render, please try loading this page with nbviewer.org.</b></div><div class=\"sk-container\" hidden><div class=\"sk-item sk-dashed-wrapped\"><div class=\"sk-label-container\"><div class=\"sk-label sk-toggleable\"><input class=\"sk-toggleable__control sk-hidden--visually\" id=\"sk-estimator-id-73\" type=\"checkbox\" ><label for=\"sk-estimator-id-73\" class=\"sk-toggleable__label sk-toggleable__label-arrow\">Pipeline</label><div class=\"sk-toggleable__content\"><pre>Pipeline(steps=[(&#x27;columntransformer&#x27;,\n",
       "                 ColumnTransformer(remainder=&#x27;passthrough&#x27;,\n",
       "                                   transformers=[(&#x27;onehotencoder&#x27;,\n",
       "                                                  OneHotEncoder(handle_unknown=&#x27;ignore&#x27;),\n",
       "                                                  &lt;sklearn.compose._column_transformer.make_column_selector object at 0x0000016C5979C6D0&gt;),\n",
       "                                                 (&#x27;standardscaler&#x27;,\n",
       "                                                  StandardScaler(),\n",
       "                                                  &lt;sklearn.compose._column_transformer.make_column_selector object at 0x0000016C596F67D0&gt;)])),\n",
       "                (&#x27;randomforestclassifier&#x27;,\n",
       "                 RandomForestClassifier(class_weight=&#x27;balanced&#x27;,\n",
       "                                        random_state=42))])</pre></div></div></div><div class=\"sk-serial\"><div class=\"sk-item sk-dashed-wrapped\"><div class=\"sk-label-container\"><div class=\"sk-label sk-toggleable\"><input class=\"sk-toggleable__control sk-hidden--visually\" id=\"sk-estimator-id-74\" type=\"checkbox\" ><label for=\"sk-estimator-id-74\" class=\"sk-toggleable__label sk-toggleable__label-arrow\">columntransformer: ColumnTransformer</label><div class=\"sk-toggleable__content\"><pre>ColumnTransformer(remainder=&#x27;passthrough&#x27;,\n",
       "                  transformers=[(&#x27;onehotencoder&#x27;,\n",
       "                                 OneHotEncoder(handle_unknown=&#x27;ignore&#x27;),\n",
       "                                 &lt;sklearn.compose._column_transformer.make_column_selector object at 0x0000016C5979C6D0&gt;),\n",
       "                                (&#x27;standardscaler&#x27;, StandardScaler(),\n",
       "                                 &lt;sklearn.compose._column_transformer.make_column_selector object at 0x0000016C596F67D0&gt;)])</pre></div></div></div><div class=\"sk-parallel\"><div class=\"sk-parallel-item\"><div class=\"sk-item\"><div class=\"sk-label-container\"><div class=\"sk-label sk-toggleable\"><input class=\"sk-toggleable__control sk-hidden--visually\" id=\"sk-estimator-id-75\" type=\"checkbox\" ><label for=\"sk-estimator-id-75\" class=\"sk-toggleable__label sk-toggleable__label-arrow\">onehotencoder</label><div class=\"sk-toggleable__content\"><pre>&lt;sklearn.compose._column_transformer.make_column_selector object at 0x0000016C5979C6D0&gt;</pre></div></div></div><div class=\"sk-serial\"><div class=\"sk-item\"><div class=\"sk-estimator sk-toggleable\"><input class=\"sk-toggleable__control sk-hidden--visually\" id=\"sk-estimator-id-76\" type=\"checkbox\" ><label for=\"sk-estimator-id-76\" class=\"sk-toggleable__label sk-toggleable__label-arrow\">OneHotEncoder</label><div class=\"sk-toggleable__content\"><pre>OneHotEncoder(handle_unknown=&#x27;ignore&#x27;)</pre></div></div></div></div></div></div><div class=\"sk-parallel-item\"><div class=\"sk-item\"><div class=\"sk-label-container\"><div class=\"sk-label sk-toggleable\"><input class=\"sk-toggleable__control sk-hidden--visually\" id=\"sk-estimator-id-77\" type=\"checkbox\" ><label for=\"sk-estimator-id-77\" class=\"sk-toggleable__label sk-toggleable__label-arrow\">standardscaler</label><div class=\"sk-toggleable__content\"><pre>&lt;sklearn.compose._column_transformer.make_column_selector object at 0x0000016C596F67D0&gt;</pre></div></div></div><div class=\"sk-serial\"><div class=\"sk-item\"><div class=\"sk-estimator sk-toggleable\"><input class=\"sk-toggleable__control sk-hidden--visually\" id=\"sk-estimator-id-78\" type=\"checkbox\" ><label for=\"sk-estimator-id-78\" class=\"sk-toggleable__label sk-toggleable__label-arrow\">StandardScaler</label><div class=\"sk-toggleable__content\"><pre>StandardScaler()</pre></div></div></div></div></div></div><div class=\"sk-parallel-item\"><div class=\"sk-item\"><div class=\"sk-label-container\"><div class=\"sk-label sk-toggleable\"><input class=\"sk-toggleable__control sk-hidden--visually\" id=\"sk-estimator-id-79\" type=\"checkbox\" ><label for=\"sk-estimator-id-79\" class=\"sk-toggleable__label sk-toggleable__label-arrow\">remainder</label><div class=\"sk-toggleable__content\"><pre>[]</pre></div></div></div><div class=\"sk-serial\"><div class=\"sk-item\"><div class=\"sk-estimator sk-toggleable\"><input class=\"sk-toggleable__control sk-hidden--visually\" id=\"sk-estimator-id-80\" type=\"checkbox\" ><label for=\"sk-estimator-id-80\" class=\"sk-toggleable__label sk-toggleable__label-arrow\">passthrough</label><div class=\"sk-toggleable__content\"><pre>passthrough</pre></div></div></div></div></div></div></div></div><div class=\"sk-item\"><div class=\"sk-estimator sk-toggleable\"><input class=\"sk-toggleable__control sk-hidden--visually\" id=\"sk-estimator-id-81\" type=\"checkbox\" ><label for=\"sk-estimator-id-81\" class=\"sk-toggleable__label sk-toggleable__label-arrow\">RandomForestClassifier</label><div class=\"sk-toggleable__content\"><pre>RandomForestClassifier(class_weight=&#x27;balanced&#x27;, random_state=42)</pre></div></div></div></div></div></div></div>"
      ],
      "text/plain": [
       "Pipeline(steps=[('columntransformer',\n",
       "                 ColumnTransformer(remainder='passthrough',\n",
       "                                   transformers=[('onehotencoder',\n",
       "                                                  OneHotEncoder(handle_unknown='ignore'),\n",
       "                                                  <sklearn.compose._column_transformer.make_column_selector object at 0x0000016C5979C6D0>),\n",
       "                                                 ('standardscaler',\n",
       "                                                  StandardScaler(),\n",
       "                                                  <sklearn.compose._column_transformer.make_column_selector object at 0x0000016C596F67D0>)])),\n",
       "                ('randomforestclassifier',\n",
       "                 RandomForestClassifier(class_weight='balanced',\n",
       "                                        random_state=42))])"
      ]
     },
     "execution_count": 226,
     "metadata": {},
     "output_type": "execute_result"
    }
   ],
   "source": [
    "model_hsgpa.fit(X_train_hsgpa, y_train_hsgpa)"
   ]
  },
  {
   "cell_type": "code",
   "execution_count": 227,
   "id": "9b3bea8a",
   "metadata": {},
   "outputs": [
    {
     "data": {
      "text/plain": [
       "1.0"
      ]
     },
     "execution_count": 227,
     "metadata": {},
     "output_type": "execute_result"
    }
   ],
   "source": [
    "model_hsgpa.score(X_test_hsgpa, y_test_hsgpa)"
   ]
  },
  {
   "cell_type": "code",
   "execution_count": 228,
   "id": "f1e6fd17",
   "metadata": {},
   "outputs": [],
   "source": [
    "y_pred_gpa = model_gpa.predict(X_test_gpa)\n",
    "y_pred_hsgpa = model_hsgpa.predict(X_test_hsgpa)"
   ]
  },
  {
   "cell_type": "markdown",
   "id": "383a263f",
   "metadata": {},
   "source": [
    "Evaluation des performances"
   ]
  },
  {
   "cell_type": "code",
   "execution_count": 229,
   "id": "b95f6f42",
   "metadata": {},
   "outputs": [],
   "source": [
    "from sklearn.metrics import accuracy_score, precision_score, recall_score, f1_score, confusion_matrix, roc_auc_score\n"
   ]
  },
  {
   "cell_type": "markdown",
   "id": "b9dad7f8",
   "metadata": {},
   "source": [
    "GPA metrics"
   ]
  },
  {
   "cell_type": "code",
   "execution_count": 230,
   "id": "12c3d866",
   "metadata": {},
   "outputs": [
    {
     "name": "stdout",
     "output_type": "stream",
     "text": [
      "Accuracy: 1.0\n",
      "Precision: 1.0\n",
      "Recall: 1.0\n",
      "F1 Score: 1.0\n",
      "Confusion Matrix:\n",
      " [[8311    0    0    0    0]\n",
      " [   0 4151    0    0    0]\n",
      " [   0    0 4245    0    0]\n",
      " [   0    0    0 4224    0]\n",
      " [   0    0    0    0 4133]]\n"
     ]
    }
   ],
   "source": [
    "print(\"Accuracy:\", accuracy_score(y_test_gpa, y_pred_gpa))\n",
    "print(\"Precision:\", precision_score(y_test_gpa, y_pred_gpa, average='weighted'))\n",
    "print(\"Recall:\", recall_score(y_test_gpa, y_pred_gpa, average='weighted'))\n",
    "print(\"F1 Score:\", f1_score(y_test_gpa, y_pred_gpa, average='weighted'))\n",
    "print(\"Confusion Matrix:\\n\", confusion_matrix(y_test_gpa, y_pred_gpa))"
   ]
  },
  {
   "cell_type": "markdown",
   "id": "0de3930a",
   "metadata": {},
   "source": [
    "HSGPA metrics"
   ]
  },
  {
   "cell_type": "code",
   "execution_count": 231,
   "id": "eef678ef",
   "metadata": {},
   "outputs": [
    {
     "name": "stdout",
     "output_type": "stream",
     "text": [
      "Accuracy: 1.0\n",
      "Precision: 1.0\n",
      "Recall: 1.0\n",
      "F1 Score: 1.0\n",
      "Confusion Matrix:\n",
      " [[6287    0    0    0]\n",
      " [   0 6288    0    0]\n",
      " [   0    0 6199    0]\n",
      " [   0    0    0 6290]]\n"
     ]
    }
   ],
   "source": [
    "print(\"Accuracy:\", accuracy_score(y_test_hsgpa, y_pred_hsgpa))\n",
    "print(\"Precision:\", precision_score(y_test_hsgpa, y_pred_hsgpa, average='weighted'))\n",
    "print(\"Recall:\", recall_score(y_test_hsgpa, y_pred_hsgpa, average='weighted'))\n",
    "print(\"F1 Score:\", f1_score(y_test_hsgpa, y_pred_hsgpa, average='weighted'))\n",
    "print(\"Confusion Matrix:\\n\", confusion_matrix(y_test_hsgpa, y_pred_hsgpa))"
   ]
  },
  {
   "cell_type": "markdown",
   "id": "5628864c",
   "metadata": {},
   "source": [
    "Verification s'il y pas des overfit ou underfit"
   ]
  },
  {
   "cell_type": "code",
   "execution_count": 233,
   "id": "f7cdce3f",
   "metadata": {},
   "outputs": [
    {
     "name": "stdout",
     "output_type": "stream",
     "text": [
      "Scores de validation croisée : [1. 1. 1. 1. 1.]\n",
      "Moyenne CV : 1.0\n"
     ]
    }
   ],
   "source": [
    "\n",
    "from sklearn.model_selection import cross_val_score\n",
    "\n",
    "scores = cross_val_score(model_gpa, X_train_gpa, y_train_gpa, cv=5, scoring='accuracy')\n",
    "\n",
    "print(\"Scores de validation croisée :\", scores)\n",
    "print(\"Moyenne CV :\", scores.mean())"
   ]
  },
  {
   "cell_type": "markdown",
   "id": "eb58394c",
   "metadata": {},
   "source": [
    "Enregistrement du modèle"
   ]
  },
  {
   "cell_type": "code",
   "execution_count": 236,
   "id": "82efcb2d",
   "metadata": {},
   "outputs": [
    {
     "data": {
      "text/plain": [
       "['models/model_hsgpa.pkl']"
      ]
     },
     "execution_count": 236,
     "metadata": {},
     "output_type": "execute_result"
    }
   ],
   "source": [
    "import joblib\n",
    "\n",
    "# Sauvegarde\n",
    "joblib.dump(model_gpa, \"models/model_gpa.pkl\")\n",
    "joblib.dump(model_hsgpa, \"models/model_hsgpa.pkl\")"
   ]
  },
  {
   "cell_type": "code",
   "execution_count": null,
   "id": "c964cfbc",
   "metadata": {},
   "outputs": [],
   "source": []
  }
 ],
 "metadata": {
  "kernelspec": {
   "display_name": "base",
   "language": "python",
   "name": "python3"
  },
  "language_info": {
   "codemirror_mode": {
    "name": "ipython",
    "version": 3
   },
   "file_extension": ".py",
   "mimetype": "text/x-python",
   "name": "python",
   "nbconvert_exporter": "python",
   "pygments_lexer": "ipython3",
   "version": "3.11.5"
  }
 },
 "nbformat": 4,
 "nbformat_minor": 5
}
